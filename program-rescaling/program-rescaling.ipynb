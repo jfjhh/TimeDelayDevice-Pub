{
 "cells": [
  {
   "cell_type": "markdown",
   "metadata": {},
   "source": [
    "# Offset and gain calculations for Due DAC to ADC opamps"
   ]
  },
  {
   "cell_type": "markdown",
   "metadata": {},
   "source": [
    "## Voltages that determine required offset and gain"
   ]
  },
  {
   "cell_type": "code",
   "execution_count": 1,
   "metadata": {},
   "outputs": [
    {
     "name": "stdout",
     "output_type": "stream",
     "text": [
      "Offset:\t-1.65 V\n",
      "Gain:\t2.2727272727272725 V\n"
     ]
    }
   ],
   "source": [
    "V_DL   = 3.3 * 1/6; # V. Due DAC0 minimum voltage\n",
    "V_DH   = 3.3 * 5/6; # V. Due DAC0 maximum voltage\n",
    "V_AL   = -2.5;      # V. ADC input minimum voltage\n",
    "V_AH   = 2.5;       # V. ADC input maximum voltage\n",
    "offset = ((V_AH + V_AL) - (V_DH + V_DL)) / 2.; # V\n",
    "gain   = (V_AH - V_AL) / (V_DH - V_DL); # V/V\n",
    "println(\"Offset:\\t\", offset, \" V\\nGain:\\t\", gain, \" V\");"
   ]
  },
  {
   "cell_type": "markdown",
   "metadata": {},
   "source": [
    "## Choice of resistor tolerance range (the E-series to use)"
   ]
  },
  {
   "cell_type": "code",
   "execution_count": 2,
   "metadata": {
    "collapsed": true,
    "scrolled": true
   },
   "outputs": [],
   "source": [
    "E3  = [1.0, 2.2, 4.7]; # Very common\n",
    "E24 = [\n",
    "    1.0, 1.1, 1.2, 1.3, 1.5,\n",
    "    1.6, 1.8, 2.0, 2.2, 2.4,\n",
    "    2.7, 3.0, 3.3, 3.6, 3.9,\n",
    "    4.3, 4.7, 5.1, 5.6, 6.2,\n",
    "    6.8, 7.5, 8.2, 9.1\n",
    "]; # 5% tolerance"
   ]
  },
  {
   "cell_type": "code",
   "execution_count": 3,
   "metadata": {
    "collapsed": true
   },
   "outputs": [],
   "source": [
    "E_series = E24;"
   ]
  },
  {
   "cell_type": "markdown",
   "metadata": {},
   "source": [
    "Evaluates $f$ on all possible combinations of resistors in a given E-series."
   ]
  },
  {
   "cell_type": "code",
   "execution_count": 4,
   "metadata": {},
   "outputs": [
    {
     "data": {
      "text/plain": [
       "combinations (generic function with 1 method)"
      ]
     },
     "execution_count": 4,
     "metadata": {},
     "output_type": "execute_result"
    }
   ],
   "source": [
    "function combinations(E, f)\n",
    "    span = 1:length(E)\n",
    "    [[f(E[i], E[j]), E[i], E[j]]\n",
    "        for i in span for j in span] # [[f(x, y), x, y]]\n",
    "end"
   ]
  },
  {
   "cell_type": "markdown",
   "metadata": {},
   "source": [
    "Finds the nearest E-series value to the value given."
   ]
  },
  {
   "cell_type": "code",
   "execution_count": 5,
   "metadata": {},
   "outputs": [
    {
     "data": {
      "text/plain": [
       "nearest (generic function with 1 method)"
      ]
     },
     "execution_count": 5,
     "metadata": {},
     "output_type": "execute_result"
    }
   ],
   "source": [
    "function nearest(E, x)\n",
    "    p = floor(log10(x));\n",
    "    y = x / 10^p;\n",
    "    best = first(sort(E, lt = (a, b) -> abs(y - a) < abs(y - b)));\n",
    "    best * 10^p;\n",
    "end"
   ]
  },
  {
   "cell_type": "markdown",
   "metadata": {},
   "source": [
    "## Offset component selection calculations"
   ]
  },
  {
   "cell_type": "markdown",
   "metadata": {},
   "source": [
    "Improved calculation of the output voltage of the `LM4041-ADJ` where $V_\\text{ref}$ depends upon $V_O$ (`V_Onom` here)."
   ]
  },
  {
   "cell_type": "code",
   "execution_count": 6,
   "metadata": {
    "scrolled": true
   },
   "outputs": [
    {
     "name": "stdout",
     "output_type": "stream",
     "text": [
      "V_ref = 1.2393645 V\n"
     ]
    }
   ],
   "source": [
    "V_Onom = abs(offset); # V\n",
    "V_Y = 1.240; # V\n",
    "ΔV_O = V_Onom - V_Y; # V\n",
    "ΔV_ref_ΔV_O = -1.55e-3; # V/V. Absolute worst case: -3 mV/V\n",
    "V_ref = V_Y + ΔV_O * ΔV_ref_ΔV_O; # V\n",
    "R2_to_R1 = (V_Onom / V_ref) - 1.; # Ω/Ω\n",
    "VO(ratio) = V_ref * (ratio + 1.);\n",
    "println(\"V_ref = \", V_ref, \" V\");"
   ]
  },
  {
   "cell_type": "markdown",
   "metadata": {},
   "source": [
    "Selection parameters."
   ]
  },
  {
   "cell_type": "code",
   "execution_count": 7,
   "metadata": {},
   "outputs": [
    {
     "name": "stdout",
     "output_type": "stream",
     "text": [
      "We want a resistor ratio of 0.33132746661696366 Ω/Ω and 1.0% nominal tolerance.\n"
     ]
    }
   ],
   "source": [
    "ratio_tolerance = 1.; # %\n",
    "RV_off = 1.0e3; # Ω\n",
    "println(\"We want a resistor ratio of \", R2_to_R1, \" Ω/Ω and \",\n",
    "    ratio_tolerance, \"% nominal tolerance.\");"
   ]
  },
  {
   "cell_type": "markdown",
   "metadata": {},
   "source": [
    "Calculate the best resistors to choose to give the best nominal ratio."
   ]
  },
  {
   "cell_type": "code",
   "execution_count": 8,
   "metadata": {},
   "outputs": [
    {
     "data": {
      "text/plain": [
       "3-element Array{Array{Float64,1},1}:\n",
       " [0.333333, 1.1, 4.3]\n",
       " [0.333333, 2.4, 8.2]\n",
       " [0.333333, 2.7, 9.1]"
      ]
     },
     "metadata": {},
     "output_type": "display_data"
    },
    {
     "name": "stdout",
     "output_type": "stream",
     "text": [
      "Best offset resistor values:\n",
      "R2: 1.1 kΩ\n",
      "R1: 4.3 kΩ\n"
     ]
    }
   ],
   "source": [
    "offset_ratio(x, y, off) = (x + 0.5 * off) / (y + 0.5 * off);\n",
    "# Divide RV_off by 1e3 so that it is at the same scale as the E-series values.\n",
    "off_ratios     = combinations(E_series,\n",
    "    # [[Ω/Ω, Ω, Ω]]. [[ratio, R2, R1]]\n",
    "    (x, y) -> offset_ratio(x, y, RV_off / 1e3));\n",
    "off_ratios_tol = filter(x -> ratio_tolerance / 100. > abs(1. - x[1] / R2_to_R1),\n",
    "    off_ratios); # [[Ω/Ω, Ω, Ω]]\n",
    "off_ratios_s   = sort(off_ratios_tol, lt = (x, y) -> isless(abs(x[1] - R2_to_R1),\n",
    "        abs(y[1] - R2_to_R1))); # [[Ω/Ω, Ω, Ω]]\n",
    "if (length(off_ratios_s) > 0)\n",
    "    R1 = off_ratios_s[1][3] * 1e3; # Ω\n",
    "    R2 = off_ratios_s[1][2] * 1e3; # Ω\n",
    "    display(off_ratios_s);\n",
    "    println(\"Best offset resistor values:\\n\",\n",
    "        \"R2: \", R2 / 1e3, \" kΩ\\n\",\n",
    "        \"R1: \", R1 / 1e3, \" kΩ\");\n",
    "else\n",
    "    println(\"No combinations give a \", ratio_tolerance, \"% offset tolerance.\");\n",
    "end"
   ]
  },
  {
   "cell_type": "markdown",
   "metadata": {},
   "source": [
    "Calculate the margins of adjustability when a potentiometer is inserted between the two resistors."
   ]
  },
  {
   "cell_type": "code",
   "execution_count": 9,
   "metadata": {
    "collapsed": true
   },
   "outputs": [],
   "source": [
    "VO_simple(ratio) = 1.233 * (ratio + 1.);"
   ]
  },
  {
   "cell_type": "code",
   "execution_count": 10,
   "metadata": {},
   "outputs": [
    {
     "name": "stdout",
     "output_type": "stream",
     "text": [
      "Low:\t1.4965910943396226 V\n",
      "High:\t1.844635534883721 V\n",
      "S Low:\t1.4889056603773585 V\n",
      "S High:\t1.8351627906976746 V\n",
      "Offset margins **after amplification** for a 1.0 kΩ potentiometer:\n",
      "Low margin:\t-348.65660377358483 mV\t(-9.297509433962265%)\n",
      "High margin:\t442.3534883720931 mV\t(11.796093023255818%)\n",
      "Total margin:\t791.010092145678 mV\t(21.093602457218083%)\n"
     ]
    }
   ],
   "source": [
    "ratio_min = R2 / (R1 + RV_off);\n",
    "ratio_max = (R2 + RV_off) / R1;\n",
    "println(\"Low:\\t\", VO(ratio_min), \" V\");\n",
    "println(\"High:\\t\", VO(ratio_max), \" V\");\n",
    "println(\"S Low:\\t\", VO_simple(ratio_min), \" V\");\n",
    "println(\"S High:\\t\", VO_simple(ratio_max), \" V\");\n",
    "V_O_low   = VO(ratio_min) - V_Onom; # V. Negative margin away from V_Onom\n",
    "V_O_high  = VO(ratio_max) - V_Onom; # V. Positive margin away from V_Onom\n",
    "V_O_total = V_O_high - V_O_low;     # V. Total argin away from V_Onom\n",
    "println(\"Offset margins **after amplification** for a \",\n",
    "    RV_off / 1e3, \" kΩ potentiometer:\\n\",\n",
    "    \"Low margin:\\t\",   V_O_low   * 1e3 * gain,\" mV\\t(\",\n",
    "    100. * V_O_low   / V_Onom, \"%)\\n\",\n",
    "    \"High margin:\\t\",  V_O_high  * 1e3 * gain, \" mV\\t(\",\n",
    "    100. * V_O_high  / V_Onom, \"%)\\n\",\n",
    "    \"Total margin:\\t\", V_O_total * 1e3 * gain, \" mV\\t(\",\n",
    "    100. * V_O_total / V_Onom, \"%)\");"
   ]
  },
  {
   "cell_type": "markdown",
   "metadata": {},
   "source": [
    "### `LM4041-ADJ` resistor selection"
   ]
  },
  {
   "cell_type": "code",
   "execution_count": 11,
   "metadata": {},
   "outputs": [
    {
     "name": "stdout",
     "output_type": "stream",
     "text": [
      "Best resistor for the LM4041-ADJ (I_load = 0.2578125 mA):\n",
      "R_ref:\t1.1 kΩ\n",
      "I_ref:\t3.045454545454546 mA\t(-3.558094552651698%)\n",
      "Power:\t10.202272727272728 mW\n"
     ]
    }
   ],
   "source": [
    "Vcc_ref = 5.; # V\n",
    "V_R_ref = Vcc_ref - V_Onom; # V\n",
    "R_load = R1 + RV_off + R2; # Ω\n",
    "I_load = V_Onom / R_load; # A\n",
    "I_Q = 2.9e-3; # A\n",
    "I_t = I_Q + I_load;\n",
    "R_ref = nearest(E_series, V_R_ref / I_t); # Ω\n",
    "I_ref = V_R_ref / R_ref; # A\n",
    "println(\"Best resistor for the LM4041-ADJ (I_load = \", I_load * 1e3, \" mA):\\n\",\n",
    "    \"R_ref:\\t\", R_ref / 1e3, \" kΩ\\n\",\n",
    "    \"I_ref:\\t\", I_ref * 1e3, \" mA\\t(\", 100. * (I_ref - I_t) / I_t, \"%)\\n\",\n",
    "    \"Power:\\t\", V_R_ref * I_ref * 1e3, \" mW\");"
   ]
  },
  {
   "cell_type": "markdown",
   "metadata": {},
   "source": [
    "## Gain component selection calculations"
   ]
  },
  {
   "cell_type": "markdown",
   "metadata": {},
   "source": [
    "Selection parameters."
   ]
  },
  {
   "cell_type": "code",
   "execution_count": 12,
   "metadata": {},
   "outputs": [
    {
     "name": "stdout",
     "output_type": "stream",
     "text": [
      "We want a resistor divider with a gain of 2.2727272727272725 V/V and 1.0% nominal tolerance.\n"
     ]
    }
   ],
   "source": [
    "div_tolerance = 1.; # %\n",
    "RV_gain = 1.0e3 # Ω\n",
    "#div_nom = 1. / gain;\n",
    "div_nom = 5.0 / 2.2;\n",
    "println(\"We want a resistor divider with a gain of \", div_nom, \" V/V and \",\n",
    "    div_tolerance, \"% nominal tolerance.\");"
   ]
  },
  {
   "cell_type": "markdown",
   "metadata": {},
   "source": [
    "Calculate the best resistors to choose to give the best nominal resistor divider."
   ]
  },
  {
   "cell_type": "code",
   "execution_count": 13,
   "metadata": {},
   "outputs": [
    {
     "data": {
      "text/plain": [
       "13-element Array{Array{Float64,1},1}:\n",
       " [2.27273, 3.9, 5.1]\n",
       " [2.27083, 4.3, 5.6]\n",
       " [2.26829, 3.6, 4.7]\n",
       " [2.27778, 1.3, 1.8]\n",
       " [2.28, 2.0, 2.7]   \n",
       " [2.28125, 2.7, 3.6]\n",
       " [2.26316, 3.3, 4.3]\n",
       " [2.26087, 1.8, 2.4]\n",
       " [2.28571, 1.6, 2.2]\n",
       " [2.25714, 3.0, 3.9]\n",
       " [2.28846, 4.7, 6.2]\n",
       " [2.25, 1.1, 1.5]   \n",
       " [2.25, 1.5, 2.0]   "
      ]
     },
     "metadata": {},
     "output_type": "display_data"
    },
    {
     "name": "stdout",
     "output_type": "stream",
     "text": [
      "Best gain resistor values:\n",
      "Ra: 5.1 kΩ\n",
      "Rb: 3.9 kΩ\n"
     ]
    }
   ],
   "source": [
    "# For noninverting gain configuration\n",
    "offset_divider(x, y, off) = 1. + (y + 0.5 * off) / (x + 0.5 * off);\n",
    "# Divide RV_gain by 1e3 so that it is at the same scale as the E-series values.\n",
    "gain_divs = combinations(E_series, # [[Ω/Ω, Ω, Ω]]. [[ratio, Rb, Ra]]\n",
    "    (x, y) -> offset_divider(x, y, RV_gain / 1e3));\n",
    "gain_divs_tol = filter(x -> div_tolerance / 100. > abs(1. - x[1] / div_nom),\n",
    "    gain_divs); # [[Ω/Ω, Ω, Ω]]\n",
    "gain_divs_s   = sort(gain_divs_tol, # [[Ω/Ω, Ω, Ω]]\n",
    "    lt = (x, y) -> isless(abs(x[1] - div_nom), abs(y[1] - div_nom)));\n",
    "if (length(gain_divs_s) > 0)\n",
    "    Ra = gain_divs_s[1][3] * 1e3; # Ω\n",
    "    Rb = gain_divs_s[1][2] * 1e3; # Ω\n",
    "    display(gain_divs_s);\n",
    "    println(\"Best gain resistor values:\\n\",\n",
    "        \"Ra: \", Ra / 1e3, \" kΩ\\n\",\n",
    "        \"Rb: \", Rb / 1e3, \" kΩ\");\n",
    "else\n",
    "    println(\"No combinations give a \", div_tolerance, \"% gain tolerance.\");\n",
    "end"
   ]
  },
  {
   "cell_type": "markdown",
   "metadata": {},
   "source": [
    "Calculate the margins of adjustability when a potentiometer is inserted between the two resistors."
   ]
  },
  {
   "cell_type": "code",
   "execution_count": 14,
   "metadata": {},
   "outputs": [
    {
     "name": "stdout",
     "output_type": "stream",
     "text": [
      "Gain margins for a 1.0 kΩ potentiometer:\n",
      "Low margin:\t-1882.7272727272723 mV\t(-82.83999999999999%)\n",
      "High margin:\t-1782.7272727272725 mV\t(-78.44%)\n",
      "Total margin:\t99.99999999999987 mV\t(4.399999999999994%)\n"
     ]
    }
   ],
   "source": [
    "div_min   = Rb / (Ra + Rb + RV_gain);\n",
    "div_max   = (Rb + RV_gain) / (Ra + Rb + RV_gain);\n",
    "div_low   = div_min  - div_nom; # V. Negative margin away from V_Onom\n",
    "div_high  = div_max  - div_nom; # V. Positive margin away from V_Onom\n",
    "div_total = div_high - div_low; # V. Total margin away from V_Onom\n",
    "println(\"Gain margins for a \", RV_gain / 1e3, \" kΩ potentiometer:\\n\",\n",
    "    \"Low margin:\\t\",   div_low   * 1e3, \" mV\\t(\",\n",
    "    100. * div_low   / div_nom, \"%)\\n\",\n",
    "    \"High margin:\\t\",  div_high  * 1e3, \" mV\\t(\",\n",
    "    100. * div_high  / div_nom, \"%)\\n\",\n",
    "    \"Total margin:\\t\", div_total * 1e3, \" mV\\t(\",\n",
    "    100. * div_total / div_nom, \"%)\");"
   ]
  }
 ],
 "metadata": {
  "kernelspec": {
   "display_name": "Julia 1.1.0",
   "language": "julia",
   "name": "julia-1.1"
  },
  "language_info": {
   "file_extension": ".jl",
   "mimetype": "application/julia",
   "name": "julia",
   "version": "1.1.0"
  }
 },
 "nbformat": 4,
 "nbformat_minor": 2
}
