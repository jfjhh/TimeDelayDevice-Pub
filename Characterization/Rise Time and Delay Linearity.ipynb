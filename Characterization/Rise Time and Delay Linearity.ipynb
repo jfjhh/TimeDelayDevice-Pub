{
 "cells": [
  {
   "cell_type": "code",
   "execution_count": 309,
   "metadata": {},
   "outputs": [
    {
     "data": {
      "text/plain": [
       "Plots.GRBackend()"
      ]
     },
     "execution_count": 309,
     "metadata": {},
     "output_type": "execute_result"
    }
   ],
   "source": [
    "using StatsBase\n",
    "using Statistics\n",
    "using CSV\n",
    "using Plots\n",
    "using StatsPlots\n",
    "using TikzPictures\n",
    "using DSP\n",
    "using Measurements\n",
    "\n",
    "#pgfplots()\n",
    "#tikzCommand(\"lualatex\") # The default. Dynamically allocates more memory, unlike PDFLaTeX\n",
    "gr()"
   ]
  },
  {
   "cell_type": "code",
   "execution_count": 310,
   "metadata": {},
   "outputs": [
    {
     "data": {
      "text/plain": [
       "1.1492676743389036e-9"
      ]
     },
     "execution_count": 310,
     "metadata": {},
     "output_type": "execute_result"
    }
   ],
   "source": [
    "rtdata = CSV.File(\"./data/Tek004.csv\"; header=false)\n",
    "rtweights = FrequencyWeights(rtdata.Column2)\n",
    "rt = mean(rtdata.Column1, rtweights)\n",
    "rtσ = std(rtdata.Column1, rtweights, corrected=true)"
   ]
  },
  {
   "cell_type": "code",
   "execution_count": 311,
   "metadata": {},
   "outputs": [
    {
     "data": {
      "text/plain": [
       "1.290866506382043e-7"
      ]
     },
     "execution_count": 311,
     "metadata": {},
     "output_type": "execute_result"
    }
   ],
   "source": [
    "rtσ /= 4 # For a 1 Vpp square wave edge\n",
    "rt /= 4"
   ]
  },
  {
   "cell_type": "markdown",
   "metadata": {},
   "source": [
    "The steps in the error plots are in single-digit intervals, so the results should taken with a grain of salt"
   ]
  },
  {
   "cell_type": "code",
   "execution_count": 312,
   "metadata": {},
   "outputs": [
    {
     "data": {
      "image/svg+xml": [
       "<?xml version=\"1.0\" encoding=\"utf-8\"?>\n",
       "<svg xmlns=\"http://www.w3.org/2000/svg\" xmlns:xlink=\"http://www.w3.org/1999/xlink\" width=\"600\" height=\"400\" viewBox=\"0 0 2400 1600\">\n",
       "<defs>\n",
       "  <clipPath id=\"clip4500\">\n",
       "    <rect x=\"0\" y=\"0\" width=\"2400\" height=\"1600\"/>\n",
       "  </clipPath>\n",
       "</defs>\n",
       "<polygon clip-path=\"url(#clip4500)\" points=\"\n",
       "0,1600 2400,1600 2400,0 0,0 \n",
       "  \" fill=\"#ffffff\" fill-rule=\"evenodd\" fill-opacity=\"1\"/>\n",
       "<defs>\n",
       "  <clipPath id=\"clip4501\">\n",
       "    <rect x=\"480\" y=\"0\" width=\"1681\" height=\"1600\"/>\n",
       "  </clipPath>\n",
       "</defs>\n",
       "<polygon clip-path=\"url(#clip4500)\" points=\"\n",
       "229.135,1425.62 2352.76,1425.62 2352.76,47.2441 229.135,47.2441 \n",
       "  \" fill=\"#ffffff\" fill-rule=\"evenodd\" fill-opacity=\"1\"/>\n",
       "<defs>\n",
       "  <clipPath id=\"clip4502\">\n",
       "    <rect x=\"229\" y=\"47\" width=\"2125\" height=\"1379\"/>\n",
       "  </clipPath>\n",
       "</defs>\n",
       "<polyline clip-path=\"url(#clip4502)\" style=\"stroke:#000000; stroke-width:2; stroke-opacity:0.1; fill:none\" points=\"\n",
       "  229.135,1425.62 229.135,47.2441 \n",
       "  \"/>\n",
       "<polyline clip-path=\"url(#clip4502)\" style=\"stroke:#000000; stroke-width:2; stroke-opacity:0.1; fill:none\" points=\"\n",
       "  532.51,1425.62 532.51,47.2441 \n",
       "  \"/>\n",
       "<polyline clip-path=\"url(#clip4502)\" style=\"stroke:#000000; stroke-width:2; stroke-opacity:0.1; fill:none\" points=\"\n",
       "  835.884,1425.62 835.884,47.2441 \n",
       "  \"/>\n",
       "<polyline clip-path=\"url(#clip4502)\" style=\"stroke:#000000; stroke-width:2; stroke-opacity:0.1; fill:none\" points=\"\n",
       "  1139.26,1425.62 1139.26,47.2441 \n",
       "  \"/>\n",
       "<polyline clip-path=\"url(#clip4502)\" style=\"stroke:#000000; stroke-width:2; stroke-opacity:0.1; fill:none\" points=\"\n",
       "  1442.63,1425.62 1442.63,47.2441 \n",
       "  \"/>\n",
       "<polyline clip-path=\"url(#clip4502)\" style=\"stroke:#000000; stroke-width:2; stroke-opacity:0.1; fill:none\" points=\"\n",
       "  1746.01,1425.62 1746.01,47.2441 \n",
       "  \"/>\n",
       "<polyline clip-path=\"url(#clip4502)\" style=\"stroke:#000000; stroke-width:2; stroke-opacity:0.1; fill:none\" points=\"\n",
       "  2049.38,1425.62 2049.38,47.2441 \n",
       "  \"/>\n",
       "<polyline clip-path=\"url(#clip4502)\" style=\"stroke:#000000; stroke-width:2; stroke-opacity:0.1; fill:none\" points=\"\n",
       "  2352.76,1425.62 2352.76,47.2441 \n",
       "  \"/>\n",
       "<polyline clip-path=\"url(#clip4502)\" style=\"stroke:#000000; stroke-width:2; stroke-opacity:0.1; fill:none\" points=\"\n",
       "  229.135,1197.49 2352.76,1197.49 \n",
       "  \"/>\n",
       "<polyline clip-path=\"url(#clip4502)\" style=\"stroke:#000000; stroke-width:2; stroke-opacity:0.1; fill:none\" points=\"\n",
       "  229.135,872.405 2352.76,872.405 \n",
       "  \"/>\n",
       "<polyline clip-path=\"url(#clip4502)\" style=\"stroke:#000000; stroke-width:2; stroke-opacity:0.1; fill:none\" points=\"\n",
       "  229.135,547.317 2352.76,547.317 \n",
       "  \"/>\n",
       "<polyline clip-path=\"url(#clip4502)\" style=\"stroke:#000000; stroke-width:2; stroke-opacity:0.1; fill:none\" points=\"\n",
       "  229.135,222.228 2352.76,222.228 \n",
       "  \"/>\n",
       "<polyline clip-path=\"url(#clip4500)\" style=\"stroke:#000000; stroke-width:4; stroke-opacity:1; fill:none\" points=\"\n",
       "  229.135,1425.62 2352.76,1425.62 \n",
       "  \"/>\n",
       "<polyline clip-path=\"url(#clip4500)\" style=\"stroke:#000000; stroke-width:4; stroke-opacity:1; fill:none\" points=\"\n",
       "  229.135,1425.62 229.135,47.2441 \n",
       "  \"/>\n",
       "<polyline clip-path=\"url(#clip4500)\" style=\"stroke:#000000; stroke-width:4; stroke-opacity:1; fill:none\" points=\"\n",
       "  229.135,1425.62 229.135,1404.94 \n",
       "  \"/>\n",
       "<polyline clip-path=\"url(#clip4500)\" style=\"stroke:#000000; stroke-width:4; stroke-opacity:1; fill:none\" points=\"\n",
       "  532.51,1425.62 532.51,1404.94 \n",
       "  \"/>\n",
       "<polyline clip-path=\"url(#clip4500)\" style=\"stroke:#000000; stroke-width:4; stroke-opacity:1; fill:none\" points=\"\n",
       "  835.884,1425.62 835.884,1404.94 \n",
       "  \"/>\n",
       "<polyline clip-path=\"url(#clip4500)\" style=\"stroke:#000000; stroke-width:4; stroke-opacity:1; fill:none\" points=\"\n",
       "  1139.26,1425.62 1139.26,1404.94 \n",
       "  \"/>\n",
       "<polyline clip-path=\"url(#clip4500)\" style=\"stroke:#000000; stroke-width:4; stroke-opacity:1; fill:none\" points=\"\n",
       "  1442.63,1425.62 1442.63,1404.94 \n",
       "  \"/>\n",
       "<polyline clip-path=\"url(#clip4500)\" style=\"stroke:#000000; stroke-width:4; stroke-opacity:1; fill:none\" points=\"\n",
       "  1746.01,1425.62 1746.01,1404.94 \n",
       "  \"/>\n",
       "<polyline clip-path=\"url(#clip4500)\" style=\"stroke:#000000; stroke-width:4; stroke-opacity:1; fill:none\" points=\"\n",
       "  2049.38,1425.62 2049.38,1404.94 \n",
       "  \"/>\n",
       "<polyline clip-path=\"url(#clip4500)\" style=\"stroke:#000000; stroke-width:4; stroke-opacity:1; fill:none\" points=\"\n",
       "  2352.76,1425.62 2352.76,1404.94 \n",
       "  \"/>\n",
       "<polyline clip-path=\"url(#clip4500)\" style=\"stroke:#000000; stroke-width:4; stroke-opacity:1; fill:none\" points=\"\n",
       "  229.135,1197.49 260.99,1197.49 \n",
       "  \"/>\n",
       "<polyline clip-path=\"url(#clip4500)\" style=\"stroke:#000000; stroke-width:4; stroke-opacity:1; fill:none\" points=\"\n",
       "  229.135,872.405 260.99,872.405 \n",
       "  \"/>\n",
       "<polyline clip-path=\"url(#clip4500)\" style=\"stroke:#000000; stroke-width:4; stroke-opacity:1; fill:none\" points=\"\n",
       "  229.135,547.317 260.99,547.317 \n",
       "  \"/>\n",
       "<polyline clip-path=\"url(#clip4500)\" style=\"stroke:#000000; stroke-width:4; stroke-opacity:1; fill:none\" points=\"\n",
       "  229.135,222.228 260.99,222.228 \n",
       "  \"/>\n",
       "<g clip-path=\"url(#clip4500)\">\n",
       "<text style=\"fill:#000000; fill-opacity:1; font-family:Arial,Helvetica Neue,Helvetica,sans-serif; font-size:48px; text-anchor:middle;\" transform=\"rotate(0, 229.135, 1479.62)\" x=\"229.135\" y=\"1479.62\">10</text>\n",
       "</g>\n",
       "<g clip-path=\"url(#clip4500)\">\n",
       "<text style=\"fill:#000000; fill-opacity:1; font-family:Arial,Helvetica Neue,Helvetica,sans-serif; font-size:48px; text-anchor:middle;\" transform=\"rotate(0, 532.51, 1479.62)\" x=\"532.51\" y=\"1479.62\">20</text>\n",
       "</g>\n",
       "<g clip-path=\"url(#clip4500)\">\n",
       "<text style=\"fill:#000000; fill-opacity:1; font-family:Arial,Helvetica Neue,Helvetica,sans-serif; font-size:48px; text-anchor:middle;\" transform=\"rotate(0, 835.884, 1479.62)\" x=\"835.884\" y=\"1479.62\">30</text>\n",
       "</g>\n",
       "<g clip-path=\"url(#clip4500)\">\n",
       "<text style=\"fill:#000000; fill-opacity:1; font-family:Arial,Helvetica Neue,Helvetica,sans-serif; font-size:48px; text-anchor:middle;\" transform=\"rotate(0, 1139.26, 1479.62)\" x=\"1139.26\" y=\"1479.62\">40</text>\n",
       "</g>\n",
       "<g clip-path=\"url(#clip4500)\">\n",
       "<text style=\"fill:#000000; fill-opacity:1; font-family:Arial,Helvetica Neue,Helvetica,sans-serif; font-size:48px; text-anchor:middle;\" transform=\"rotate(0, 1442.63, 1479.62)\" x=\"1442.63\" y=\"1479.62\">50</text>\n",
       "</g>\n",
       "<g clip-path=\"url(#clip4500)\">\n",
       "<text style=\"fill:#000000; fill-opacity:1; font-family:Arial,Helvetica Neue,Helvetica,sans-serif; font-size:48px; text-anchor:middle;\" transform=\"rotate(0, 1746.01, 1479.62)\" x=\"1746.01\" y=\"1479.62\">60</text>\n",
       "</g>\n",
       "<g clip-path=\"url(#clip4500)\">\n",
       "<text style=\"fill:#000000; fill-opacity:1; font-family:Arial,Helvetica Neue,Helvetica,sans-serif; font-size:48px; text-anchor:middle;\" transform=\"rotate(0, 2049.38, 1479.62)\" x=\"2049.38\" y=\"1479.62\">70</text>\n",
       "</g>\n",
       "<g clip-path=\"url(#clip4500)\">\n",
       "<text style=\"fill:#000000; fill-opacity:1; font-family:Arial,Helvetica Neue,Helvetica,sans-serif; font-size:48px; text-anchor:middle;\" transform=\"rotate(0, 2352.76, 1479.62)\" x=\"2352.76\" y=\"1479.62\">80</text>\n",
       "</g>\n",
       "<g clip-path=\"url(#clip4500)\">\n",
       "<text style=\"fill:#000000; fill-opacity:1; font-family:Arial,Helvetica Neue,Helvetica,sans-serif; font-size:48px; text-anchor:end;\" transform=\"rotate(0, 205.135, 1214.99)\" x=\"205.135\" y=\"1214.99\">0</text>\n",
       "</g>\n",
       "<g clip-path=\"url(#clip4500)\">\n",
       "<text style=\"fill:#000000; fill-opacity:1; font-family:Arial,Helvetica Neue,Helvetica,sans-serif; font-size:48px; text-anchor:end;\" transform=\"rotate(0, 205.135, 889.905)\" x=\"205.135\" y=\"889.905\">50</text>\n",
       "</g>\n",
       "<g clip-path=\"url(#clip4500)\">\n",
       "<text style=\"fill:#000000; fill-opacity:1; font-family:Arial,Helvetica Neue,Helvetica,sans-serif; font-size:48px; text-anchor:end;\" transform=\"rotate(0, 205.135, 564.817)\" x=\"205.135\" y=\"564.817\">100</text>\n",
       "</g>\n",
       "<g clip-path=\"url(#clip4500)\">\n",
       "<text style=\"fill:#000000; fill-opacity:1; font-family:Arial,Helvetica Neue,Helvetica,sans-serif; font-size:48px; text-anchor:end;\" transform=\"rotate(0, 205.135, 239.728)\" x=\"205.135\" y=\"239.728\">150</text>\n",
       "</g>\n",
       "<g clip-path=\"url(#clip4500)\">\n",
       "<text style=\"fill:#000000; fill-opacity:1; font-family:Arial,Helvetica Neue,Helvetica,sans-serif; font-size:66px; text-anchor:middle;\" transform=\"rotate(0, 1290.95, 1559.48)\" x=\"1290.95\" y=\"1559.48\">Delay Words</text>\n",
       "</g>\n",
       "<g clip-path=\"url(#clip4500)\">\n",
       "<text style=\"fill:#000000; fill-opacity:1; font-family:Arial,Helvetica Neue,Helvetica,sans-serif; font-size:66px; text-anchor:middle;\" transform=\"rotate(-90, 89.2861, 736.431)\" x=\"89.2861\" y=\"736.431\">Risetime-corrected Delay Error (ns)</text>\n",
       "</g>\n",
       "<polyline clip-path=\"url(#clip4502)\" style=\"stroke:#009af9; stroke-width:4; stroke-opacity:1; fill:none\" points=\"\n",
       "  259.473,736.431 289.81,736.431 320.148,86.2547 350.485,736.431 380.822,736.431 411.16,736.431 441.497,736.431 471.835,736.431 502.172,736.431 532.51,86.2547 \n",
       "  835.884,736.431 1139.26,736.431 1442.63,736.431 1746.01,1197.49 2049.38,1197.49 2352.76,1197.49 2656.13,1197.49 2959.5,1197.49 5993.25,1197.49 9026.99,1197.49 \n",
       "  12060.7,1197.49 15094.5,1197.49 18128.2,1197.49 21162,1197.49 24195.7,1197.49 27229.5,1197.49 30263.2,1197.49 60600.6,1197.49 90938.1,1197.49 121276,1197.49 \n",
       "  151613,1197.49 181950,1197.49 212288,1197.49 242625,1197.49 272963,1197.49 \n",
       "  \"/>\n",
       "<polyline clip-path=\"url(#clip4502)\" style=\"stroke:#e26f46; stroke-width:4; stroke-opacity:1; fill:none\" points=\"\n",
       "  259.473,736.431 289.81,1386.61 320.148,1386.61 350.485,1386.61 380.822,1386.61 411.16,1386.61 441.497,736.431 471.835,1386.61 502.172,736.431 532.51,1386.61 \n",
       "  835.884,1386.61 1139.26,1386.61 1442.63,1386.61 1746.01,1197.49 2049.38,1197.49 2352.76,1197.49 2656.13,1197.49 2959.5,1197.49 5993.25,1197.49 9026.99,1197.49 \n",
       "  12060.7,1197.49 15094.5,1197.49 18128.2,1197.49 21162,1197.49 24195.7,1197.49 27229.5,1197.49 30263.2,1197.49 60600.6,1197.49 90938.1,1197.49 121276,1197.49 \n",
       "  151613,1197.49 181950,1197.49 212288,1197.49 242625,1197.49 272963,1197.49 \n",
       "  \"/>\n",
       "<polygon clip-path=\"url(#clip4500)\" points=\"\n",
       "1703.77,312.204 2280.76,312.204 2280.76,130.764 1703.77,130.764 \n",
       "  \" fill=\"#ffffff\" fill-rule=\"evenodd\" fill-opacity=\"1\"/>\n",
       "<polyline clip-path=\"url(#clip4500)\" style=\"stroke:#000000; stroke-width:4; stroke-opacity:1; fill:none\" points=\"\n",
       "  1703.77,312.204 2280.76,312.204 2280.76,130.764 1703.77,130.764 1703.77,312.204 \n",
       "  \"/>\n",
       "<polyline clip-path=\"url(#clip4500)\" style=\"stroke:#009af9; stroke-width:4; stroke-opacity:1; fill:none\" points=\"\n",
       "  1727.77,191.244 1871.77,191.244 \n",
       "  \"/>\n",
       "<g clip-path=\"url(#clip4500)\">\n",
       "<text style=\"fill:#000000; fill-opacity:1; font-family:Arial,Helvetica Neue,Helvetica,sans-serif; font-size:48px; text-anchor:start;\" transform=\"rotate(0, 1895.77, 208.744)\" x=\"1895.77\" y=\"208.744\">Minimum delay</text>\n",
       "</g>\n",
       "<polyline clip-path=\"url(#clip4500)\" style=\"stroke:#e26f46; stroke-width:4; stroke-opacity:1; fill:none\" points=\"\n",
       "  1727.77,251.724 1871.77,251.724 \n",
       "  \"/>\n",
       "<g clip-path=\"url(#clip4500)\">\n",
       "<text style=\"fill:#000000; fill-opacity:1; font-family:Arial,Helvetica Neue,Helvetica,sans-serif; font-size:48px; text-anchor:start;\" transform=\"rotate(0, 1895.77, 269.224)\" x=\"1895.77\" y=\"269.224\">Maximum delay</text>\n",
       "</g>\n",
       "</svg>\n"
      ]
     },
     "execution_count": 312,
     "metadata": {},
     "output_type": "execute_result"
    }
   ],
   "source": [
    "dlimit=35;\n",
    "ddata = CSV.File(\"./delay_linearity.csv\"; skipto=2, limit=dlimit, header=[:min, :max, :swords, :na, :clock, :signal, :rt]);\n",
    "rtcorrection = vcat(repeat([rt], 13), zeros(dlimit-13));\n",
    "minerr = 1e-3.*ddata.min .- (ddata.swords .* 20e-6) .+ 20e-6 - rtcorrection;\n",
    "maxerr = 1e-3.*ddata.max .- (ddata.swords .* 20e-6) - rtcorrection;\n",
    "plot(ddata.swords, [minerr, maxerr] ./ 1e-9,\n",
    "    xlim=(10,80), xlabel=\"Delay Words\", ylabel=\"Risetime-corrected Delay Error (ns)\",\n",
    "    label=[\"Minimum delay\", \"Maximum delay\"])"
   ]
  },
  {
   "cell_type": "code",
   "execution_count": 313,
   "metadata": {},
   "outputs": [
    {
     "data": {
      "text/plain": [
       "40.14411859255405"
      ]
     },
     "execution_count": 313,
     "metadata": {},
     "output_type": "execute_result"
    }
   ],
   "source": [
    "pt = mean(map(mean, [minerr[1:13], maxerr[1:13]])) ./ 1e-9 # *Roughly estimated* propagation delay (ns)"
   ]
  },
  {
   "cell_type": "code",
   "execution_count": 314,
   "metadata": {},
   "outputs": [
    {
     "data": {
      "text/latex": [
       "$-1.023 \\pm 0.095$"
      ],
      "text/plain": [
       "-1.023 ± 0.095"
      ]
     },
     "execution_count": 314,
     "metadata": {},
     "output_type": "execute_result"
    }
   ],
   "source": [
    "meandata = CSV.File(\"./data/diffmean2.csv\"; header=false);\n",
    "meanweights = FrequencyWeights(meandata.Column2);\n",
    "diffμ = mean(meandata.Column1, meanweights);\n",
    "diffμσ = std(meandata.Column1, meanweights, corrected=true);\n",
    "(diffμ ± diffμσ) * 1e3 # mV"
   ]
  },
  {
   "cell_type": "code",
   "execution_count": 315,
   "metadata": {},
   "outputs": [
    {
     "data": {
      "text/latex": [
       "$1.035 \\pm 0.058$"
      ],
      "text/plain": [
       "1.035 ± 0.058"
      ]
     },
     "execution_count": 315,
     "metadata": {},
     "output_type": "execute_result"
    }
   ],
   "source": [
    "acrmsdata = CSV.File(\"./data/diffacrms2.csv\"; header=false);\n",
    "acrmsweights = FrequencyWeights(acrmsdata.Column2);\n",
    "diffσ = mean(acrmsdata.Column1, acrmsweights);\n",
    "diffσσ = std(acrmsdata.Column1, acrmsweights, corrected=true);\n",
    "(diffσ ± diffσσ) * 1e3 # mV (RMS)"
   ]
  },
  {
   "cell_type": "code",
   "execution_count": 316,
   "metadata": {},
   "outputs": [
    {
     "data": {
      "text/plain": [
       "CSV.File(\"./data/500HzDiff100MHz.csv\"):\n",
       "Size: 1250000 x 2\n",
       "Tables.Schema:\n",
       " :t  Float64\n",
       " :v  Float64"
      ]
     },
     "execution_count": 316,
     "metadata": {},
     "output_type": "execute_result"
    }
   ],
   "source": [
    "diff500 = CSV.File(\"./data/500HzDiff100MHz.csv\", skipto=10, header=[:t, :v]) # Oops: is actually 50 Hz"
   ]
  },
  {
   "cell_type": "code",
   "execution_count": 318,
   "metadata": {},
   "outputs": [],
   "source": [
    "#ddiff500t = resample(diff500.t, 1 // 10);\n",
    "#ddiff500v = resample(diff500.v, 1 // 10);\n",
    "ddiff500t = diff500.t;\n",
    "ddiff500v = diff500.v;"
   ]
  },
  {
   "cell_type": "code",
   "execution_count": 319,
   "metadata": {},
   "outputs": [
    {
     "data": {
      "text/plain": [
       "CSV.File(\"./data/5MHzDiff250MHz.csv\"):\n",
       "Size: 625000 x 2\n",
       "Tables.Schema:\n",
       " :t  Float64\n",
       " :v  Float64"
      ]
     },
     "execution_count": 319,
     "metadata": {},
     "output_type": "execute_result"
    }
   ],
   "source": [
    "diff5M = CSV.File(\"./data/5MHzDiff250MHz.csv\", skipto=10, header=[:t, :v]) # Oops: signal is 5 kHz"
   ]
  },
  {
   "cell_type": "code",
   "execution_count": 320,
   "metadata": {},
   "outputs": [],
   "source": [
    "#ddiff5Mt = resample(diff5M.t, 1 // 10);\n",
    "#ddiff5Mv = resample(diff5M.v, 1 // 10);\n",
    "ddiff5Mt = diff5M.t;\n",
    "ddiff5Mv = diff5M.v;"
   ]
  },
  {
   "cell_type": "code",
   "execution_count": 321,
   "metadata": {},
   "outputs": [],
   "source": [
    "p500 = plot(ddiff500t .* 50.0 * 360, ddiff500v .* 1e3, ylabel=\"Vin - Vout (mV)\",\n",
    "    xticks=-180:45:180, ylim=(-25, 25), legend=false, color=:black, linewidth=0.25);"
   ]
  },
  {
   "cell_type": "code",
   "execution_count": 322,
   "metadata": {},
   "outputs": [],
   "source": [
    "p500d = plot(ddiff500t .* 50.0 * 360, ddiff500v .* 1e3,\n",
    "    xticks=-5:1:5, xlim=(-3, 3), ylim=(-80, 20), legend=false, color=:black, linewidth=0.25);"
   ]
  },
  {
   "cell_type": "code",
   "execution_count": 323,
   "metadata": {},
   "outputs": [],
   "source": [
    "p5M = plot(ddiff5Mt .* 5e3 * 360, ddiff5Mv .* 1e3, xlabel=\"Phase (deg)\", ylabel=\"Vin - Vout (mV)\",\n",
    "    xticks=-180:45:180, ylim=(-25, 25), legend=false, color=:black, linewidth=0.25);"
   ]
  },
  {
   "cell_type": "code",
   "execution_count": 324,
   "metadata": {},
   "outputs": [],
   "source": [
    "p5Md = plot(ddiff5Mt .* 5e3 * 360, ddiff5Mv .* 1e3, xlabel=\"Phase (deg)\",\n",
    "    xticks=-5:1:5, xlim=(-3, 3), ylim=(-80, 20), legend=false, color=:black, linewidth=0.25);"
   ]
  },
  {
   "cell_type": "code",
   "execution_count": 325,
   "metadata": {},
   "outputs": [],
   "source": [
    "pdiffs = plot(p500, p500d, p5M, p5Md, layout = @layout [a b; c d]);"
   ]
  },
  {
   "cell_type": "code",
   "execution_count": 327,
   "metadata": {},
   "outputs": [],
   "source": [
    "savefig(pdiffs, \"pdiffs.pdf\")"
   ]
  },
  {
   "cell_type": "code",
   "execution_count": null,
   "metadata": {},
   "outputs": [],
   "source": []
  }
 ],
 "metadata": {
  "kernelspec": {
   "display_name": "Julia 1.1.1",
   "language": "julia",
   "name": "julia-1.1"
  },
  "language_info": {
   "file_extension": ".jl",
   "mimetype": "application/julia",
   "name": "julia",
   "version": "1.1.1"
  }
 },
 "nbformat": 4,
 "nbformat_minor": 2
}
