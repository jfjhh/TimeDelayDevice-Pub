{
 "cells": [
  {
   "cell_type": "code",
   "execution_count": 238,
   "metadata": {},
   "outputs": [
    {
     "data": {
      "text/plain": [
       "Plots.GRBackend()"
      ]
     },
     "execution_count": 238,
     "metadata": {},
     "output_type": "execute_result"
    }
   ],
   "source": [
    "using StatsBase\n",
    "using Statistics\n",
    "using CSV\n",
    "using Plots\n",
    "using StatsPlots\n",
    "using TikzPictures\n",
    "using DSP\n",
    "using Measurements\n",
    "using CRC\n",
    "using Optim\n",
    "using LaTeXStrings\n",
    "using Tables\n",
    "\n",
    "#pgfplots()\n",
    "#tikzCommand(\"lualatex\") # The default. Dynamically allocates more memory, unlike PDFLaTeX\n",
    "gr()"
   ]
  },
  {
   "cell_type": "markdown",
   "metadata": {},
   "source": [
    "Set publication-quality settings for plots."
   ]
  },
  {
   "cell_type": "code",
   "execution_count": 174,
   "metadata": {},
   "outputs": [],
   "source": [
    "upscale = 4 #8x upscaling in resolution\n",
    "fntsm = Plots.font(\"sans-serif\", pointsize=round(10.0*upscale))\n",
    "fntlg = Plots.font(\"sans-serif\", pointsize=round(14.0*upscale))\n",
    "default(titlefont=fntlg, guidefont=fntlg, tickfont=fntsm, legendfont=fntsm)\n",
    "default(size=(800*upscale,600*upscale)) #Plot canvas size\n",
    "#default(dpi=300) #Only for PyPlot - presently broken?"
   ]
  },
  {
   "cell_type": "markdown",
   "metadata": {},
   "source": [
    "# Delayed Signal Computations"
   ]
  },
  {
   "cell_type": "markdown",
   "metadata": {},
   "source": [
    "## DAC Rise Time"
   ]
  },
  {
   "cell_type": "code",
   "execution_count": 175,
   "metadata": {},
   "outputs": [
    {
     "data": {
      "text/plain": [
       "1.1492676743389036e-9"
      ]
     },
     "execution_count": 175,
     "metadata": {},
     "output_type": "execute_result"
    }
   ],
   "source": [
    "rtdata = CSV.File(\"./data/Tek004.csv\"; header=false)\n",
    "rtweights = FrequencyWeights(rtdata.Column2)\n",
    "rt = mean(rtdata.Column1, rtweights)\n",
    "rtσ = std(rtdata.Column1, rtweights, corrected=true)"
   ]
  },
  {
   "cell_type": "code",
   "execution_count": 176,
   "metadata": {},
   "outputs": [
    {
     "data": {
      "text/plain": [
       "1.290866506382043e-7"
      ]
     },
     "execution_count": 176,
     "metadata": {},
     "output_type": "execute_result"
    }
   ],
   "source": [
    "rtσ /= 4 # For a 1 Vpp square wave edge\n",
    "rt /= 4"
   ]
  },
  {
   "cell_type": "markdown",
   "metadata": {},
   "source": [
    "## Delay Error"
   ]
  },
  {
   "cell_type": "markdown",
   "metadata": {},
   "source": [
    "The steps in the error plots are from single-digits on the scope, so the results should taken with a grain of salt."
   ]
  },
  {
   "cell_type": "code",
   "execution_count": 177,
   "metadata": {
    "scrolled": false
   },
   "outputs": [
    {
     "data": {
      "image/svg+xml": [
       "<?xml version=\"1.0\" encoding=\"utf-8\"?>\n",
       "<svg xmlns=\"http://www.w3.org/2000/svg\" xmlns:xlink=\"http://www.w3.org/1999/xlink\" width=\"3200\" height=\"2400\" viewBox=\"0 0 12800 9600\">\n",
       "<defs>\n",
       "  <clipPath id=\"clip4200\">\n",
       "    <rect x=\"0\" y=\"0\" width=\"12800\" height=\"9600\"/>\n",
       "  </clipPath>\n",
       "</defs>\n",
       "<polygon clip-path=\"url(#clip4200)\" points=\"\n",
       "0,9600 12800,9600 12800,0 0,0 \n",
       "  \" fill=\"#ffffff\" fill-rule=\"evenodd\" fill-opacity=\"1\"/>\n",
       "<defs>\n",
       "  <clipPath id=\"clip4201\">\n",
       "    <rect x=\"2560\" y=\"0\" width=\"8961\" height=\"8961\"/>\n",
       "  </clipPath>\n",
       "</defs>\n",
       "<polygon clip-path=\"url(#clip4200)\" points=\"\n",
       "760.249,9056.56 12752.8,9056.56 12752.8,47.2441 760.249,47.2441 \n",
       "  \" fill=\"#ffffff\" fill-rule=\"evenodd\" fill-opacity=\"1\"/>\n",
       "<defs>\n",
       "  <clipPath id=\"clip4202\">\n",
       "    <rect x=\"760\" y=\"47\" width=\"11994\" height=\"9010\"/>\n",
       "  </clipPath>\n",
       "</defs>\n",
       "<polyline clip-path=\"url(#clip4202)\" style=\"stroke:#000000; stroke-width:2; stroke-opacity:0.1; fill:none\" points=\"\n",
       "  760.249,9056.56 760.249,47.2441 \n",
       "  \"/>\n",
       "<polyline clip-path=\"url(#clip4202)\" style=\"stroke:#000000; stroke-width:2; stroke-opacity:0.1; fill:none\" points=\"\n",
       "  2473.46,9056.56 2473.46,47.2441 \n",
       "  \"/>\n",
       "<polyline clip-path=\"url(#clip4202)\" style=\"stroke:#000000; stroke-width:2; stroke-opacity:0.1; fill:none\" points=\"\n",
       "  4186.68,9056.56 4186.68,47.2441 \n",
       "  \"/>\n",
       "<polyline clip-path=\"url(#clip4202)\" style=\"stroke:#000000; stroke-width:2; stroke-opacity:0.1; fill:none\" points=\"\n",
       "  5899.89,9056.56 5899.89,47.2441 \n",
       "  \"/>\n",
       "<polyline clip-path=\"url(#clip4202)\" style=\"stroke:#000000; stroke-width:2; stroke-opacity:0.1; fill:none\" points=\"\n",
       "  7613.11,9056.56 7613.11,47.2441 \n",
       "  \"/>\n",
       "<polyline clip-path=\"url(#clip4202)\" style=\"stroke:#000000; stroke-width:2; stroke-opacity:0.1; fill:none\" points=\"\n",
       "  9326.33,9056.56 9326.33,47.2441 \n",
       "  \"/>\n",
       "<polyline clip-path=\"url(#clip4202)\" style=\"stroke:#000000; stroke-width:2; stroke-opacity:0.1; fill:none\" points=\"\n",
       "  11039.5,9056.56 11039.5,47.2441 \n",
       "  \"/>\n",
       "<polyline clip-path=\"url(#clip4202)\" style=\"stroke:#000000; stroke-width:2; stroke-opacity:0.1; fill:none\" points=\"\n",
       "  12752.8,9056.56 12752.8,47.2441 \n",
       "  \"/>\n",
       "<polyline clip-path=\"url(#clip4202)\" style=\"stroke:#000000; stroke-width:2; stroke-opacity:0.1; fill:none\" points=\"\n",
       "  760.249,7565.49 12752.8,7565.49 \n",
       "  \"/>\n",
       "<polyline clip-path=\"url(#clip4202)\" style=\"stroke:#000000; stroke-width:2; stroke-opacity:0.1; fill:none\" points=\"\n",
       "  760.249,5440.65 12752.8,5440.65 \n",
       "  \"/>\n",
       "<polyline clip-path=\"url(#clip4202)\" style=\"stroke:#000000; stroke-width:2; stroke-opacity:0.1; fill:none\" points=\"\n",
       "  760.249,3315.81 12752.8,3315.81 \n",
       "  \"/>\n",
       "<polyline clip-path=\"url(#clip4202)\" style=\"stroke:#000000; stroke-width:2; stroke-opacity:0.1; fill:none\" points=\"\n",
       "  760.249,1190.97 12752.8,1190.97 \n",
       "  \"/>\n",
       "<polyline clip-path=\"url(#clip4200)\" style=\"stroke:#000000; stroke-width:4; stroke-opacity:1; fill:none\" points=\"\n",
       "  760.249,9056.56 12752.8,9056.56 \n",
       "  \"/>\n",
       "<polyline clip-path=\"url(#clip4200)\" style=\"stroke:#000000; stroke-width:4; stroke-opacity:1; fill:none\" points=\"\n",
       "  760.249,9056.56 760.249,47.2441 \n",
       "  \"/>\n",
       "<polyline clip-path=\"url(#clip4200)\" style=\"stroke:#000000; stroke-width:4; stroke-opacity:1; fill:none\" points=\"\n",
       "  760.249,9056.56 760.249,8921.42 \n",
       "  \"/>\n",
       "<polyline clip-path=\"url(#clip4200)\" style=\"stroke:#000000; stroke-width:4; stroke-opacity:1; fill:none\" points=\"\n",
       "  2473.46,9056.56 2473.46,8921.42 \n",
       "  \"/>\n",
       "<polyline clip-path=\"url(#clip4200)\" style=\"stroke:#000000; stroke-width:4; stroke-opacity:1; fill:none\" points=\"\n",
       "  4186.68,9056.56 4186.68,8921.42 \n",
       "  \"/>\n",
       "<polyline clip-path=\"url(#clip4200)\" style=\"stroke:#000000; stroke-width:4; stroke-opacity:1; fill:none\" points=\"\n",
       "  5899.89,9056.56 5899.89,8921.42 \n",
       "  \"/>\n",
       "<polyline clip-path=\"url(#clip4200)\" style=\"stroke:#000000; stroke-width:4; stroke-opacity:1; fill:none\" points=\"\n",
       "  7613.11,9056.56 7613.11,8921.42 \n",
       "  \"/>\n",
       "<polyline clip-path=\"url(#clip4200)\" style=\"stroke:#000000; stroke-width:4; stroke-opacity:1; fill:none\" points=\"\n",
       "  9326.33,9056.56 9326.33,8921.42 \n",
       "  \"/>\n",
       "<polyline clip-path=\"url(#clip4200)\" style=\"stroke:#000000; stroke-width:4; stroke-opacity:1; fill:none\" points=\"\n",
       "  11039.5,9056.56 11039.5,8921.42 \n",
       "  \"/>\n",
       "<polyline clip-path=\"url(#clip4200)\" style=\"stroke:#000000; stroke-width:4; stroke-opacity:1; fill:none\" points=\"\n",
       "  12752.8,9056.56 12752.8,8921.42 \n",
       "  \"/>\n",
       "<polyline clip-path=\"url(#clip4200)\" style=\"stroke:#000000; stroke-width:4; stroke-opacity:1; fill:none\" points=\"\n",
       "  760.249,7565.49 940.136,7565.49 \n",
       "  \"/>\n",
       "<polyline clip-path=\"url(#clip4200)\" style=\"stroke:#000000; stroke-width:4; stroke-opacity:1; fill:none\" points=\"\n",
       "  760.249,5440.65 940.136,5440.65 \n",
       "  \"/>\n",
       "<polyline clip-path=\"url(#clip4200)\" style=\"stroke:#000000; stroke-width:4; stroke-opacity:1; fill:none\" points=\"\n",
       "  760.249,3315.81 940.136,3315.81 \n",
       "  \"/>\n",
       "<polyline clip-path=\"url(#clip4200)\" style=\"stroke:#000000; stroke-width:4; stroke-opacity:1; fill:none\" points=\"\n",
       "  760.249,1190.97 940.136,1190.97 \n",
       "  \"/>\n",
       "<g clip-path=\"url(#clip4200)\">\n",
       "<text style=\"fill:#000000; fill-opacity:1; font-family:Arial,Helvetica Neue,Helvetica,sans-serif; font-size:237px; text-anchor:middle;\" transform=\"rotate(0, 760.249, 9328.16)\" x=\"760.249\" y=\"9328.16\">10</text>\n",
       "</g>\n",
       "<g clip-path=\"url(#clip4200)\">\n",
       "<text style=\"fill:#000000; fill-opacity:1; font-family:Arial,Helvetica Neue,Helvetica,sans-serif; font-size:237px; text-anchor:middle;\" transform=\"rotate(0, 2473.46, 9328.16)\" x=\"2473.46\" y=\"9328.16\">20</text>\n",
       "</g>\n",
       "<g clip-path=\"url(#clip4200)\">\n",
       "<text style=\"fill:#000000; fill-opacity:1; font-family:Arial,Helvetica Neue,Helvetica,sans-serif; font-size:237px; text-anchor:middle;\" transform=\"rotate(0, 4186.68, 9328.16)\" x=\"4186.68\" y=\"9328.16\">30</text>\n",
       "</g>\n",
       "<g clip-path=\"url(#clip4200)\">\n",
       "<text style=\"fill:#000000; fill-opacity:1; font-family:Arial,Helvetica Neue,Helvetica,sans-serif; font-size:237px; text-anchor:middle;\" transform=\"rotate(0, 5899.89, 9328.16)\" x=\"5899.89\" y=\"9328.16\">40</text>\n",
       "</g>\n",
       "<g clip-path=\"url(#clip4200)\">\n",
       "<text style=\"fill:#000000; fill-opacity:1; font-family:Arial,Helvetica Neue,Helvetica,sans-serif; font-size:237px; text-anchor:middle;\" transform=\"rotate(0, 7613.11, 9328.16)\" x=\"7613.11\" y=\"9328.16\">50</text>\n",
       "</g>\n",
       "<g clip-path=\"url(#clip4200)\">\n",
       "<text style=\"fill:#000000; fill-opacity:1; font-family:Arial,Helvetica Neue,Helvetica,sans-serif; font-size:237px; text-anchor:middle;\" transform=\"rotate(0, 9326.33, 9328.16)\" x=\"9326.33\" y=\"9328.16\">60</text>\n",
       "</g>\n",
       "<g clip-path=\"url(#clip4200)\">\n",
       "<text style=\"fill:#000000; fill-opacity:1; font-family:Arial,Helvetica Neue,Helvetica,sans-serif; font-size:237px; text-anchor:middle;\" transform=\"rotate(0, 11039.5, 9328.16)\" x=\"11039.5\" y=\"9328.16\">70</text>\n",
       "</g>\n",
       "<g clip-path=\"url(#clip4200)\">\n",
       "<text style=\"fill:#000000; fill-opacity:1; font-family:Arial,Helvetica Neue,Helvetica,sans-serif; font-size:237px; text-anchor:middle;\" transform=\"rotate(0, 12752.8, 9328.16)\" x=\"12752.8\" y=\"9328.16\">80</text>\n",
       "</g>\n",
       "<g clip-path=\"url(#clip4200)\">\n",
       "<text style=\"fill:#000000; fill-opacity:1; font-family:Arial,Helvetica Neue,Helvetica,sans-serif; font-size:237px; text-anchor:end;\" transform=\"rotate(0, 632.249, 7651.99)\" x=\"632.249\" y=\"7651.99\">0</text>\n",
       "</g>\n",
       "<g clip-path=\"url(#clip4200)\">\n",
       "<text style=\"fill:#000000; fill-opacity:1; font-family:Arial,Helvetica Neue,Helvetica,sans-serif; font-size:237px; text-anchor:end;\" transform=\"rotate(0, 632.249, 5527.15)\" x=\"632.249\" y=\"5527.15\">50</text>\n",
       "</g>\n",
       "<g clip-path=\"url(#clip4200)\">\n",
       "<text style=\"fill:#000000; fill-opacity:1; font-family:Arial,Helvetica Neue,Helvetica,sans-serif; font-size:237px; text-anchor:end;\" transform=\"rotate(0, 632.249, 3402.31)\" x=\"632.249\" y=\"3402.31\">100</text>\n",
       "</g>\n",
       "<g clip-path=\"url(#clip4200)\">\n",
       "<text style=\"fill:#000000; fill-opacity:1; font-family:Arial,Helvetica Neue,Helvetica,sans-serif; font-size:237px; text-anchor:end;\" transform=\"rotate(0, 632.249, 1277.47)\" x=\"632.249\" y=\"1277.47\">150</text>\n",
       "</g>\n",
       "<g clip-path=\"url(#clip4200)\">\n",
       "<text style=\"fill:#000000; fill-opacity:1; font-family:Arial,Helvetica Neue,Helvetica,sans-serif; font-size:332px; text-anchor:middle;\" transform=\"rotate(0, 6756.5, 9739.76)\" x=\"6756.5\" y=\"9739.76\">Delay Words</text>\n",
       "</g>\n",
       "<g clip-path=\"url(#clip4200)\">\n",
       "<text style=\"fill:#000000; fill-opacity:1; font-family:Arial,Helvetica Neue,Helvetica,sans-serif; font-size:332px; text-anchor:middle;\" transform=\"rotate(-90, 41.1156, 4551.9)\" x=\"41.1156\" y=\"4551.9\">Risetime-corrected Delay Error (ns)</text>\n",
       "</g>\n",
       "<polyline clip-path=\"url(#clip4202)\" style=\"stroke:#009af9; stroke-width:4; stroke-opacity:1; fill:none\" points=\"\n",
       "  931.57,4551.9 1102.89,4551.9 1274.21,302.225 1445.53,4551.9 1616.86,4551.9 1788.18,4551.9 1959.5,4551.9 2130.82,4551.9 2302.14,4551.9 2473.46,302.225 \n",
       "  4186.68,4551.9 5899.89,4551.9 7613.11,4551.9 9326.33,7565.49 11039.5,7565.49 12752.8,7565.49 14466,7565.49 16179.2,7565.49 33311.3,7565.49 50443.5,7565.49 \n",
       "  67575.6,7565.49 84707.8,7565.49 101840,7565.49 118972,7565.49 136104,7565.49 153236,7565.49 170369,7565.49 341690,7565.49 513012,7565.49 684333,7565.49 \n",
       "  855655,7565.49 1.02698e+006,7565.49 1.1983e+006,7565.49 1.36962e+006,7565.49 1.54094e+006,7565.49 \n",
       "  \"/>\n",
       "<polyline clip-path=\"url(#clip4202)\" style=\"stroke:#e26f46; stroke-width:4; stroke-opacity:1; fill:none\" points=\"\n",
       "  931.57,4551.9 1102.89,8801.58 1274.21,8801.58 1445.53,8801.58 1616.86,8801.58 1788.18,8801.58 1959.5,4551.9 2130.82,8801.58 2302.14,4551.9 2473.46,8801.58 \n",
       "  4186.68,8801.58 5899.89,8801.58 7613.11,8801.58 9326.33,7565.49 11039.5,7565.49 12752.8,7565.49 14466,7565.49 16179.2,7565.49 33311.3,7565.49 50443.5,7565.49 \n",
       "  67575.6,7565.49 84707.8,7565.49 101840,7565.49 118972,7565.49 136104,7565.49 153236,7565.49 170369,7565.49 341690,7565.49 513012,7565.49 684333,7565.49 \n",
       "  855655,7565.49 1.02698e+006,7565.49 1.1983e+006,7565.49 1.36962e+006,7565.49 1.54094e+006,7565.49 \n",
       "  \"/>\n",
       "<polygon clip-path=\"url(#clip4200)\" points=\"\n",
       "9403.84,1420.04 12368.8,1420.04 12368.8,512.844 9403.84,512.844 \n",
       "  \" fill=\"#ffffff\" fill-rule=\"evenodd\" fill-opacity=\"1\"/>\n",
       "<polyline clip-path=\"url(#clip4200)\" style=\"stroke:#000000; stroke-width:4; stroke-opacity:1; fill:none\" points=\"\n",
       "  9403.84,1420.04 12368.8,1420.04 12368.8,512.844 9403.84,512.844 9403.84,1420.04 \n",
       "  \"/>\n",
       "<polyline clip-path=\"url(#clip4200)\" style=\"stroke:#009af9; stroke-width:4; stroke-opacity:1; fill:none\" points=\"\n",
       "  9531.84,815.244 10299.8,815.244 \n",
       "  \"/>\n",
       "<g clip-path=\"url(#clip4200)\">\n",
       "<text style=\"fill:#000000; fill-opacity:1; font-family:Arial,Helvetica Neue,Helvetica,sans-serif; font-size:237px; text-anchor:start;\" transform=\"rotate(0, 10427.8, 901.744)\" x=\"10427.8\" y=\"901.744\">Minimum delay</text>\n",
       "</g>\n",
       "<polyline clip-path=\"url(#clip4200)\" style=\"stroke:#e26f46; stroke-width:4; stroke-opacity:1; fill:none\" points=\"\n",
       "  9531.84,1117.64 10299.8,1117.64 \n",
       "  \"/>\n",
       "<g clip-path=\"url(#clip4200)\">\n",
       "<text style=\"fill:#000000; fill-opacity:1; font-family:Arial,Helvetica Neue,Helvetica,sans-serif; font-size:237px; text-anchor:start;\" transform=\"rotate(0, 10427.8, 1204.14)\" x=\"10427.8\" y=\"1204.14\">Maximum delay</text>\n",
       "</g>\n",
       "</svg>\n"
      ]
     },
     "execution_count": 177,
     "metadata": {},
     "output_type": "execute_result"
    }
   ],
   "source": [
    "dlimit=35;\n",
    "ddata = CSV.File(\"./delay_linearity.csv\"; skipto=2, limit=dlimit, header=[:min, :max, :swords, :na, :clock, :signal, :rt]);\n",
    "rtcorrection = vcat(repeat([rt], 13), zeros(dlimit-13));\n",
    "minerr = 1e-3.*ddata.min .- (ddata.swords .* 20e-6) .+ 20e-6 - rtcorrection;\n",
    "maxerr = 1e-3.*ddata.max .- (ddata.swords .* 20e-6) - rtcorrection;\n",
    "plot(ddata.swords, [minerr, maxerr] ./ 1e-9,\n",
    "    xlim=(10,80), xlabel=\"Delay Words\", ylabel=\"Risetime-corrected Delay Error (ns)\",\n",
    "    label=[\"Minimum delay\", \"Maximum delay\"])"
   ]
  },
  {
   "cell_type": "code",
   "execution_count": 178,
   "metadata": {},
   "outputs": [
    {
     "data": {
      "text/plain": [
       "9000"
      ]
     },
     "execution_count": 178,
     "metadata": {},
     "output_type": "execute_result"
    }
   ],
   "source": [
    "last(ddata.swords)"
   ]
  },
  {
   "cell_type": "code",
   "execution_count": 179,
   "metadata": {},
   "outputs": [
    {
     "data": {
      "text/plain": [
       "0.00020007091334936177"
      ]
     },
     "execution_count": 179,
     "metadata": {},
     "output_type": "execute_result"
    }
   ],
   "source": [
    "first(ddmin)"
   ]
  },
  {
   "cell_type": "markdown",
   "metadata": {},
   "source": [
    "Clock is at 50 kHz."
   ]
  },
  {
   "cell_type": "code",
   "execution_count": 180,
   "metadata": {},
   "outputs": [],
   "source": [
    "ddmin = 1e-3.*ddata.min .- rtcorrection;\n",
    "ddmax = 1e-3.*ddata.max .- rtcorrection;\n",
    "ddplot = plot(ddata.swords, [ddmin, ddmax] .* 1e3,\n",
    "    xlim=(10,10e3), xlabel=\"Delay Words\", ylabel=\"Risetime-corrected Delay (log ms)\",\n",
    "    xscale=:log10, yscale=:log10, marker=(:cross), markersize=2, legend=:topleft,\n",
    "    label=[\"Minimum delay\", \"Maximum delay\"]);"
   ]
  },
  {
   "cell_type": "code",
   "execution_count": 181,
   "metadata": {},
   "outputs": [],
   "source": [
    "savefig(ddplot, \"ddplot.png\")"
   ]
  },
  {
   "cell_type": "markdown",
   "metadata": {},
   "source": [
    "## Estimated Internal Propagation Delay"
   ]
  },
  {
   "cell_type": "markdown",
   "metadata": {},
   "source": [
    "Roughly estimated from risetime-corrected delay data."
   ]
  },
  {
   "cell_type": "code",
   "execution_count": 182,
   "metadata": {},
   "outputs": [
    {
     "data": {
      "text/plain": [
       "40.14411859255405"
      ]
     },
     "execution_count": 182,
     "metadata": {},
     "output_type": "execute_result"
    }
   ],
   "source": [
    "pt = mean(map(mean, [minerr[1:13], maxerr[1:13]])) ./ 1e-9 # ns"
   ]
  },
  {
   "cell_type": "markdown",
   "metadata": {},
   "source": [
    "## In-Out Difference Mean"
   ]
  },
  {
   "cell_type": "code",
   "execution_count": 183,
   "metadata": {},
   "outputs": [
    {
     "data": {
      "text/latex": [
       "$-1.023 \\pm 0.095$"
      ],
      "text/plain": [
       "-1.023 ± 0.095"
      ]
     },
     "execution_count": 183,
     "metadata": {},
     "output_type": "execute_result"
    }
   ],
   "source": [
    "meandata = CSV.File(\"./data/diffmean2.csv\"; header=false);\n",
    "meanweights = FrequencyWeights(meandata.Column2);\n",
    "diffμ = mean(meandata.Column1, meanweights);\n",
    "diffμσ = std(meandata.Column1, meanweights, corrected=true);\n",
    "(diffμ ± diffμσ) * 1e3 # mV"
   ]
  },
  {
   "cell_type": "markdown",
   "metadata": {},
   "source": [
    "## In-Out Difference ACRMS (Standard Deviation)"
   ]
  },
  {
   "cell_type": "code",
   "execution_count": 184,
   "metadata": {},
   "outputs": [
    {
     "data": {
      "text/latex": [
       "$1.035 \\pm 0.058$"
      ],
      "text/plain": [
       "1.035 ± 0.058"
      ]
     },
     "execution_count": 184,
     "metadata": {},
     "output_type": "execute_result"
    }
   ],
   "source": [
    "acrmsdata = CSV.File(\"./data/diffacrms2.csv\"; header=false);\n",
    "acrmsweights = FrequencyWeights(acrmsdata.Column2);\n",
    "diffσ = mean(acrmsdata.Column1, acrmsweights);\n",
    "diffσσ = std(acrmsdata.Column1, acrmsweights, corrected=true);\n",
    "(diffσ ± diffσσ) * 1e3 # mV (RMS)"
   ]
  },
  {
   "cell_type": "markdown",
   "metadata": {},
   "source": [
    "# Output Plots"
   ]
  },
  {
   "cell_type": "markdown",
   "metadata": {},
   "source": [
    "- Input: 50 Hz sine wave.\n",
    "- Clock: 50 kHz.\n",
    "- Delay: 1000 swords.\n",
    "- Measurement Bandwidth: 100 MHz."
   ]
  },
  {
   "cell_type": "code",
   "execution_count": 185,
   "metadata": {},
   "outputs": [
    {
     "data": {
      "text/plain": [
       "CSV.File(\"./data/500HzDiff100MHz.csv\"):\n",
       "Size: 1250000 x 2\n",
       "Tables.Schema:\n",
       " :t  Float64\n",
       " :v  Float64"
      ]
     },
     "execution_count": 185,
     "metadata": {},
     "output_type": "execute_result"
    }
   ],
   "source": [
    "diff500 = CSV.File(\"./data/500HzDiff100MHz.csv\", skipto=10, header=[:t, :v]) # Oops: is actually 50 Hz"
   ]
  },
  {
   "cell_type": "code",
   "execution_count": 186,
   "metadata": {},
   "outputs": [],
   "source": [
    "# Resample/decimate for faster plotting\n",
    "#ddiff500t = resample(diff500.t, 1 // 10);\n",
    "#ddiff500v = resample(diff500.v, 1 // 10);\n",
    "\n",
    "ddiff500t = diff500.t;\n",
    "ddiff500v = diff500.v;"
   ]
  },
  {
   "cell_type": "markdown",
   "metadata": {},
   "source": [
    "- Input: 5 kHz sine wave.\n",
    "- Clock: 5 MHz.\n",
    "- Delay: 1000 swords.\n",
    "- Measurement Bandwidth: 250 MHz."
   ]
  },
  {
   "cell_type": "code",
   "execution_count": 187,
   "metadata": {},
   "outputs": [
    {
     "data": {
      "text/plain": [
       "CSV.File(\"./data/5MHzDiff250MHz.csv\"):\n",
       "Size: 625000 x 2\n",
       "Tables.Schema:\n",
       " :t  Float64\n",
       " :v  Float64"
      ]
     },
     "execution_count": 187,
     "metadata": {},
     "output_type": "execute_result"
    }
   ],
   "source": [
    "diff5M = CSV.File(\"./data/5MHzDiff250MHz.csv\", skipto=10, header=[:t, :v]) # Oops: signal is 5 kHz"
   ]
  },
  {
   "cell_type": "code",
   "execution_count": 188,
   "metadata": {},
   "outputs": [],
   "source": [
    "# Resample/decimate for faster plotting\n",
    "#ddiff5Mt = resample(diff5M.t, 1 // 10);\n",
    "#ddiff5Mv = resample(diff5M.v, 1 // 10);\n",
    "\n",
    "ddiff5Mt = diff5M.t;\n",
    "ddiff5Mv = diff5M.v;"
   ]
  },
  {
   "cell_type": "markdown",
   "metadata": {},
   "source": [
    "Generate all of the plots."
   ]
  },
  {
   "cell_type": "code",
   "execution_count": 189,
   "metadata": {},
   "outputs": [],
   "source": [
    "p500 = plot(ddiff500t .* 50.0 * 360, ddiff500v .* 1e3, ylabel=\"Vin - Vout (mV)\",\n",
    "    xticks=-180:45:180, ylim=(-25, 25), legend=false, color=:black, linewidth=0.25);"
   ]
  },
  {
   "cell_type": "code",
   "execution_count": 190,
   "metadata": {},
   "outputs": [],
   "source": [
    "p500d = plot(ddiff500t .* 50.0 * 360, ddiff500v .* 1e3,\n",
    "    xticks=-5:1:5, xlim=(-3, 3), ylim=(-80, 20), legend=false, color=:black, linewidth=0.25);"
   ]
  },
  {
   "cell_type": "code",
   "execution_count": 191,
   "metadata": {},
   "outputs": [],
   "source": [
    "p5M = plot(ddiff5Mt .* 5e3 * 360, ddiff5Mv .* 1e3, xlabel=\"Phase (deg)\", ylabel=\"Vin - Vout (mV)\",\n",
    "    xticks=-180:45:180, ylim=(-25, 25), legend=false, color=:lightgray, linewidth=0.25);"
   ]
  },
  {
   "cell_type": "code",
   "execution_count": 192,
   "metadata": {},
   "outputs": [],
   "source": [
    "p5Md = plot(ddiff5Mt .* 5e3 * 360, ddiff5Mv .* 1e3, xlabel=\"Phase (deg)\",\n",
    "    xticks=-5:1:5, xlim=(-3, 3), ylim=(-80, 20), legend=false, color=:black, linewidth=0.25);"
   ]
  },
  {
   "cell_type": "code",
   "execution_count": 193,
   "metadata": {},
   "outputs": [],
   "source": [
    "pdiffs = plot(p500, p500d, p5M, p5Md, layout = @layout [a b; c d]);"
   ]
  },
  {
   "cell_type": "markdown",
   "metadata": {},
   "source": [
    "Save the single combined plot. This is significantly faster than if all of the plots above were individually shown and then combined."
   ]
  },
  {
   "cell_type": "code",
   "execution_count": 194,
   "metadata": {},
   "outputs": [],
   "source": [
    "#savefig(pdiffs, \"pdiffs.png\")"
   ]
  },
  {
   "cell_type": "markdown",
   "metadata": {},
   "source": [
    "# Varying Output Filters"
   ]
  },
  {
   "cell_type": "markdown",
   "metadata": {},
   "source": [
    "Sallen-key topology (implementation)."
   ]
  },
  {
   "cell_type": "code",
   "execution_count": 195,
   "metadata": {},
   "outputs": [],
   "source": [
    "# Bessel\n",
    "#Q = √(3.) / 3.;\n",
    "#ω0 = √(3.);\n",
    "Q = 1. / 2; # C1 = C2, simple\n",
    "ω0 = 1.;\n",
    "sallen_key = convert(ZeroPoleGain, Biquad(0., 0., ω0^2, ω0 / Q, ω0^2));"
   ]
  },
  {
   "cell_type": "markdown",
   "metadata": {},
   "source": [
    "Bessel filter."
   ]
  },
  {
   "cell_type": "code",
   "execution_count": 196,
   "metadata": {},
   "outputs": [],
   "source": [
    "# Reverse Bessel polynomial θₙ(s)\n",
    "θ(n, s) = sum(k -> (factorial(2n - k) / (2^(n-k) * factorial(k) * factorial(n - k))) * s^k, 0:n)\n",
    "Bessel2 = convert(ZeroPoleGain, Biquad(0.0, 0.0, θ(2, 0.0), 3.0, 3.0));"
   ]
  },
  {
   "cell_type": "markdown",
   "metadata": {},
   "source": [
    "Butterworth filter."
   ]
  },
  {
   "cell_type": "code",
   "execution_count": 197,
   "metadata": {},
   "outputs": [],
   "source": [
    "Butterworth2 = Butterworth(2);"
   ]
  },
  {
   "cell_type": "markdown",
   "metadata": {},
   "source": [
    "Plot all filters on the original signal to see how they perform."
   ]
  },
  {
   "cell_type": "code",
   "execution_count": 198,
   "metadata": {
    "scrolled": false
   },
   "outputs": [],
   "source": [
    "f0 = 100e3;\n",
    "responsetype = [Lowpass(f; fs = 1. / 3.2e-10) for f in [f0]];\n",
    "designmethod = [(Butterworth2, \"Butterworth (2nd-order)\"), (sallen_key, \"Sallen Key (w0 = $ω0, Q = $Q)\"), (Bessel2, \"Bessel (second-order)\")];\n",
    "filters = [(digitalfilter(r, d[1]), d[2]) for r in responsetype for d in designmethod];\n",
    "fp5M = plot(p5M, legend=true, label=\"Unfiltered\", title=\"$(f0/1e3) kHz filters on 5 MHz clock difference data\");  \n",
    "map(f -> plot!(ddiff5Mt .* 5e3 * 360, filt(f[1], ddiff5Mv) .* 1e3, xlabel=\"Phase (deg)\", ylabel=\"Vin - Vout (mV)\",\n",
    "                xticks=-180:45:180, xlim=(-50, 50), ylim=(-15, 15), label=f[2], linewidth=0.25),\n",
    "    filters);\n",
    "#savefig(fp5M, \"fp5M.pdf\")"
   ]
  },
  {
   "cell_type": "markdown",
   "metadata": {},
   "source": [
    "# Initial History Programming"
   ]
  },
  {
   "cell_type": "code",
   "execution_count": 199,
   "metadata": {},
   "outputs": [],
   "source": [
    "little_endian(x) = UInt8.([x & 0x00FF, x >> 8]);"
   ]
  },
  {
   "cell_type": "code",
   "execution_count": 200,
   "metadata": {},
   "outputs": [
    {
     "data": {
      "text/plain": [
       "0x7a569719"
      ]
     },
     "metadata": {},
     "output_type": "display_data"
    }
   ],
   "source": [
    "#prog_words = rand(UInt16, 4096) .& 0x0FFF;\n",
    "prog_words = [0x0000, 0x07FF, 0x0FFF, 0x07FF, 0x0000, 0x07FF, 0x0FFF, 0x07FF, 0x0000, 0x07FF, 0x0FFF, 0x07FF, 0x0000, 0x07FF, 0x0FFF, 0x07FF];\n",
    "#prog_words = ones(UInt16, 16) .* 0x0FFF;\n",
    "waveform_file = \"./serial_data.bin\";\n",
    "write(waveform_file, prog_words);\n",
    "#println(@. 2.5 * (-1. + 2. * Float64(prog_words) / Float64(0x0FFF)));\n",
    "crc32 = crc(CRC_32);\n",
    "prog_crc = crc32(vcat(little_endian.(prog_words)...));\n",
    "display(prog_crc);"
   ]
  },
  {
   "cell_type": "code",
   "execution_count": 201,
   "metadata": {},
   "outputs": [
    {
     "data": {
      "text/plain": [
       "16-element Array{UInt16,1}:\n",
       " 0x0000\n",
       " 0x07ff\n",
       " 0x0fff\n",
       " 0x07ff\n",
       " 0x0000\n",
       " 0x07ff\n",
       " 0x0fff\n",
       " 0x07ff\n",
       " 0x0000\n",
       " 0x07ff\n",
       " 0x0fff\n",
       " 0x07ff\n",
       " 0x0000\n",
       " 0x07ff\n",
       " 0x0fff\n",
       " 0x07ff"
      ]
     },
     "execution_count": 201,
     "metadata": {},
     "output_type": "execute_result"
    }
   ],
   "source": [
    "prog_words"
   ]
  },
  {
   "cell_type": "markdown",
   "metadata": {},
   "source": [
    "## Initial History Programming Instructions"
   ]
  },
  {
   "cell_type": "markdown",
   "metadata": {},
   "source": [
    "- Open *Realterm*.\n",
    "- On the *Display* tab, check the *newLine mode* box.\n",
    "- On the *Port* tab, set the *Baud* rate to *115200*.\n",
    "- Select the *Port* that the *Arduino Due* is plugged in to, such as `6 = \\USBSER000`.\n",
    "- Press enter in the *Port* field to open the port. You should see text from the Arduino Due.\n",
    "- On the *Send* tab, select the first text field.\n",
    "- Type `ph N`, where `N` is the number of words that you want to program.\n",
    "- Click the *Send ASCII* button. (Do not include a line feed in this command, as it will be interpreted as data).\n",
    "- In the *Dump File to Port* section, click the ellipses (`...`) box.\n",
    "- Select the history data file that you want to program.\n",
    "- Under *Delays*, set the first entry (*Character Delay*) to `1`.\n",
    "- Click *Send File*. You should see a hexdump of the data from the Arduino Due as it is transmitted.\n",
    "- At the end of the transmission, there will be a line that says `CRC: 0x...`. Check that this matches the `CRC_32` of the sent data (little-endian).\n",
    "- Send the `go` command to the Arduino Due to switch to the external input and clocks."
   ]
  },
  {
   "cell_type": "code",
   "execution_count": 202,
   "metadata": {},
   "outputs": [
    {
     "data": {
      "text/plain": [
       "106103.29539459689"
      ]
     },
     "execution_count": 202,
     "metadata": {},
     "output_type": "execute_result"
    }
   ],
   "source": [
    "1/(2π*0.1e3*15e-9)"
   ]
  },
  {
   "cell_type": "markdown",
   "metadata": {},
   "source": [
    "# Filtered Output Plots"
   ]
  },
  {
   "cell_type": "markdown",
   "metadata": {},
   "source": [
    "## Signal A"
   ]
  },
  {
   "cell_type": "markdown",
   "metadata": {},
   "source": [
    "- Input: 5 kHz sine wave.\n",
    "- Clock: 5 MHz.\n",
    "- Delay: 1000 swords.\n",
    "- Measurement Bandwidth: 250 MHz."
   ]
  },
  {
   "cell_type": "code",
   "execution_count": 203,
   "metadata": {},
   "outputs": [],
   "source": [
    "ain = CSV.File(\"./data/5-5-in.csv\", skipto=10, header=[:t, :v]); # Input signal\n",
    "aout = CSV.File(\"./data/5-5-unfiltered.csv\", skipto=10, header=[:t, :v]); # Unfiltered output\n",
    "arc = CSV.File(\"./data/5-5-106kHz-RC.csv\", skipto=10, header=[:t, :v]); # 106 kHz RC filter (single-pole)\n",
    "abessel4 = CSV.File(\"./data/5-5-bessel4.csv\", skipto=10, header=[:t, :v]); # ~121 kHz Bessel filter (four-pole)"
   ]
  },
  {
   "cell_type": "code",
   "execution_count": 204,
   "metadata": {},
   "outputs": [],
   "source": [
    "abessel4vpp = maximum(abessel4.v) - minimum(abessel4.v);"
   ]
  },
  {
   "cell_type": "code",
   "execution_count": 205,
   "metadata": {},
   "outputs": [],
   "source": [
    "pain = plot(ain.t .* 1e6, ain.v .* 1e3, label=\"Input\");"
   ]
  },
  {
   "cell_type": "code",
   "execution_count": 206,
   "metadata": {},
   "outputs": [],
   "source": [
    "paout = plot!(aout.t .* 1e6, aout.v .* 1e3, label=\"Unfiltered Output\");"
   ]
  },
  {
   "cell_type": "code",
   "execution_count": 207,
   "metadata": {},
   "outputs": [],
   "source": [
    "parc = plot!(arc.t .* 1e6, arc.v .* 1e3, label=\"106 kHz 1p LPF\");"
   ]
  },
  {
   "cell_type": "code",
   "execution_count": 208,
   "metadata": {},
   "outputs": [],
   "source": [
    "pabessel4 = plot!(abessel4.t .* 1e6, abessel4.v * 1e3 * (1.0 / abessel4vpp), label=\"~121 kHz 4p Bessel LPF (rescaled)\",\n",
    "    xlabel=\"Time (microseconds)\", ylabel=\"Output Voltage (mV)\", xlim=(0, 200), ylim=(-750, 750), legend=:topright, linewidth=0.25);"
   ]
  },
  {
   "cell_type": "code",
   "execution_count": 209,
   "metadata": {},
   "outputs": [],
   "source": [
    "#savefig(pabessel4, \"pa.pdf\")"
   ]
  },
  {
   "cell_type": "markdown",
   "metadata": {},
   "source": [
    "## Signal B"
   ]
  },
  {
   "cell_type": "markdown",
   "metadata": {},
   "source": [
    "- Input: 20 kHz symmetric triangle wave.\n",
    "- Clock: 5 MHz.\n",
    "- Delay: 1000 swords.\n",
    "- Measurement Bandwidth: 250 MHz."
   ]
  },
  {
   "cell_type": "code",
   "execution_count": 210,
   "metadata": {},
   "outputs": [],
   "source": [
    "bin = CSV.File(\"./data/5-20-in.csv\", skipto=10, header=[:t, :v]); # Input signal. ZI: 6249.5\n",
    "bout = CSV.File(\"./data/5-20-unfiltered.csv\", skipto=10, header=[:t, :v]); # Unfiltered output\n",
    "brc = CSV.File(\"./data/5-20-RC.csv\", skipto=10, header=[:t, :v]); # 106 kHz RC filter (single-pole)\n",
    "bbessel4 = CSV.File(\"./data/5-20-bessel4.csv\", skipto=10, header=[:t, :v]); # ~121 kHz Bessel filter (four-pole). ZI: -0.5"
   ]
  },
  {
   "cell_type": "code",
   "execution_count": 211,
   "metadata": {},
   "outputs": [],
   "source": [
    "bbessel4vpp = maximum(bbessel4.v) - minimum(bbessel4.v);"
   ]
  },
  {
   "cell_type": "code",
   "execution_count": 212,
   "metadata": {},
   "outputs": [],
   "source": [
    "pbout = plot(bout.t .* 1e6, bout.v .* 1e3, label=\"Unfiltered\");"
   ]
  },
  {
   "cell_type": "code",
   "execution_count": 213,
   "metadata": {},
   "outputs": [],
   "source": [
    "pbrc = plot!(brc.t .* 1e6, brc.v .* 1e3, label=\"106 kHz 1p LPF\");"
   ]
  },
  {
   "cell_type": "code",
   "execution_count": 214,
   "metadata": {},
   "outputs": [],
   "source": [
    "pbbessel4 = plot!(bbessel4.t .* 1e6, bbessel4.v * 1e3 * (1.0 / bbessel4vpp), label=\"~121 kHz 4p Bessel LPF (rescaled)\",\n",
    "    xlabel=\"Time (microseconds)\", ylabel=\"Output Voltage (mV)\", xlim=(0, 50), ylim=(-750, 750), legend=:topright, linewidth=0.25);"
   ]
  },
  {
   "cell_type": "code",
   "execution_count": 215,
   "metadata": {},
   "outputs": [],
   "source": [
    "#savefig(pbbessel4, \"pb.pdf\")"
   ]
  },
  {
   "cell_type": "markdown",
   "metadata": {},
   "source": [
    "## Nelder-Mead Optimization of Filter Output Gain and Phase"
   ]
  },
  {
   "cell_type": "code",
   "execution_count": 216,
   "metadata": {},
   "outputs": [
    {
     "data": {
      "text/plain": [
       "waveerr (generic function with 1 method)"
      ]
     },
     "execution_count": 216,
     "metadata": {},
     "output_type": "execute_result"
    }
   ],
   "source": [
    "sΔt = 3.2e-10;\n",
    "span = 0.5;\n",
    "margin = (1 - span) / 2;\n",
    "function slidesamples(x, n, m)\n",
    "    xlen = length(x);\n",
    "    a = mod(Int64(floor(n)), xlen);\n",
    "    b = mod(Int64(floor(n) + floor(m)), xlen);\n",
    "    x[a:b]\n",
    "end\n",
    "stdslide(x; m=margin) = slidesamples(x, m*length(x), span*length(x));\n",
    "function modifywave(y, n, k, off)\n",
    "    off .+ (k .* slidesamples(y, n * length(y), span*length(y)))\n",
    "end\n",
    "function waveerr(x, y, s)\n",
    "    xlen = length(x);\n",
    "    rms(stdslide(x) .- modifywave(y, s...))\n",
    "end"
   ]
  },
  {
   "cell_type": "code",
   "execution_count": 217,
   "metadata": {},
   "outputs": [
    {
     "data": {
      "text/plain": [
       " * Status: success\n",
       "\n",
       " * Candidate solution\n",
       "    Minimizer: [2.43e-01, 1.01e+00, 2.20e-03]\n",
       "    Minimum:   4.372209e-03\n",
       "\n",
       " * Found with\n",
       "    Algorithm:     Nelder-Mead\n",
       "    Initial Point: [2.50e-01, 1.00e+00, 0.00e+00]\n",
       "\n",
       " * Convergence measures\n",
       "    √(Σ(yᵢ-ȳ)²)/n ≤ 1.0e-08\n",
       "\n",
       " * Work counters\n",
       "    Iterations:    85\n",
       "    f(x) calls:    177\n"
      ]
     },
     "execution_count": 217,
     "metadata": {},
     "output_type": "execute_result"
    }
   ],
   "source": [
    "arcoptim = optimize(s -> waveerr(ain.v, arc.v, s), [margin, 1., 0.])"
   ]
  },
  {
   "cell_type": "code",
   "execution_count": 218,
   "metadata": {},
   "outputs": [
    {
     "data": {
      "text/plain": [
       " * Status: success\n",
       "\n",
       " * Candidate solution\n",
       "    Minimizer: [2.50e-01, 2.54e-01, 1.61e-02]\n",
       "    Minimum:   2.959149e-03\n",
       "\n",
       " * Found with\n",
       "    Algorithm:     Nelder-Mead\n",
       "    Initial Point: [2.50e-01, 2.54e-01, 0.00e+00]\n",
       "\n",
       " * Convergence measures\n",
       "    √(Σ(yᵢ-ȳ)²)/n ≤ 1.0e-08\n",
       "\n",
       " * Work counters\n",
       "    Iterations:    84\n",
       "    f(x) calls:    182\n"
      ]
     },
     "execution_count": 218,
     "metadata": {},
     "output_type": "execute_result"
    }
   ],
   "source": [
    "abessel4optim = optimize(s -> waveerr(ain.v, abessel4.v, s), [margin, 1.0 / abessel4vpp, 0.])"
   ]
  },
  {
   "cell_type": "code",
   "execution_count": 219,
   "metadata": {},
   "outputs": [],
   "source": [
    "arco = modifywave(arc.v, arcoptim.minimizer...);"
   ]
  },
  {
   "cell_type": "code",
   "execution_count": 220,
   "metadata": {},
   "outputs": [],
   "source": [
    "abessel4o = modifywave(abessel4.v, abessel4optim.minimizer...);"
   ]
  },
  {
   "cell_type": "code",
   "execution_count": 221,
   "metadata": {},
   "outputs": [],
   "source": [
    "plot(stdslide(aout.t) .* 1e6, stdslide(aout.v) .* 1e3, label=\"Unfiltered Output\", color=:gray,\n",
    "    xlim=(100, 297), xticks=100:25:300);\n",
    "plot!(stdslide(ain.t) .* 1e6, stdslide(ain.v) .* 1e3, label=\"Input\", color=:black);\n",
    "paout = plot!(stdslide(abessel4.t) .* 1e6, stdslide(abessel4.v) .* 1e3 * abessel4optim.minimizer[2],\n",
    "    label=\"~121 kHz 4p Bessel LPF (rescaled)\", color=:black, alpha=0.75,\n",
    "    legend=:topleft, xlabel=\"Time (microseconds)\", ylabel=\"Voltage (mV)\");\n",
    "#plot!(stdslide(arc.t) .* 1e6, stdslide(arc.v) .* 1e3, label=\"106 kHz 1p (RC) LPF\");"
   ]
  },
  {
   "cell_type": "code",
   "execution_count": 222,
   "metadata": {},
   "outputs": [],
   "source": [
    "savefig(paout, \"paout.png\")"
   ]
  },
  {
   "cell_type": "code",
   "execution_count": 264,
   "metadata": {},
   "outputs": [
    {
     "data": {
      "text/plain": [
       "\"paout.csv\""
      ]
     },
     "execution_count": 264,
     "metadata": {},
     "output_type": "execute_result"
    }
   ],
   "source": [
    "CSV.write(\"paout.csv\",\n",
    "    (aint=stdslide(ain.t) .* 1e6, ainv=stdslide(ain.v) .* 1e3,\n",
    "        aoutt=stdslide(aout.t) .* 1e6, aoutv=stdslide(aout.v) .* 1e3,\n",
    "        abessel4t=stdslide(abessel4.t) .* 1e6, abessel4v=stdslide(abessel4.v) .* 1e3 * abessel4optim.minimizer[2]))"
   ]
  },
  {
   "cell_type": "code",
   "execution_count": 223,
   "metadata": {},
   "outputs": [],
   "source": [
    "parc = plot(stdslide(arc.t) .* 1e6, arco .* 1e3, label=\"Optimized RC LPF\");\n",
    "pabessel4 = plot!(stdslide(abessel4.t) .* 1e6, abessel4o .* 1e3, label=\"Optimized Bessel LPF\",\n",
    "    xlabel=\"Time (microseconds)\", ylabel=\"Output Voltage (mV)\", legend=:topleft, linewidth=0.25);\n",
    "pain = plot!((stdslide(ain.t) .+ 6250*sΔt .+ (abessel4.t[1] - ain.t[1])/2) .* 1e6, stdslide(ain.v) .* 1e3, label=\"Input\");"
   ]
  },
  {
   "cell_type": "code",
   "execution_count": 224,
   "metadata": {},
   "outputs": [],
   "source": [
    "#savefig(pain, \"pain.png\")"
   ]
  },
  {
   "cell_type": "code",
   "execution_count": 225,
   "metadata": {},
   "outputs": [],
   "source": [
    "arcodiff = stdslide(ain.v) .- arco;\n",
    "abessel4odiff = stdslide(ain.v) .- abessel4o;"
   ]
  },
  {
   "cell_type": "code",
   "execution_count": 226,
   "metadata": {},
   "outputs": [],
   "source": [
    "difff0 = 10e3;\n",
    "difffilter = digitalfilter(Lowpass(difff0; fs = 1. / 3.2e-10), Bessel2);"
   ]
  },
  {
   "cell_type": "code",
   "execution_count": 227,
   "metadata": {},
   "outputs": [],
   "source": [
    "abessel4odiffμ = mean(abessel4odiff);\n",
    "abessel4odiffσ = std(abessel4odiff);"
   ]
  },
  {
   "cell_type": "code",
   "execution_count": 228,
   "metadata": {},
   "outputs": [],
   "source": [
    "#plot(stdslide(arc.t) .* 1e6, arcodiff .* 1e3, label=\"RC Difference\", xlim=(100,300));\n",
    "plot(stdslide(abessel4.t) .* 1e6, abessel4odiff .* 1e3, label=\"Bessel Difference\",\n",
    "    xlim=(100,300), ylim=(-15,15), color=:black, legend=false,\n",
    "    xlabel=\"Time (microseconds)\", ylabel=\"Voltage (mV)\");"
   ]
  },
  {
   "cell_type": "code",
   "execution_count": 229,
   "metadata": {},
   "outputs": [],
   "source": [
    "#plot!(stdslide(arc.t) .* 1e6, filt(difffilter, arcodiff) .* 1e3,\n",
    "#    linewidth=1.5, label=\"RC at $(difff0 / 1e6) MHz BW\", xlim=(100,300));\n",
    "plot!(stdslide(abessel4.t) .* 1e6, x -> abessel4odiffμ * 1e3, color=:white, line=:dash,);\n",
    "padiff = plot!([x -> (abessel4odiffμ - abessel4odiffσ) * 1e3, x -> (abessel4odiffμ + abessel4odiffσ) * 1e3],\n",
    "    line=:dot, color=:white);"
   ]
  },
  {
   "cell_type": "code",
   "execution_count": 265,
   "metadata": {},
   "outputs": [
    {
     "ename": "BoundsError",
     "evalue": "BoundsError: attempt to access 1-element Array{Float64,1} at index [2]",
     "output_type": "error",
     "traceback": [
      "BoundsError: attempt to access 1-element Array{Float64,1} at index [2]",
      "",
      "Stacktrace:",
      " [1] getindex at .\\array.jl:729 [inlined]",
      " [2] getproperty at C:\\Users\\opticslab\\.julia\\packages\\Tables\\FXXeK\\src\\fallbacks.jl:17 [inlined]",
      " [3] macro expansion at C:\\Users\\opticslab\\.julia\\packages\\Tables\\FXXeK\\src\\utils.jl:54 [inlined]",
      " [4] eachcolumn at C:\\Users\\opticslab\\.julia\\packages\\Tables\\FXXeK\\src\\utils.jl:49 [inlined]",
      " [5] (::getfield(CSV, Symbol(\"##50#52\")){Char,String,Nothing,Bool,Bool,Tables.Schema{(:abessel4t, :abessel4odiff, :abessel4odiffμ, :abessel4odiffσ),NTuple{4,Float64}},Tables.RowIterator{NamedTuple{(:abessel4t, :abessel4odiff, :abessel4odiffμ, :abessel4odiffσ),NTuple{4,Array{Float64,1}}}},UInt8,UInt8,UInt8,Char,Char,NTuple{4,Symbol},Int64})(::IOStream) at C:\\Users\\opticslab\\.julia\\packages\\CSV\\KgT4M\\src\\write.jl:243",
      " [6] #43 at C:\\Users\\opticslab\\.julia\\packages\\CSV\\KgT4M\\src\\write.jl:38 [inlined]",
      " [7] #open#310(::Base.Iterators.Pairs{Union{},Union{},Tuple{},NamedTuple{(),Tuple{}}}, ::Function, ::getfield(CSV, Symbol(\"##43#44\")){getfield(CSV, Symbol(\"##50#52\")){Char,String,Nothing,Bool,Bool,Tables.Schema{(:abessel4t, :abessel4odiff, :abessel4odiffμ, :abessel4odiffσ),NTuple{4,Float64}},Tables.RowIterator{NamedTuple{(:abessel4t, :abessel4odiff, :abessel4odiffμ, :abessel4odiffσ),NTuple{4,Array{Float64,1}}}},UInt8,UInt8,UInt8,Char,Char,NTuple{4,Symbol},Int64}}, ::String, ::Vararg{String,N} where N) at .\\iostream.jl:375",
      " [8] open at .\\iostream.jl:373 [inlined]",
      " [9] with(::getfield(CSV, Symbol(\"##50#52\")){Char,String,Nothing,Bool,Bool,Tables.Schema{(:abessel4t, :abessel4odiff, :abessel4odiffμ, :abessel4odiffσ),NTuple{4,Float64}},Tables.RowIterator{NamedTuple{(:abessel4t, :abessel4odiff, :abessel4odiffμ, :abessel4odiffσ),NTuple{4,Array{Float64,1}}}},UInt8,UInt8,UInt8,Char,Char,NTuple{4,Symbol},Int64}, ::String, ::Bool) at C:\\Users\\opticslab\\.julia\\packages\\CSV\\KgT4M\\src\\write.jl:37",
      " [10] #write#49(::Char, ::String, ::Nothing, ::Bool, ::Bool, ::Array{String,1}, ::Bool, ::Base.Iterators.Pairs{Union{},Union{},Tuple{},NamedTuple{(),Tuple{}}}, ::typeof(CSV.write), ::Tables.Schema{(:abessel4t, :abessel4odiff, :abessel4odiffμ, :abessel4odiffσ),NTuple{4,Float64}}, ::Tables.RowIterator{NamedTuple{(:abessel4t, :abessel4odiff, :abessel4odiffμ, :abessel4odiffσ),NTuple{4,Array{Float64,1}}}}, ::String, ::UInt8, ::UInt8, ::UInt8, ::Char, ::Char) at C:\\Users\\opticslab\\.julia\\packages\\CSV\\KgT4M\\src\\write.jl:240",
      " [11] write at C:\\Users\\opticslab\\.julia\\packages\\CSV\\KgT4M\\src\\write.jl:237 [inlined]",
      " [12] #write#48(::Char, ::Nothing, ::Nothing, ::Char, ::Char, ::Char, ::Base.Iterators.Pairs{Union{},Union{},Tuple{},NamedTuple{(),Tuple{}}}, ::Function, ::String, ::NamedTuple{(:abessel4t, :abessel4odiff, :abessel4odiffμ, :abessel4odiffσ),NTuple{4,Array{Float64,1}}}) at C:\\Users\\opticslab\\.julia\\packages\\CSV\\KgT4M\\src\\write.jl:216",
      " [13] write(::String, ::NamedTuple{(:abessel4t, :abessel4odiff, :abessel4odiffμ, :abessel4odiffσ),NTuple{4,Array{Float64,1}}}) at C:\\Users\\opticslab\\.julia\\packages\\CSV\\KgT4M\\src\\write.jl:211",
      " [14] top-level scope at In[265]:1"
     ]
    }
   ],
   "source": [
    "CSV.write(\"padiff.csv\",\n",
    "    (abessel4t=stdslide(abessel4.t) .* 1e6, abessel4odiff=abessel4odiff .* 1e3,\n",
    "        abessel4odiffμ=[abessel4odiffμ * 1e3],\n",
    "        abessel4odiffσ=[abessel4odiffσ * 1e3]));"
   ]
  },
  {
   "cell_type": "code",
   "execution_count": 230,
   "metadata": {},
   "outputs": [],
   "source": [
    "#savefig(padiff, \"padiff.png\")"
   ]
  },
  {
   "cell_type": "code",
   "execution_count": 231,
   "metadata": {},
   "outputs": [],
   "source": [
    "paoutdiff = plot(paout, padiff, layout=@layout [a; b]);"
   ]
  },
  {
   "cell_type": "code",
   "execution_count": 232,
   "metadata": {},
   "outputs": [
    {
     "ename": "InterruptException",
     "evalue": "InterruptException:",
     "output_type": "error",
     "traceback": [
      "InterruptException:",
      "",
      "Stacktrace:",
      " [1] try_yieldto(::typeof(Base.ensure_rescheduled), ::Base.RefValue{Task}) at .\\event.jl:196",
      " [2] wait() at .\\event.jl:255",
      " [3] yield() at .\\event.jl:157",
      " [4] oslibuv_flush at C:\\Users\\opticslab\\.julia\\packages\\IJulia\\gI2uA\\src\\stdio.jl:267 [inlined]",
      " [5] flush(::IJulia.IJuliaStdio{Base.PipeEndpoint}) at C:\\Users\\opticslab\\.julia\\packages\\IJulia\\gI2uA\\src\\stdio.jl:274",
      " [6] flush_all() at C:\\Users\\opticslab\\.julia\\packages\\IJulia\\gI2uA\\src\\stdio.jl:257",
      " [7] execute_request(::ZMQ.Socket, ::IJulia.Msg) at C:\\Users\\opticslab\\.julia\\packages\\IJulia\\gI2uA\\src\\execute_request.jl:105",
      " [8] #invokelatest#1 at .\\essentials.jl:742 [inlined]",
      " [9] invokelatest at .\\essentials.jl:741 [inlined]",
      " [10] eventloop(::ZMQ.Socket) at C:\\Users\\opticslab\\.julia\\packages\\IJulia\\gI2uA\\src\\eventloop.jl:8",
      " [11] (::getfield(IJulia, Symbol(\"##15#18\")))() at .\\task.jl:259"
     ]
    }
   ],
   "source": [
    "savefig(paoutdiff, \"paoutdiff.png\")"
   ]
  },
  {
   "cell_type": "code",
   "execution_count": null,
   "metadata": {},
   "outputs": [],
   "source": []
  }
 ],
 "metadata": {
  "kernelspec": {
   "display_name": "Julia 1.1.1",
   "language": "julia",
   "name": "julia-1.1"
  },
  "language_info": {
   "file_extension": ".jl",
   "mimetype": "application/julia",
   "name": "julia",
   "version": "1.1.1"
  }
 },
 "nbformat": 4,
 "nbformat_minor": 2
}
