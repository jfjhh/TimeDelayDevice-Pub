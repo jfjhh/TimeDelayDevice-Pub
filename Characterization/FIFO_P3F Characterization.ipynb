{
 "cells": [
  {
   "cell_type": "code",
   "execution_count": 1,
   "metadata": {},
   "outputs": [
    {
     "data": {
      "text/plain": [
       "Plots.GRBackend()"
      ]
     },
     "execution_count": 1,
     "metadata": {},
     "output_type": "execute_result"
    }
   ],
   "source": [
    "using StatsBase\n",
    "using Statistics\n",
    "using CSV\n",
    "using Plots\n",
    "using StatsPlots\n",
    "using TikzPictures\n",
    "using DSP\n",
    "using Measurements\n",
    "using CRC\n",
    "using Optim\n",
    "\n",
    "#pgfplots()\n",
    "#tikzCommand(\"lualatex\") # The default. Dynamically allocates more memory, unlike PDFLaTeX\n",
    "gr()"
   ]
  },
  {
   "cell_type": "markdown",
   "metadata": {},
   "source": [
    "Set publication-quality settings for plots."
   ]
  },
  {
   "cell_type": "code",
   "execution_count": 190,
   "metadata": {
    "collapsed": true
   },
   "outputs": [],
   "source": [
    "upscale = 2 #8x upscaling in resolution\n",
    "fntsm = Plots.font(\"sans-serif\", pointsize=round(10.0*upscale))\n",
    "fntlg = Plots.font(\"sans-serif\", pointsize=round(14.0*upscale))\n",
    "default(titlefont=fntlg, guidefont=fntlg, tickfont=fntsm, legendfont=fntsm)\n",
    "default(size=(800*upscale,600*upscale)) #Plot canvas size\n",
    "#default(dpi=300) #Only for PyPlot - presently broken?"
   ]
  },
  {
   "cell_type": "markdown",
   "metadata": {},
   "source": [
    "# Delayed Signal Computations"
   ]
  },
  {
   "cell_type": "markdown",
   "metadata": {},
   "source": [
    "## DAC Rise Time"
   ]
  },
  {
   "cell_type": "code",
   "execution_count": 3,
   "metadata": {},
   "outputs": [
    {
     "data": {
      "text/plain": [
       "1.1492676743389036e-9"
      ]
     },
     "execution_count": 3,
     "metadata": {},
     "output_type": "execute_result"
    }
   ],
   "source": [
    "rtdata = CSV.File(\"./data/Tek004.csv\"; header=false)\n",
    "rtweights = FrequencyWeights(rtdata.Column2)\n",
    "rt = mean(rtdata.Column1, rtweights)\n",
    "rtσ = std(rtdata.Column1, rtweights, corrected=true)"
   ]
  },
  {
   "cell_type": "code",
   "execution_count": 4,
   "metadata": {},
   "outputs": [
    {
     "data": {
      "text/plain": [
       "1.290866506382043e-7"
      ]
     },
     "execution_count": 4,
     "metadata": {},
     "output_type": "execute_result"
    }
   ],
   "source": [
    "rtσ /= 4 # For a 1 Vpp square wave edge\n",
    "rt /= 4"
   ]
  },
  {
   "cell_type": "markdown",
   "metadata": {},
   "source": [
    "## Delay Error"
   ]
  },
  {
   "cell_type": "markdown",
   "metadata": {},
   "source": [
    "The steps in the error plots are in single-digit intervals, so the results should taken with a grain of salt"
   ]
  },
  {
   "cell_type": "code",
   "execution_count": 154,
   "metadata": {
    "scrolled": false
   },
   "outputs": [
    {
     "data": {
      "image/svg+xml": [
       "<?xml version=\"1.0\" encoding=\"utf-8\"?>\n",
       "<svg xmlns=\"http://www.w3.org/2000/svg\" xmlns:xlink=\"http://www.w3.org/1999/xlink\" width=\"400\" height=\"300\" viewBox=\"0 0 1600 1200\">\n",
       "<defs>\n",
       "  <clipPath id=\"clip5900\">\n",
       "    <rect x=\"0\" y=\"0\" width=\"1600\" height=\"1200\"/>\n",
       "  </clipPath>\n",
       "</defs>\n",
       "<polygon clip-path=\"url(#clip5900)\" points=\"\n",
       "0,1200 1600,1200 1600,0 0,0 \n",
       "  \" fill=\"#ffffff\" fill-rule=\"evenodd\" fill-opacity=\"1\"/>\n",
       "<defs>\n",
       "  <clipPath id=\"clip5901\">\n",
       "    <rect x=\"320\" y=\"0\" width=\"1121\" height=\"1121\"/>\n",
       "  </clipPath>\n",
       "</defs>\n",
       "<polygon clip-path=\"url(#clip5900)\" points=\"\n",
       "169.929,1058.67 1552.76,1058.67 1552.76,47.2441 169.929,47.2441 \n",
       "  \" fill=\"#ffffff\" fill-rule=\"evenodd\" fill-opacity=\"1\"/>\n",
       "<defs>\n",
       "  <clipPath id=\"clip5902\">\n",
       "    <rect x=\"169\" y=\"47\" width=\"1384\" height=\"1012\"/>\n",
       "  </clipPath>\n",
       "</defs>\n",
       "<polyline clip-path=\"url(#clip5902)\" style=\"stroke:#000000; stroke-width:2; stroke-opacity:0.1; fill:none\" points=\"\n",
       "  169.929,1058.67 169.929,47.2441 \n",
       "  \"/>\n",
       "<polyline clip-path=\"url(#clip5902)\" style=\"stroke:#000000; stroke-width:2; stroke-opacity:0.1; fill:none\" points=\"\n",
       "  367.475,1058.67 367.475,47.2441 \n",
       "  \"/>\n",
       "<polyline clip-path=\"url(#clip5902)\" style=\"stroke:#000000; stroke-width:2; stroke-opacity:0.1; fill:none\" points=\"\n",
       "  565.022,1058.67 565.022,47.2441 \n",
       "  \"/>\n",
       "<polyline clip-path=\"url(#clip5902)\" style=\"stroke:#000000; stroke-width:2; stroke-opacity:0.1; fill:none\" points=\"\n",
       "  762.569,1058.67 762.569,47.2441 \n",
       "  \"/>\n",
       "<polyline clip-path=\"url(#clip5902)\" style=\"stroke:#000000; stroke-width:2; stroke-opacity:0.1; fill:none\" points=\"\n",
       "  960.116,1058.67 960.116,47.2441 \n",
       "  \"/>\n",
       "<polyline clip-path=\"url(#clip5902)\" style=\"stroke:#000000; stroke-width:2; stroke-opacity:0.1; fill:none\" points=\"\n",
       "  1157.66,1058.67 1157.66,47.2441 \n",
       "  \"/>\n",
       "<polyline clip-path=\"url(#clip5902)\" style=\"stroke:#000000; stroke-width:2; stroke-opacity:0.1; fill:none\" points=\"\n",
       "  1355.21,1058.67 1355.21,47.2441 \n",
       "  \"/>\n",
       "<polyline clip-path=\"url(#clip5902)\" style=\"stroke:#000000; stroke-width:2; stroke-opacity:0.1; fill:none\" points=\"\n",
       "  1552.76,1058.67 1552.76,47.2441 \n",
       "  \"/>\n",
       "<polyline clip-path=\"url(#clip5902)\" style=\"stroke:#000000; stroke-width:2; stroke-opacity:0.1; fill:none\" points=\"\n",
       "  169.929,891.278 1552.76,891.278 \n",
       "  \"/>\n",
       "<polyline clip-path=\"url(#clip5902)\" style=\"stroke:#000000; stroke-width:2; stroke-opacity:0.1; fill:none\" points=\"\n",
       "  169.929,652.734 1552.76,652.734 \n",
       "  \"/>\n",
       "<polyline clip-path=\"url(#clip5902)\" style=\"stroke:#000000; stroke-width:2; stroke-opacity:0.1; fill:none\" points=\"\n",
       "  169.929,414.189 1552.76,414.189 \n",
       "  \"/>\n",
       "<polyline clip-path=\"url(#clip5902)\" style=\"stroke:#000000; stroke-width:2; stroke-opacity:0.1; fill:none\" points=\"\n",
       "  169.929,175.645 1552.76,175.645 \n",
       "  \"/>\n",
       "<polyline clip-path=\"url(#clip5900)\" style=\"stroke:#000000; stroke-width:4; stroke-opacity:1; fill:none\" points=\"\n",
       "  169.929,1058.67 1552.76,1058.67 \n",
       "  \"/>\n",
       "<polyline clip-path=\"url(#clip5900)\" style=\"stroke:#000000; stroke-width:4; stroke-opacity:1; fill:none\" points=\"\n",
       "  169.929,1058.67 169.929,47.2441 \n",
       "  \"/>\n",
       "<polyline clip-path=\"url(#clip5900)\" style=\"stroke:#000000; stroke-width:4; stroke-opacity:1; fill:none\" points=\"\n",
       "  169.929,1058.67 169.929,1043.5 \n",
       "  \"/>\n",
       "<polyline clip-path=\"url(#clip5900)\" style=\"stroke:#000000; stroke-width:4; stroke-opacity:1; fill:none\" points=\"\n",
       "  367.475,1058.67 367.475,1043.5 \n",
       "  \"/>\n",
       "<polyline clip-path=\"url(#clip5900)\" style=\"stroke:#000000; stroke-width:4; stroke-opacity:1; fill:none\" points=\"\n",
       "  565.022,1058.67 565.022,1043.5 \n",
       "  \"/>\n",
       "<polyline clip-path=\"url(#clip5900)\" style=\"stroke:#000000; stroke-width:4; stroke-opacity:1; fill:none\" points=\"\n",
       "  762.569,1058.67 762.569,1043.5 \n",
       "  \"/>\n",
       "<polyline clip-path=\"url(#clip5900)\" style=\"stroke:#000000; stroke-width:4; stroke-opacity:1; fill:none\" points=\"\n",
       "  960.116,1058.67 960.116,1043.5 \n",
       "  \"/>\n",
       "<polyline clip-path=\"url(#clip5900)\" style=\"stroke:#000000; stroke-width:4; stroke-opacity:1; fill:none\" points=\"\n",
       "  1157.66,1058.67 1157.66,1043.5 \n",
       "  \"/>\n",
       "<polyline clip-path=\"url(#clip5900)\" style=\"stroke:#000000; stroke-width:4; stroke-opacity:1; fill:none\" points=\"\n",
       "  1355.21,1058.67 1355.21,1043.5 \n",
       "  \"/>\n",
       "<polyline clip-path=\"url(#clip5900)\" style=\"stroke:#000000; stroke-width:4; stroke-opacity:1; fill:none\" points=\"\n",
       "  1552.76,1058.67 1552.76,1043.5 \n",
       "  \"/>\n",
       "<polyline clip-path=\"url(#clip5900)\" style=\"stroke:#000000; stroke-width:4; stroke-opacity:1; fill:none\" points=\"\n",
       "  169.929,891.278 190.671,891.278 \n",
       "  \"/>\n",
       "<polyline clip-path=\"url(#clip5900)\" style=\"stroke:#000000; stroke-width:4; stroke-opacity:1; fill:none\" points=\"\n",
       "  169.929,652.734 190.671,652.734 \n",
       "  \"/>\n",
       "<polyline clip-path=\"url(#clip5900)\" style=\"stroke:#000000; stroke-width:4; stroke-opacity:1; fill:none\" points=\"\n",
       "  169.929,414.189 190.671,414.189 \n",
       "  \"/>\n",
       "<polyline clip-path=\"url(#clip5900)\" style=\"stroke:#000000; stroke-width:4; stroke-opacity:1; fill:none\" points=\"\n",
       "  169.929,175.645 190.671,175.645 \n",
       "  \"/>\n",
       "<g clip-path=\"url(#clip5900)\">\n",
       "<text style=\"fill:#000000; fill-opacity:1; font-family:Arial,Helvetica Neue,Helvetica,sans-serif; font-size:30px; text-anchor:middle;\" transform=\"rotate(0, 169.929, 1093.07)\" x=\"169.929\" y=\"1093.07\">10</text>\n",
       "</g>\n",
       "<g clip-path=\"url(#clip5900)\">\n",
       "<text style=\"fill:#000000; fill-opacity:1; font-family:Arial,Helvetica Neue,Helvetica,sans-serif; font-size:30px; text-anchor:middle;\" transform=\"rotate(0, 367.475, 1093.07)\" x=\"367.475\" y=\"1093.07\">20</text>\n",
       "</g>\n",
       "<g clip-path=\"url(#clip5900)\">\n",
       "<text style=\"fill:#000000; fill-opacity:1; font-family:Arial,Helvetica Neue,Helvetica,sans-serif; font-size:30px; text-anchor:middle;\" transform=\"rotate(0, 565.022, 1093.07)\" x=\"565.022\" y=\"1093.07\">30</text>\n",
       "</g>\n",
       "<g clip-path=\"url(#clip5900)\">\n",
       "<text style=\"fill:#000000; fill-opacity:1; font-family:Arial,Helvetica Neue,Helvetica,sans-serif; font-size:30px; text-anchor:middle;\" transform=\"rotate(0, 762.569, 1093.07)\" x=\"762.569\" y=\"1093.07\">40</text>\n",
       "</g>\n",
       "<g clip-path=\"url(#clip5900)\">\n",
       "<text style=\"fill:#000000; fill-opacity:1; font-family:Arial,Helvetica Neue,Helvetica,sans-serif; font-size:30px; text-anchor:middle;\" transform=\"rotate(0, 960.116, 1093.07)\" x=\"960.116\" y=\"1093.07\">50</text>\n",
       "</g>\n",
       "<g clip-path=\"url(#clip5900)\">\n",
       "<text style=\"fill:#000000; fill-opacity:1; font-family:Arial,Helvetica Neue,Helvetica,sans-serif; font-size:30px; text-anchor:middle;\" transform=\"rotate(0, 1157.66, 1093.07)\" x=\"1157.66\" y=\"1093.07\">60</text>\n",
       "</g>\n",
       "<g clip-path=\"url(#clip5900)\">\n",
       "<text style=\"fill:#000000; fill-opacity:1; font-family:Arial,Helvetica Neue,Helvetica,sans-serif; font-size:30px; text-anchor:middle;\" transform=\"rotate(0, 1355.21, 1093.07)\" x=\"1355.21\" y=\"1093.07\">70</text>\n",
       "</g>\n",
       "<g clip-path=\"url(#clip5900)\">\n",
       "<text style=\"fill:#000000; fill-opacity:1; font-family:Arial,Helvetica Neue,Helvetica,sans-serif; font-size:30px; text-anchor:middle;\" transform=\"rotate(0, 1552.76, 1093.07)\" x=\"1552.76\" y=\"1093.07\">80</text>\n",
       "</g>\n",
       "<g clip-path=\"url(#clip5900)\">\n",
       "<text style=\"fill:#000000; fill-opacity:1; font-family:Arial,Helvetica Neue,Helvetica,sans-serif; font-size:30px; text-anchor:end;\" transform=\"rotate(0, 153.929, 902.278)\" x=\"153.929\" y=\"902.278\">0</text>\n",
       "</g>\n",
       "<g clip-path=\"url(#clip5900)\">\n",
       "<text style=\"fill:#000000; fill-opacity:1; font-family:Arial,Helvetica Neue,Helvetica,sans-serif; font-size:30px; text-anchor:end;\" transform=\"rotate(0, 153.929, 663.734)\" x=\"153.929\" y=\"663.734\">50</text>\n",
       "</g>\n",
       "<g clip-path=\"url(#clip5900)\">\n",
       "<text style=\"fill:#000000; fill-opacity:1; font-family:Arial,Helvetica Neue,Helvetica,sans-serif; font-size:30px; text-anchor:end;\" transform=\"rotate(0, 153.929, 425.189)\" x=\"153.929\" y=\"425.189\">100</text>\n",
       "</g>\n",
       "<g clip-path=\"url(#clip5900)\">\n",
       "<text style=\"fill:#000000; fill-opacity:1; font-family:Arial,Helvetica Neue,Helvetica,sans-serif; font-size:30px; text-anchor:end;\" transform=\"rotate(0, 153.929, 186.645)\" x=\"153.929\" y=\"186.645\">150</text>\n",
       "</g>\n",
       "<g clip-path=\"url(#clip5900)\">\n",
       "<text style=\"fill:#000000; fill-opacity:1; font-family:Arial,Helvetica Neue,Helvetica,sans-serif; font-size:41px; text-anchor:middle;\" transform=\"rotate(0, 861.342, 1144.12)\" x=\"861.342\" y=\"1144.12\">Delay Words</text>\n",
       "</g>\n",
       "<g clip-path=\"url(#clip5900)\">\n",
       "<text style=\"fill:#000000; fill-opacity:1; font-family:Arial,Helvetica Neue,Helvetica,sans-serif; font-size:41px; text-anchor:middle;\" transform=\"rotate(-90, 79.7371, 552.958)\" x=\"79.7371\" y=\"552.958\">Risetime-corrected Delay Error (ns)</text>\n",
       "</g>\n",
       "<polyline clip-path=\"url(#clip5902)\" style=\"stroke:#009af9; stroke-width:4; stroke-opacity:1; fill:none\" points=\"\n",
       "  189.683,552.958 209.438,552.958 229.193,75.8694 248.947,552.958 268.702,552.958 288.457,552.958 308.211,552.958 327.966,552.958 347.721,552.958 367.475,75.8694 \n",
       "  565.022,552.958 762.569,552.958 960.116,552.958 1157.66,891.278 1355.21,891.278 1552.76,891.278 1750.3,891.278 1947.85,891.278 3923.32,891.278 5898.78,891.278 \n",
       "  7874.25,891.278 9849.72,891.278 11825.2,891.278 13800.7,891.278 15776.1,891.278 17751.6,891.278 19727.1,891.278 39481.7,891.278 59236.4,891.278 78991.1,891.278 \n",
       "  98745.8,891.278 118500,891.278 138255,891.278 158010,891.278 177764,891.278 \n",
       "  \"/>\n",
       "<polyline clip-path=\"url(#clip5902)\" style=\"stroke:#e26f46; stroke-width:4; stroke-opacity:1; fill:none\" points=\"\n",
       "  189.683,552.958 209.438,1030.05 229.193,1030.05 248.947,1030.05 268.702,1030.05 288.457,1030.05 308.211,552.958 327.966,1030.05 347.721,552.958 367.475,1030.05 \n",
       "  565.022,1030.05 762.569,1030.05 960.116,1030.05 1157.66,891.278 1355.21,891.278 1552.76,891.278 1750.3,891.278 1947.85,891.278 3923.32,891.278 5898.78,891.278 \n",
       "  7874.25,891.278 9849.72,891.278 11825.2,891.278 13800.7,891.278 15776.1,891.278 17751.6,891.278 19727.1,891.278 39481.7,891.278 59236.4,891.278 78991.1,891.278 \n",
       "  98745.8,891.278 118500,891.278 138255,891.278 158010,891.278 177764,891.278 \n",
       "  \"/>\n",
       "<polygon clip-path=\"url(#clip5900)\" points=\"\n",
       "1134.14,218.844 1504.76,218.844 1504.76,105.444 1134.14,105.444 \n",
       "  \" fill=\"#ffffff\" fill-rule=\"evenodd\" fill-opacity=\"1\"/>\n",
       "<polyline clip-path=\"url(#clip5900)\" style=\"stroke:#000000; stroke-width:4; stroke-opacity:1; fill:none\" points=\"\n",
       "  1134.14,218.844 1504.76,218.844 1504.76,105.444 1134.14,105.444 1134.14,218.844 \n",
       "  \"/>\n",
       "<polyline clip-path=\"url(#clip5900)\" style=\"stroke:#009af9; stroke-width:4; stroke-opacity:1; fill:none\" points=\"\n",
       "  1150.14,143.244 1246.14,143.244 \n",
       "  \"/>\n",
       "<g clip-path=\"url(#clip5900)\">\n",
       "<text style=\"fill:#000000; fill-opacity:1; font-family:Arial,Helvetica Neue,Helvetica,sans-serif; font-size:30px; text-anchor:start;\" transform=\"rotate(0, 1262.14, 154.244)\" x=\"1262.14\" y=\"154.244\">Minimum delay</text>\n",
       "</g>\n",
       "<polyline clip-path=\"url(#clip5900)\" style=\"stroke:#e26f46; stroke-width:4; stroke-opacity:1; fill:none\" points=\"\n",
       "  1150.14,181.044 1246.14,181.044 \n",
       "  \"/>\n",
       "<g clip-path=\"url(#clip5900)\">\n",
       "<text style=\"fill:#000000; fill-opacity:1; font-family:Arial,Helvetica Neue,Helvetica,sans-serif; font-size:30px; text-anchor:start;\" transform=\"rotate(0, 1262.14, 192.044)\" x=\"1262.14\" y=\"192.044\">Maximum delay</text>\n",
       "</g>\n",
       "</svg>\n"
      ]
     },
     "execution_count": 154,
     "metadata": {},
     "output_type": "execute_result"
    }
   ],
   "source": [
    "dlimit=35;\n",
    "ddata = CSV.File(\"./delay_linearity.csv\"; skipto=2, limit=dlimit, header=[:min, :max, :swords, :na, :clock, :signal, :rt]);\n",
    "rtcorrection = vcat(repeat([rt], 13), zeros(dlimit-13));\n",
    "minerr = 1e-3.*ddata.min .- (ddata.swords .* 20e-6) .+ 20e-6 - rtcorrection;\n",
    "maxerr = 1e-3.*ddata.max .- (ddata.swords .* 20e-6) - rtcorrection;\n",
    "plot(ddata.swords, [minerr, maxerr] ./ 1e-9,\n",
    "    xlim=(10,80), xlabel=\"Delay Words\", ylabel=\"Risetime-corrected Delay Error (ns)\",\n",
    "    label=[\"Minimum delay\", \"Maximum delay\"])"
   ]
  },
  {
   "cell_type": "code",
   "execution_count": 85,
   "metadata": {},
   "outputs": [
    {
     "data": {
      "text/plain": [
       "9000"
      ]
     },
     "execution_count": 85,
     "metadata": {},
     "output_type": "execute_result"
    }
   ],
   "source": [
    "last(ddata.swords)"
   ]
  },
  {
   "cell_type": "code",
   "execution_count": 91,
   "metadata": {},
   "outputs": [
    {
     "data": {
      "text/plain": [
       "0.00020007091334936177"
      ]
     },
     "execution_count": 91,
     "metadata": {},
     "output_type": "execute_result"
    }
   ],
   "source": [
    "first(ddmin)"
   ]
  },
  {
   "cell_type": "markdown",
   "metadata": {},
   "source": [
    "Clock is at 50 kHz."
   ]
  },
  {
   "cell_type": "code",
   "execution_count": 200,
   "metadata": {},
   "outputs": [],
   "source": [
    "ddmin = 1e-3.*ddata.min .- rtcorrection;\n",
    "ddmax = 1e-3.*ddata.max .- rtcorrection;\n",
    "ddplot = plot(ddata.swords, [ddmin, ddmax] .* 1e3,\n",
    "    xlim=(10,10e3), xlabel=\"Delay Words\", ylabel=\"Risetime-corrected Delay (log ms)\",\n",
    "    xscale=:log10, yscale=:log10, marker=(:cross), markersize=2, legend=:topleft,\n",
    "    label=[\"Minimum delay\", \"Maximum delay\"]);"
   ]
  },
  {
   "cell_type": "code",
   "execution_count": 201,
   "metadata": {
    "collapsed": true
   },
   "outputs": [],
   "source": [
    "savefig(ddplot, \"ddplot.png\")"
   ]
  },
  {
   "cell_type": "markdown",
   "metadata": {},
   "source": [
    "## Estimated Internal Propagation Delay"
   ]
  },
  {
   "cell_type": "markdown",
   "metadata": {},
   "source": [
    "Roughly estimated from risetime-corrected delay data."
   ]
  },
  {
   "cell_type": "code",
   "execution_count": 6,
   "metadata": {},
   "outputs": [
    {
     "data": {
      "text/plain": [
       "40.14411859255405"
      ]
     },
     "execution_count": 6,
     "metadata": {},
     "output_type": "execute_result"
    }
   ],
   "source": [
    "pt = mean(map(mean, [minerr[1:13], maxerr[1:13]])) ./ 1e-9 # ns"
   ]
  },
  {
   "cell_type": "markdown",
   "metadata": {},
   "source": [
    "## In-Out Difference Mean"
   ]
  },
  {
   "cell_type": "code",
   "execution_count": 7,
   "metadata": {},
   "outputs": [
    {
     "data": {
      "text/latex": [
       "$-1.023 \\pm 0.095$"
      ],
      "text/plain": [
       "-1.023 ± 0.095"
      ]
     },
     "execution_count": 7,
     "metadata": {},
     "output_type": "execute_result"
    }
   ],
   "source": [
    "meandata = CSV.File(\"./data/diffmean2.csv\"; header=false);\n",
    "meanweights = FrequencyWeights(meandata.Column2);\n",
    "diffμ = mean(meandata.Column1, meanweights);\n",
    "diffμσ = std(meandata.Column1, meanweights, corrected=true);\n",
    "(diffμ ± diffμσ) * 1e3 # mV"
   ]
  },
  {
   "cell_type": "markdown",
   "metadata": {},
   "source": [
    "## In-Out Difference ACRMS (Standard Deviation)"
   ]
  },
  {
   "cell_type": "code",
   "execution_count": 8,
   "metadata": {},
   "outputs": [
    {
     "data": {
      "text/latex": [
       "$1.035 \\pm 0.058$"
      ],
      "text/plain": [
       "1.035 ± 0.058"
      ]
     },
     "execution_count": 8,
     "metadata": {},
     "output_type": "execute_result"
    }
   ],
   "source": [
    "acrmsdata = CSV.File(\"./data/diffacrms2.csv\"; header=false);\n",
    "acrmsweights = FrequencyWeights(acrmsdata.Column2);\n",
    "diffσ = mean(acrmsdata.Column1, acrmsweights);\n",
    "diffσσ = std(acrmsdata.Column1, acrmsweights, corrected=true);\n",
    "(diffσ ± diffσσ) * 1e3 # mV (RMS)"
   ]
  },
  {
   "cell_type": "markdown",
   "metadata": {},
   "source": [
    "# Output Plots"
   ]
  },
  {
   "cell_type": "markdown",
   "metadata": {},
   "source": [
    "- Input: 50 Hz sine wave.\n",
    "- Clock: 50 kHz.\n",
    "- Delay: 1000 swords.\n",
    "- Measurement Bandwidth: 100 MHz."
   ]
  },
  {
   "cell_type": "code",
   "execution_count": 9,
   "metadata": {},
   "outputs": [
    {
     "data": {
      "text/plain": [
       "CSV.File(\"./data/500HzDiff100MHz.csv\"):\n",
       "Size: 1250000 x 2\n",
       "Tables.Schema:\n",
       " :t  Float64\n",
       " :v  Float64"
      ]
     },
     "execution_count": 9,
     "metadata": {},
     "output_type": "execute_result"
    }
   ],
   "source": [
    "diff500 = CSV.File(\"./data/500HzDiff100MHz.csv\", skipto=10, header=[:t, :v]) # Oops: is actually 50 Hz"
   ]
  },
  {
   "cell_type": "code",
   "execution_count": 10,
   "metadata": {
    "collapsed": true
   },
   "outputs": [],
   "source": [
    "# Resample/decimate for faster plotting\n",
    "#ddiff500t = resample(diff500.t, 1 // 10);\n",
    "#ddiff500v = resample(diff500.v, 1 // 10);\n",
    "\n",
    "ddiff500t = diff500.t;\n",
    "ddiff500v = diff500.v;"
   ]
  },
  {
   "cell_type": "markdown",
   "metadata": {},
   "source": [
    "- Input: 5 kHz sine wave.\n",
    "- Clock: 5 MHz.\n",
    "- Delay: 1000 swords.\n",
    "- Measurement Bandwidth: 250 MHz."
   ]
  },
  {
   "cell_type": "code",
   "execution_count": 11,
   "metadata": {},
   "outputs": [
    {
     "data": {
      "text/plain": [
       "CSV.File(\"./data/5MHzDiff250MHz.csv\"):\n",
       "Size: 625000 x 2\n",
       "Tables.Schema:\n",
       " :t  Float64\n",
       " :v  Float64"
      ]
     },
     "execution_count": 11,
     "metadata": {},
     "output_type": "execute_result"
    }
   ],
   "source": [
    "diff5M = CSV.File(\"./data/5MHzDiff250MHz.csv\", skipto=10, header=[:t, :v]) # Oops: signal is 5 kHz"
   ]
  },
  {
   "cell_type": "code",
   "execution_count": 12,
   "metadata": {
    "collapsed": true
   },
   "outputs": [],
   "source": [
    "# Resample/decimate for faster plotting\n",
    "#ddiff5Mt = resample(diff5M.t, 1 // 10);\n",
    "#ddiff5Mv = resample(diff5M.v, 1 // 10);\n",
    "\n",
    "ddiff5Mt = diff5M.t;\n",
    "ddiff5Mv = diff5M.v;"
   ]
  },
  {
   "cell_type": "markdown",
   "metadata": {},
   "source": [
    "Generate all of the plots."
   ]
  },
  {
   "cell_type": "code",
   "execution_count": 13,
   "metadata": {
    "collapsed": true
   },
   "outputs": [],
   "source": [
    "p500 = plot(ddiff500t .* 50.0 * 360, ddiff500v .* 1e3, ylabel=\"Vin - Vout (mV)\",\n",
    "    xticks=-180:45:180, ylim=(-25, 25), legend=false, color=:black, linewidth=0.25);"
   ]
  },
  {
   "cell_type": "code",
   "execution_count": 14,
   "metadata": {
    "collapsed": true
   },
   "outputs": [],
   "source": [
    "p500d = plot(ddiff500t .* 50.0 * 360, ddiff500v .* 1e3,\n",
    "    xticks=-5:1:5, xlim=(-3, 3), ylim=(-80, 20), legend=false, color=:black, linewidth=0.25);"
   ]
  },
  {
   "cell_type": "code",
   "execution_count": 15,
   "metadata": {
    "collapsed": true
   },
   "outputs": [],
   "source": [
    "p5M = plot(ddiff5Mt .* 5e3 * 360, ddiff5Mv .* 1e3, xlabel=\"Phase (deg)\", ylabel=\"Vin - Vout (mV)\",\n",
    "    xticks=-180:45:180, ylim=(-25, 25), legend=false, color=:lightgray, linewidth=0.25);"
   ]
  },
  {
   "cell_type": "code",
   "execution_count": 16,
   "metadata": {
    "collapsed": true
   },
   "outputs": [],
   "source": [
    "p5Md = plot(ddiff5Mt .* 5e3 * 360, ddiff5Mv .* 1e3, xlabel=\"Phase (deg)\",\n",
    "    xticks=-5:1:5, xlim=(-3, 3), ylim=(-80, 20), legend=false, color=:black, linewidth=0.25);"
   ]
  },
  {
   "cell_type": "code",
   "execution_count": 17,
   "metadata": {
    "collapsed": true
   },
   "outputs": [],
   "source": [
    "pdiffs = plot(p500, p500d, p5M, p5Md, layout = @layout [a b; c d]);"
   ]
  },
  {
   "cell_type": "markdown",
   "metadata": {},
   "source": [
    "Save the single combined plot. This is significantly faster than if all of the plots above were individually shown and then combined."
   ]
  },
  {
   "cell_type": "code",
   "execution_count": 18,
   "metadata": {
    "collapsed": true
   },
   "outputs": [],
   "source": [
    "savefig(pdiffs, \"pdiffs.png\")"
   ]
  },
  {
   "cell_type": "markdown",
   "metadata": {},
   "source": [
    "# Varying Output Filters"
   ]
  },
  {
   "cell_type": "markdown",
   "metadata": {},
   "source": [
    "Sallen-key topology (implementation)."
   ]
  },
  {
   "cell_type": "code",
   "execution_count": 19,
   "metadata": {
    "collapsed": true
   },
   "outputs": [],
   "source": [
    "# Bessel\n",
    "#Q = √(3.) / 3.;\n",
    "#ω0 = √(3.);\n",
    "Q = 1. / 2; # C1 = C2, simple\n",
    "ω0 = 1.;\n",
    "sallen_key = convert(ZeroPoleGain, Biquad(0., 0., ω0^2, ω0 / Q, ω0^2));"
   ]
  },
  {
   "cell_type": "markdown",
   "metadata": {},
   "source": [
    "Bessel filter."
   ]
  },
  {
   "cell_type": "code",
   "execution_count": 20,
   "metadata": {
    "collapsed": true
   },
   "outputs": [],
   "source": [
    "# Reverse Bessel polynomial θₙ(s)\n",
    "θ(n, s) = sum(k -> (factorial(2n - k) / (2^(n-k) * factorial(k) * factorial(n - k))) * s^k, 0:n)\n",
    "Bessel2 = convert(ZeroPoleGain, Biquad(0.0, 0.0, θ(2, 0.0), 3.0, 3.0));"
   ]
  },
  {
   "cell_type": "markdown",
   "metadata": {},
   "source": [
    "Butterworth filter."
   ]
  },
  {
   "cell_type": "code",
   "execution_count": 21,
   "metadata": {
    "collapsed": true
   },
   "outputs": [],
   "source": [
    "Butterworth2 = Butterworth(2);"
   ]
  },
  {
   "cell_type": "markdown",
   "metadata": {},
   "source": [
    "Plot all filters on the original signal to see how they perform."
   ]
  },
  {
   "cell_type": "code",
   "execution_count": 22,
   "metadata": {
    "collapsed": true,
    "scrolled": false
   },
   "outputs": [],
   "source": [
    "f0 = 100e3;\n",
    "responsetype = [Lowpass(f; fs = 1. / 3.2e-10) for f in [f0]];\n",
    "designmethod = [(Butterworth2, \"Butterworth (2nd-order)\"), (sallen_key, \"Sallen Key (w0 = $ω0, Q = $Q)\"), (Bessel2, \"Bessel (second-order)\")];\n",
    "filters = [(digitalfilter(r, d[1]), d[2]) for r in responsetype for d in designmethod];\n",
    "fp5M = plot(p5M, legend=true, label=\"Unfiltered\", title=\"$(f0/1e3) kHz filters on 5 MHz clock difference data\");  \n",
    "map(f -> plot!(ddiff5Mt .* 5e3 * 360, filt(f[1], ddiff5Mv) .* 1e3, xlabel=\"Phase (deg)\", ylabel=\"Vin - Vout (mV)\",\n",
    "                xticks=-180:45:180, xlim=(-50, 50), ylim=(-15, 15), label=f[2], linewidth=0.25),\n",
    "    filters);\n",
    "savefig(fp5M, \"fp5M.pdf\")"
   ]
  },
  {
   "cell_type": "markdown",
   "metadata": {},
   "source": [
    "# Initial History Programming"
   ]
  },
  {
   "cell_type": "code",
   "execution_count": 23,
   "metadata": {
    "collapsed": true
   },
   "outputs": [],
   "source": [
    "little_endian(x) = UInt8.([x & 0x00FF, x >> 8]);"
   ]
  },
  {
   "cell_type": "code",
   "execution_count": 24,
   "metadata": {},
   "outputs": [
    {
     "data": {
      "text/plain": [
       "0x7a569719"
      ]
     },
     "metadata": {},
     "output_type": "display_data"
    }
   ],
   "source": [
    "#prog_words = rand(UInt16, 4096) .& 0x0FFF;\n",
    "prog_words = [0x0000, 0x07FF, 0x0FFF, 0x07FF, 0x0000, 0x07FF, 0x0FFF, 0x07FF, 0x0000, 0x07FF, 0x0FFF, 0x07FF, 0x0000, 0x07FF, 0x0FFF, 0x07FF];\n",
    "#prog_words = ones(UInt16, 16) .* 0x0FFF;\n",
    "waveform_file = \"./serial_data.bin\";\n",
    "write(waveform_file, prog_words);\n",
    "#println(@. 2.5 * (-1. + 2. * Float64(prog_words) / Float64(0x0FFF)));\n",
    "crc32 = crc(CRC_32);\n",
    "prog_crc = crc32(vcat(little_endian.(prog_words)...));\n",
    "display(prog_crc);"
   ]
  },
  {
   "cell_type": "code",
   "execution_count": 25,
   "metadata": {},
   "outputs": [
    {
     "data": {
      "text/plain": [
       "16-element Array{UInt16,1}:\n",
       " 0x0000\n",
       " 0x07ff\n",
       " 0x0fff\n",
       " 0x07ff\n",
       " 0x0000\n",
       " 0x07ff\n",
       " 0x0fff\n",
       " 0x07ff\n",
       " 0x0000\n",
       " 0x07ff\n",
       " 0x0fff\n",
       " 0x07ff\n",
       " 0x0000\n",
       " 0x07ff\n",
       " 0x0fff\n",
       " 0x07ff"
      ]
     },
     "execution_count": 25,
     "metadata": {},
     "output_type": "execute_result"
    }
   ],
   "source": [
    "prog_words"
   ]
  },
  {
   "cell_type": "markdown",
   "metadata": {},
   "source": [
    "## Initial History Programming Instructions"
   ]
  },
  {
   "cell_type": "markdown",
   "metadata": {},
   "source": [
    "- Open *Realterm*.\n",
    "- On the *Display* tab, check the *newLine mode* box.\n",
    "- On the *Port* tab, set the *Baud* rate to *115200*.\n",
    "- Select the *Port* that the *Arduino Due* is plugged in to, such as `6 = \\USBSER000`.\n",
    "- Press enter in the *Port* field to open the port. You should see text from the Arduino Due.\n",
    "- On the *Send* tab, select the first text field.\n",
    "- Type `ph N`, where `N` is the number of words that you want to program.\n",
    "- Click the *Send ASCII* button. (Do not include a line feed in this command, as it will be interpreted as data).\n",
    "- In the *Dump File to Port* section, click the ellipses (`...`) box.\n",
    "- Select the history data file that you want to program.\n",
    "- Under *Delays*, set the first entry (*Character Delay*) to `1`.\n",
    "- Click *Send File*. You should see a hexdump of the data from the Arduino Due as it is transmitted.\n",
    "- At the end of the transmission, there will be a line that says `CRC: 0x...`. Check that this matches the `CRC_32` of the sent data (little-endian).\n",
    "- Send the `go` command to the Arduino Due to switch to the external input and clocks."
   ]
  },
  {
   "cell_type": "code",
   "execution_count": 26,
   "metadata": {},
   "outputs": [
    {
     "data": {
      "text/plain": [
       "106103.29539459689"
      ]
     },
     "execution_count": 26,
     "metadata": {},
     "output_type": "execute_result"
    }
   ],
   "source": [
    "1/(2π*0.1e3*15e-9)"
   ]
  },
  {
   "cell_type": "markdown",
   "metadata": {},
   "source": [
    "# Filtered Output Plots"
   ]
  },
  {
   "cell_type": "markdown",
   "metadata": {},
   "source": [
    "## Signal A"
   ]
  },
  {
   "cell_type": "markdown",
   "metadata": {},
   "source": [
    "- Input: 5 kHz sine wave.\n",
    "- Clock: 5 MHz.\n",
    "- Delay: 1000 swords.\n",
    "- Measurement Bandwidth: 250 MHz."
   ]
  },
  {
   "cell_type": "code",
   "execution_count": 27,
   "metadata": {
    "collapsed": true
   },
   "outputs": [],
   "source": [
    "ain = CSV.File(\"./data/5-5-in.csv\", skipto=10, header=[:t, :v]); # Input signal\n",
    "aout = CSV.File(\"./data/5-5-unfiltered.csv\", skipto=10, header=[:t, :v]); # Unfiltered output\n",
    "arc = CSV.File(\"./data/5-5-106kHz-RC.csv\", skipto=10, header=[:t, :v]); # 106 kHz RC filter (single-pole)\n",
    "abessel4 = CSV.File(\"./data/5-5-bessel4.csv\", skipto=10, header=[:t, :v]); # ~121 kHz Bessel filter (four-pole)"
   ]
  },
  {
   "cell_type": "code",
   "execution_count": 28,
   "metadata": {
    "collapsed": true
   },
   "outputs": [],
   "source": [
    "abessel4vpp = maximum(abessel4.v) - minimum(abessel4.v);"
   ]
  },
  {
   "cell_type": "code",
   "execution_count": 29,
   "metadata": {
    "collapsed": true
   },
   "outputs": [],
   "source": [
    "pain = plot(ain.t .* 1e6, ain.v .* 1e3, label=\"Input\");"
   ]
  },
  {
   "cell_type": "code",
   "execution_count": 30,
   "metadata": {
    "collapsed": true
   },
   "outputs": [],
   "source": [
    "paout = plot!(aout.t .* 1e6, aout.v .* 1e3, label=\"Unfiltered Output\");"
   ]
  },
  {
   "cell_type": "code",
   "execution_count": 31,
   "metadata": {
    "collapsed": true
   },
   "outputs": [],
   "source": [
    "parc = plot!(arc.t .* 1e6, arc.v .* 1e3, label=\"106 kHz 1p LPF\");"
   ]
  },
  {
   "cell_type": "code",
   "execution_count": 32,
   "metadata": {
    "collapsed": true
   },
   "outputs": [],
   "source": [
    "pabessel4 = plot!(abessel4.t .* 1e6, abessel4.v * 1e3 * (1.0 / abessel4vpp), label=\"~121 kHz 4p Bessel LPF (rescaled)\",\n",
    "    xlabel=\"Time (us)\", ylabel=\"Output Voltage (mV)\", xlim=(0, 200), ylim=(-750, 750), legend=:topright, linewidth=0.25);"
   ]
  },
  {
   "cell_type": "code",
   "execution_count": 33,
   "metadata": {
    "collapsed": true
   },
   "outputs": [],
   "source": [
    "savefig(pabessel4, \"pa.pdf\")"
   ]
  },
  {
   "cell_type": "markdown",
   "metadata": {},
   "source": [
    "## Signal B"
   ]
  },
  {
   "cell_type": "markdown",
   "metadata": {},
   "source": [
    "- Input: 20 kHz symmetric triangle wave.\n",
    "- Clock: 5 MHz.\n",
    "- Delay: 1000 swords.\n",
    "- Measurement Bandwidth: 250 MHz."
   ]
  },
  {
   "cell_type": "code",
   "execution_count": 34,
   "metadata": {
    "collapsed": true
   },
   "outputs": [],
   "source": [
    "bin = CSV.File(\"./data/5-20-in.csv\", skipto=10, header=[:t, :v]); # Input signal. ZI: 6249.5\n",
    "bout = CSV.File(\"./data/5-20-unfiltered.csv\", skipto=10, header=[:t, :v]); # Unfiltered output\n",
    "brc = CSV.File(\"./data/5-20-RC.csv\", skipto=10, header=[:t, :v]); # 106 kHz RC filter (single-pole)\n",
    "bbessel4 = CSV.File(\"./data/5-20-bessel4.csv\", skipto=10, header=[:t, :v]); # ~121 kHz Bessel filter (four-pole). ZI: -0.5"
   ]
  },
  {
   "cell_type": "code",
   "execution_count": 35,
   "metadata": {
    "collapsed": true
   },
   "outputs": [],
   "source": [
    "bbessel4vpp = maximum(bbessel4.v) - minimum(bbessel4.v);"
   ]
  },
  {
   "cell_type": "code",
   "execution_count": 36,
   "metadata": {
    "collapsed": true
   },
   "outputs": [],
   "source": [
    "pbout = plot(bout.t .* 1e6, bout.v .* 1e3, label=\"Unfiltered\");"
   ]
  },
  {
   "cell_type": "code",
   "execution_count": 37,
   "metadata": {
    "collapsed": true
   },
   "outputs": [],
   "source": [
    "pbrc = plot!(brc.t .* 1e6, brc.v .* 1e3, label=\"106 kHz 1p LPF\");"
   ]
  },
  {
   "cell_type": "code",
   "execution_count": 38,
   "metadata": {
    "collapsed": true
   },
   "outputs": [],
   "source": [
    "pbbessel4 = plot!(bbessel4.t .* 1e6, bbessel4.v * 1e3 * (1.0 / bbessel4vpp), label=\"~121 kHz 4p Bessel LPF (rescaled)\",\n",
    "    xlabel=\"Time (us)\", ylabel=\"Output Voltage (mV)\", xlim=(0, 50), ylim=(-750, 750), legend=:topright, linewidth=0.25);"
   ]
  },
  {
   "cell_type": "code",
   "execution_count": 39,
   "metadata": {
    "collapsed": true
   },
   "outputs": [],
   "source": [
    "savefig(pbbessel4, \"pb.pdf\")"
   ]
  },
  {
   "cell_type": "markdown",
   "metadata": {},
   "source": [
    "## Nelder-Mead Optimization of Filter Output Gain and Phase"
   ]
  },
  {
   "cell_type": "code",
   "execution_count": 40,
   "metadata": {},
   "outputs": [
    {
     "data": {
      "text/plain": [
       "waveerr (generic function with 1 method)"
      ]
     },
     "execution_count": 40,
     "metadata": {},
     "output_type": "execute_result"
    }
   ],
   "source": [
    "sΔt = 3.2e-10;\n",
    "span = 0.5;\n",
    "margin = (1 - span) / 2;\n",
    "function slidesamples(x, n, m)\n",
    "    xlen = length(x);\n",
    "    a = mod(Int64(floor(n)), xlen);\n",
    "    b = mod(Int64(floor(n) + floor(m)), xlen);\n",
    "    x[a:b]\n",
    "end\n",
    "stdslide(x; m=margin) = slidesamples(x, m*length(x), span*length(x));\n",
    "function modifywave(y, n, k, off)\n",
    "    off .+ (k .* slidesamples(y, n * length(y), span*length(y)))\n",
    "end\n",
    "function waveerr(x, y, s)\n",
    "    xlen = length(x);\n",
    "    rms(stdslide(x) .- modifywave(y, s...))\n",
    "end"
   ]
  },
  {
   "cell_type": "code",
   "execution_count": 41,
   "metadata": {},
   "outputs": [
    {
     "data": {
      "text/plain": [
       " * Status: success\n",
       "\n",
       " * Candidate solution\n",
       "    Minimizer: [2.43e-01, 1.01e+00, 2.20e-03]\n",
       "    Minimum:   4.372209e-03\n",
       "\n",
       " * Found with\n",
       "    Algorithm:     Nelder-Mead\n",
       "    Initial Point: [2.50e-01, 1.00e+00, 0.00e+00]\n",
       "\n",
       " * Convergence measures\n",
       "    √(Σ(yᵢ-ȳ)²)/n ≤ 1.0e-08\n",
       "\n",
       " * Work counters\n",
       "    Iterations:    85\n",
       "    f(x) calls:    177\n"
      ]
     },
     "execution_count": 41,
     "metadata": {},
     "output_type": "execute_result"
    }
   ],
   "source": [
    "arcoptim = optimize(s -> waveerr(ain.v, arc.v, s), [margin, 1., 0.])"
   ]
  },
  {
   "cell_type": "code",
   "execution_count": 42,
   "metadata": {},
   "outputs": [
    {
     "data": {
      "text/plain": [
       " * Status: success\n",
       "\n",
       " * Candidate solution\n",
       "    Minimizer: [2.50e-01, 2.54e-01, 1.61e-02]\n",
       "    Minimum:   2.959149e-03\n",
       "\n",
       " * Found with\n",
       "    Algorithm:     Nelder-Mead\n",
       "    Initial Point: [2.50e-01, 2.54e-01, 0.00e+00]\n",
       "\n",
       " * Convergence measures\n",
       "    √(Σ(yᵢ-ȳ)²)/n ≤ 1.0e-08\n",
       "\n",
       " * Work counters\n",
       "    Iterations:    84\n",
       "    f(x) calls:    182\n"
      ]
     },
     "execution_count": 42,
     "metadata": {},
     "output_type": "execute_result"
    }
   ],
   "source": [
    "abessel4optim = optimize(s -> waveerr(ain.v, abessel4.v, s), [margin, 1.0 / abessel4vpp, 0.])"
   ]
  },
  {
   "cell_type": "code",
   "execution_count": 43,
   "metadata": {
    "collapsed": true
   },
   "outputs": [],
   "source": [
    "arco = modifywave(arc.v, arcoptim.minimizer...);"
   ]
  },
  {
   "cell_type": "code",
   "execution_count": 44,
   "metadata": {
    "collapsed": true
   },
   "outputs": [],
   "source": [
    "abessel4o = modifywave(abessel4.v, abessel4optim.minimizer...);"
   ]
  },
  {
   "cell_type": "code",
   "execution_count": 195,
   "metadata": {},
   "outputs": [],
   "source": [
    "plot(stdslide(aout.t) .* 1e6, stdslide(aout.v) .* 1e3, label=\"Unfiltered Output\", color=:gray, xlim=(100, 297));\n",
    "plot!(stdslide(ain.t) .* 1e6, stdslide(ain.v) .* 1e3, label=\"Input\", color=:black);\n",
    "paout = plot!(stdslide(abessel4.t) .* 1e6, stdslide(abessel4.v) .* 1e3 * abessel4optim.minimizer[2],\n",
    "    label=\"~121 kHz 4p Bessel LPF (rescaled)\", color=:black, alpha=0.75,\n",
    "    legend=:topleft, xlabel=\"Time (us)\", ylabel=\"Voltage (mV)\");\n",
    "#plot!(stdslide(arc.t) .* 1e6, stdslide(arc.v) .* 1e3, label=\"106 kHz 1p (RC) LPF\");"
   ]
  },
  {
   "cell_type": "code",
   "execution_count": 180,
   "metadata": {
    "collapsed": true
   },
   "outputs": [],
   "source": [
    "savefig(paout, \"paout.png\")"
   ]
  },
  {
   "cell_type": "code",
   "execution_count": 174,
   "metadata": {
    "collapsed": true
   },
   "outputs": [],
   "source": [
    "parc = plot(stdslide(arc.t) .* 1e6, arco .* 1e3, label=\"Optimized RC LPF\");\n",
    "pabessel4 = plot!(stdslide(abessel4.t) .* 1e6, abessel4o .* 1e3, label=\"Optimized Bessel LPF\",\n",
    "    xlabel=\"Time (us)\", ylabel=\"Output Voltage (mV)\", legend=:topleft, linewidth=0.25);\n",
    "pain = plot!((stdslide(ain.t) .+ 6250*sΔt .+ (abessel4.t[1] - ain.t[1])/2) .* 1e6, stdslide(ain.v) .* 1e3, label=\"Input\");"
   ]
  },
  {
   "cell_type": "code",
   "execution_count": 48,
   "metadata": {
    "collapsed": true
   },
   "outputs": [],
   "source": [
    "savefig(pain, \"pain.png\")"
   ]
  },
  {
   "cell_type": "code",
   "execution_count": 49,
   "metadata": {
    "collapsed": true
   },
   "outputs": [],
   "source": [
    "arcodiff = stdslide(ain.v) .- arco;\n",
    "abessel4odiff = stdslide(ain.v) .- abessel4o;"
   ]
  },
  {
   "cell_type": "code",
   "execution_count": 77,
   "metadata": {
    "collapsed": true
   },
   "outputs": [],
   "source": [
    "difff0 = 10e3;\n",
    "difffilter = digitalfilter(Lowpass(difff0; fs = 1. / 3.2e-10), Bessel2);"
   ]
  },
  {
   "cell_type": "code",
   "execution_count": 114,
   "metadata": {},
   "outputs": [],
   "source": [
    "abessel4odiffμ = mean(abessel4odiff);\n",
    "abessel4odiffσ = std(abessel4odiff);"
   ]
  },
  {
   "cell_type": "code",
   "execution_count": 193,
   "metadata": {
    "collapsed": true
   },
   "outputs": [],
   "source": [
    "#plot(stdslide(arc.t) .* 1e6, arcodiff .* 1e3, label=\"RC Difference\", xlim=(100,300));\n",
    "plot(stdslide(abessel4.t) .* 1e6, abessel4odiff .* 1e3, label=\"Bessel Difference\",\n",
    "    xlim=(100,300), ylim=(-15,15), color=:black, legend=false,\n",
    "    xlabel=\"Time (μs)\", ylabel=\"Voltage (mV)\");"
   ]
  },
  {
   "cell_type": "code",
   "execution_count": 194,
   "metadata": {},
   "outputs": [],
   "source": [
    "#plot!(stdslide(arc.t) .* 1e6, filt(difffilter, arcodiff) .* 1e3,\n",
    "#    linewidth=1.5, label=\"RC at $(difff0 / 1e6) MHz BW\", xlim=(100,300));\n",
    "plot!(stdslide(abessel4.t) .* 1e6, x -> abessel4odiffμ * 1e3, color=:white, line=:dash,);\n",
    "padiff = plot!([x -> (abessel4odiffμ - abessel4odiffσ) * 1e3, x -> (abessel4odiffμ + abessel4odiffσ) * 1e3],\n",
    "    line=:dot, color=:white);"
   ]
  },
  {
   "cell_type": "code",
   "execution_count": 152,
   "metadata": {},
   "outputs": [],
   "source": [
    "savefig(padiff, \"padiff.png\")"
   ]
  },
  {
   "cell_type": "code",
   "execution_count": 197,
   "metadata": {},
   "outputs": [],
   "source": [
    "paoutdiff = plot(paout, padiff, layout=@layout [a; b]);"
   ]
  },
  {
   "cell_type": "code",
   "execution_count": 198,
   "metadata": {
    "collapsed": true
   },
   "outputs": [],
   "source": [
    "savefig(paoutdiff, \"paoutdiff.png\")"
   ]
  },
  {
   "cell_type": "code",
   "execution_count": null,
   "metadata": {
    "collapsed": true
   },
   "outputs": [],
   "source": []
  }
 ],
 "metadata": {
  "kernelspec": {
   "display_name": "Julia 1.1.0",
   "language": "julia",
   "name": "julia-1.1"
  },
  "language_info": {
   "file_extension": ".jl",
   "mimetype": "application/julia",
   "name": "julia",
   "version": "1.1.0"
  }
 },
 "nbformat": 4,
 "nbformat_minor": 2
}
