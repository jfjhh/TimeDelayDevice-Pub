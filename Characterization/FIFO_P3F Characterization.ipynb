{
 "cells": [
  {
   "cell_type": "code",
   "execution_count": 1,
   "metadata": {},
   "outputs": [
    {
     "data": {
      "text/plain": [
       "Plots.GRBackend()"
      ]
     },
     "execution_count": 1,
     "metadata": {},
     "output_type": "execute_result"
    }
   ],
   "source": [
    "using StatsBase\n",
    "using Statistics\n",
    "using CSV\n",
    "using Plots\n",
    "using StatsPlots\n",
    "using TikzPictures\n",
    "using DSP\n",
    "using Measurements\n",
    "using CRC\n",
    "using Optim\n",
    "\n",
    "#pgfplots()\n",
    "#tikzCommand(\"lualatex\") # The default. Dynamically allocates more memory, unlike PDFLaTeX\n",
    "gr()"
   ]
  },
  {
   "cell_type": "markdown",
   "metadata": {},
   "source": [
    "Set publication-quality settings for plots."
   ]
  },
  {
   "cell_type": "code",
   "execution_count": 2,
   "metadata": {},
   "outputs": [],
   "source": [
    "upscale = 1 #8x upscaling in resolution\n",
    "fntsm = Plots.font(\"sans-serif\", pointsize=round(10.0*upscale))\n",
    "fntlg = Plots.font(\"sans-serif\", pointsize=round(14.0*upscale))\n",
    "default(titlefont=fntlg, guidefont=fntlg, tickfont=fntsm, legendfont=fntsm)\n",
    "default(size=(800*upscale,600*upscale)) #Plot canvas size\n",
    "#default(dpi=300) #Only for PyPlot - presently broken?"
   ]
  },
  {
   "cell_type": "markdown",
   "metadata": {},
   "source": [
    "# Delayed Signal Computations"
   ]
  },
  {
   "cell_type": "markdown",
   "metadata": {},
   "source": [
    "## DAC Rise Time"
   ]
  },
  {
   "cell_type": "code",
   "execution_count": 3,
   "metadata": {},
   "outputs": [
    {
     "data": {
      "text/plain": [
       "1.1492676743389036e-9"
      ]
     },
     "execution_count": 3,
     "metadata": {},
     "output_type": "execute_result"
    }
   ],
   "source": [
    "rtdata = CSV.File(\"./data/Tek004.csv\"; header=false)\n",
    "rtweights = FrequencyWeights(rtdata.Column2)\n",
    "rt = mean(rtdata.Column1, rtweights)\n",
    "rtσ = std(rtdata.Column1, rtweights, corrected=true)"
   ]
  },
  {
   "cell_type": "code",
   "execution_count": 4,
   "metadata": {},
   "outputs": [
    {
     "data": {
      "text/plain": [
       "1.290866506382043e-7"
      ]
     },
     "execution_count": 4,
     "metadata": {},
     "output_type": "execute_result"
    }
   ],
   "source": [
    "rtσ /= 4 # For a 1 Vpp square wave edge\n",
    "rt /= 4"
   ]
  },
  {
   "cell_type": "markdown",
   "metadata": {},
   "source": [
    "## Delay Error"
   ]
  },
  {
   "cell_type": "markdown",
   "metadata": {},
   "source": [
    "The steps in the error plots are in single-digit intervals, so the results should taken with a grain of salt"
   ]
  },
  {
   "cell_type": "code",
   "execution_count": 5,
   "metadata": {
    "scrolled": false
   },
   "outputs": [
    {
     "data": {
      "image/svg+xml": [
       "<?xml version=\"1.0\" encoding=\"utf-8\"?>\n",
       "<svg xmlns=\"http://www.w3.org/2000/svg\" xmlns:xlink=\"http://www.w3.org/1999/xlink\" width=\"800\" height=\"600\" viewBox=\"0 0 3200 2400\">\n",
       "<defs>\n",
       "  <clipPath id=\"clip6800\">\n",
       "    <rect x=\"0\" y=\"0\" width=\"3200\" height=\"2400\"/>\n",
       "  </clipPath>\n",
       "</defs>\n",
       "<polygon clip-path=\"url(#clip6800)\" points=\"\n",
       "0,2400 3200,2400 3200,0 0,0 \n",
       "  \" fill=\"#ffffff\" fill-rule=\"evenodd\" fill-opacity=\"1\"/>\n",
       "<defs>\n",
       "  <clipPath id=\"clip6801\">\n",
       "    <rect x=\"640\" y=\"0\" width=\"2241\" height=\"2241\"/>\n",
       "  </clipPath>\n",
       "</defs>\n",
       "<polygon clip-path=\"url(#clip6800)\" points=\"\n",
       "261.782,2204.66 3152.76,2204.66 3152.76,47.2441 261.782,47.2441 \n",
       "  \" fill=\"#ffffff\" fill-rule=\"evenodd\" fill-opacity=\"1\"/>\n",
       "<defs>\n",
       "  <clipPath id=\"clip6802\">\n",
       "    <rect x=\"261\" y=\"47\" width=\"2892\" height=\"2158\"/>\n",
       "  </clipPath>\n",
       "</defs>\n",
       "<polyline clip-path=\"url(#clip6802)\" style=\"stroke:#000000; stroke-width:2; stroke-opacity:0.1; fill:none\" points=\"\n",
       "  261.782,2204.66 261.782,47.2441 \n",
       "  \"/>\n",
       "<polyline clip-path=\"url(#clip6802)\" style=\"stroke:#000000; stroke-width:2; stroke-opacity:0.1; fill:none\" points=\"\n",
       "  674.778,2204.66 674.778,47.2441 \n",
       "  \"/>\n",
       "<polyline clip-path=\"url(#clip6802)\" style=\"stroke:#000000; stroke-width:2; stroke-opacity:0.1; fill:none\" points=\"\n",
       "  1087.77,2204.66 1087.77,47.2441 \n",
       "  \"/>\n",
       "<polyline clip-path=\"url(#clip6802)\" style=\"stroke:#000000; stroke-width:2; stroke-opacity:0.1; fill:none\" points=\"\n",
       "  1500.77,2204.66 1500.77,47.2441 \n",
       "  \"/>\n",
       "<polyline clip-path=\"url(#clip6802)\" style=\"stroke:#000000; stroke-width:2; stroke-opacity:0.1; fill:none\" points=\"\n",
       "  1913.77,2204.66 1913.77,47.2441 \n",
       "  \"/>\n",
       "<polyline clip-path=\"url(#clip6802)\" style=\"stroke:#000000; stroke-width:2; stroke-opacity:0.1; fill:none\" points=\"\n",
       "  2326.76,2204.66 2326.76,47.2441 \n",
       "  \"/>\n",
       "<polyline clip-path=\"url(#clip6802)\" style=\"stroke:#000000; stroke-width:2; stroke-opacity:0.1; fill:none\" points=\"\n",
       "  2739.76,2204.66 2739.76,47.2441 \n",
       "  \"/>\n",
       "<polyline clip-path=\"url(#clip6802)\" style=\"stroke:#000000; stroke-width:2; stroke-opacity:0.1; fill:none\" points=\"\n",
       "  3152.76,2204.66 3152.76,47.2441 \n",
       "  \"/>\n",
       "<polyline clip-path=\"url(#clip6802)\" style=\"stroke:#000000; stroke-width:2; stroke-opacity:0.1; fill:none\" points=\"\n",
       "  261.782,1847.6 3152.76,1847.6 \n",
       "  \"/>\n",
       "<polyline clip-path=\"url(#clip6802)\" style=\"stroke:#000000; stroke-width:2; stroke-opacity:0.1; fill:none\" points=\"\n",
       "  261.782,1338.78 3152.76,1338.78 \n",
       "  \"/>\n",
       "<polyline clip-path=\"url(#clip6802)\" style=\"stroke:#000000; stroke-width:2; stroke-opacity:0.1; fill:none\" points=\"\n",
       "  261.782,829.952 3152.76,829.952 \n",
       "  \"/>\n",
       "<polyline clip-path=\"url(#clip6802)\" style=\"stroke:#000000; stroke-width:2; stroke-opacity:0.1; fill:none\" points=\"\n",
       "  261.782,321.128 3152.76,321.128 \n",
       "  \"/>\n",
       "<polyline clip-path=\"url(#clip6800)\" style=\"stroke:#000000; stroke-width:4; stroke-opacity:1; fill:none\" points=\"\n",
       "  261.782,2204.66 3152.76,2204.66 \n",
       "  \"/>\n",
       "<polyline clip-path=\"url(#clip6800)\" style=\"stroke:#000000; stroke-width:4; stroke-opacity:1; fill:none\" points=\"\n",
       "  261.782,2204.66 261.782,47.2441 \n",
       "  \"/>\n",
       "<polyline clip-path=\"url(#clip6800)\" style=\"stroke:#000000; stroke-width:4; stroke-opacity:1; fill:none\" points=\"\n",
       "  261.782,2204.66 261.782,2172.3 \n",
       "  \"/>\n",
       "<polyline clip-path=\"url(#clip6800)\" style=\"stroke:#000000; stroke-width:4; stroke-opacity:1; fill:none\" points=\"\n",
       "  674.778,2204.66 674.778,2172.3 \n",
       "  \"/>\n",
       "<polyline clip-path=\"url(#clip6800)\" style=\"stroke:#000000; stroke-width:4; stroke-opacity:1; fill:none\" points=\"\n",
       "  1087.77,2204.66 1087.77,2172.3 \n",
       "  \"/>\n",
       "<polyline clip-path=\"url(#clip6800)\" style=\"stroke:#000000; stroke-width:4; stroke-opacity:1; fill:none\" points=\"\n",
       "  1500.77,2204.66 1500.77,2172.3 \n",
       "  \"/>\n",
       "<polyline clip-path=\"url(#clip6800)\" style=\"stroke:#000000; stroke-width:4; stroke-opacity:1; fill:none\" points=\"\n",
       "  1913.77,2204.66 1913.77,2172.3 \n",
       "  \"/>\n",
       "<polyline clip-path=\"url(#clip6800)\" style=\"stroke:#000000; stroke-width:4; stroke-opacity:1; fill:none\" points=\"\n",
       "  2326.76,2204.66 2326.76,2172.3 \n",
       "  \"/>\n",
       "<polyline clip-path=\"url(#clip6800)\" style=\"stroke:#000000; stroke-width:4; stroke-opacity:1; fill:none\" points=\"\n",
       "  2739.76,2204.66 2739.76,2172.3 \n",
       "  \"/>\n",
       "<polyline clip-path=\"url(#clip6800)\" style=\"stroke:#000000; stroke-width:4; stroke-opacity:1; fill:none\" points=\"\n",
       "  3152.76,2204.66 3152.76,2172.3 \n",
       "  \"/>\n",
       "<polyline clip-path=\"url(#clip6800)\" style=\"stroke:#000000; stroke-width:4; stroke-opacity:1; fill:none\" points=\"\n",
       "  261.782,1847.6 305.147,1847.6 \n",
       "  \"/>\n",
       "<polyline clip-path=\"url(#clip6800)\" style=\"stroke:#000000; stroke-width:4; stroke-opacity:1; fill:none\" points=\"\n",
       "  261.782,1338.78 305.147,1338.78 \n",
       "  \"/>\n",
       "<polyline clip-path=\"url(#clip6800)\" style=\"stroke:#000000; stroke-width:4; stroke-opacity:1; fill:none\" points=\"\n",
       "  261.782,829.952 305.147,829.952 \n",
       "  \"/>\n",
       "<polyline clip-path=\"url(#clip6800)\" style=\"stroke:#000000; stroke-width:4; stroke-opacity:1; fill:none\" points=\"\n",
       "  261.782,321.128 305.147,321.128 \n",
       "  \"/>\n",
       "<g clip-path=\"url(#clip6800)\">\n",
       "<text style=\"fill:#000000; fill-opacity:1; font-family:Arial,Helvetica Neue,Helvetica,sans-serif; font-size:59px; text-anchor:middle;\" transform=\"rotate(0, 261.782, 2272.26)\" x=\"261.782\" y=\"2272.26\">10</text>\n",
       "</g>\n",
       "<g clip-path=\"url(#clip6800)\">\n",
       "<text style=\"fill:#000000; fill-opacity:1; font-family:Arial,Helvetica Neue,Helvetica,sans-serif; font-size:59px; text-anchor:middle;\" transform=\"rotate(0, 674.778, 2272.26)\" x=\"674.778\" y=\"2272.26\">20</text>\n",
       "</g>\n",
       "<g clip-path=\"url(#clip6800)\">\n",
       "<text style=\"fill:#000000; fill-opacity:1; font-family:Arial,Helvetica Neue,Helvetica,sans-serif; font-size:59px; text-anchor:middle;\" transform=\"rotate(0, 1087.77, 2272.26)\" x=\"1087.77\" y=\"2272.26\">30</text>\n",
       "</g>\n",
       "<g clip-path=\"url(#clip6800)\">\n",
       "<text style=\"fill:#000000; fill-opacity:1; font-family:Arial,Helvetica Neue,Helvetica,sans-serif; font-size:59px; text-anchor:middle;\" transform=\"rotate(0, 1500.77, 2272.26)\" x=\"1500.77\" y=\"2272.26\">40</text>\n",
       "</g>\n",
       "<g clip-path=\"url(#clip6800)\">\n",
       "<text style=\"fill:#000000; fill-opacity:1; font-family:Arial,Helvetica Neue,Helvetica,sans-serif; font-size:59px; text-anchor:middle;\" transform=\"rotate(0, 1913.77, 2272.26)\" x=\"1913.77\" y=\"2272.26\">50</text>\n",
       "</g>\n",
       "<g clip-path=\"url(#clip6800)\">\n",
       "<text style=\"fill:#000000; fill-opacity:1; font-family:Arial,Helvetica Neue,Helvetica,sans-serif; font-size:59px; text-anchor:middle;\" transform=\"rotate(0, 2326.76, 2272.26)\" x=\"2326.76\" y=\"2272.26\">60</text>\n",
       "</g>\n",
       "<g clip-path=\"url(#clip6800)\">\n",
       "<text style=\"fill:#000000; fill-opacity:1; font-family:Arial,Helvetica Neue,Helvetica,sans-serif; font-size:59px; text-anchor:middle;\" transform=\"rotate(0, 2739.76, 2272.26)\" x=\"2739.76\" y=\"2272.26\">70</text>\n",
       "</g>\n",
       "<g clip-path=\"url(#clip6800)\">\n",
       "<text style=\"fill:#000000; fill-opacity:1; font-family:Arial,Helvetica Neue,Helvetica,sans-serif; font-size:59px; text-anchor:middle;\" transform=\"rotate(0, 3152.76, 2272.26)\" x=\"3152.76\" y=\"2272.26\">80</text>\n",
       "</g>\n",
       "<g clip-path=\"url(#clip6800)\">\n",
       "<text style=\"fill:#000000; fill-opacity:1; font-family:Arial,Helvetica Neue,Helvetica,sans-serif; font-size:59px; text-anchor:end;\" transform=\"rotate(0, 229.782, 1869.1)\" x=\"229.782\" y=\"1869.1\">0</text>\n",
       "</g>\n",
       "<g clip-path=\"url(#clip6800)\">\n",
       "<text style=\"fill:#000000; fill-opacity:1; font-family:Arial,Helvetica Neue,Helvetica,sans-serif; font-size:59px; text-anchor:end;\" transform=\"rotate(0, 229.782, 1360.28)\" x=\"229.782\" y=\"1360.28\">50</text>\n",
       "</g>\n",
       "<g clip-path=\"url(#clip6800)\">\n",
       "<text style=\"fill:#000000; fill-opacity:1; font-family:Arial,Helvetica Neue,Helvetica,sans-serif; font-size:59px; text-anchor:end;\" transform=\"rotate(0, 229.782, 851.452)\" x=\"229.782\" y=\"851.452\">100</text>\n",
       "</g>\n",
       "<g clip-path=\"url(#clip6800)\">\n",
       "<text style=\"fill:#000000; fill-opacity:1; font-family:Arial,Helvetica Neue,Helvetica,sans-serif; font-size:59px; text-anchor:end;\" transform=\"rotate(0, 229.782, 342.628)\" x=\"229.782\" y=\"342.628\">150</text>\n",
       "</g>\n",
       "<g clip-path=\"url(#clip6800)\">\n",
       "<text style=\"fill:#000000; fill-opacity:1; font-family:Arial,Helvetica Neue,Helvetica,sans-serif; font-size:82px; text-anchor:middle;\" transform=\"rotate(0, 1707.27, 2375.56)\" x=\"1707.27\" y=\"2375.56\">Delay Words</text>\n",
       "</g>\n",
       "<g clip-path=\"url(#clip6800)\">\n",
       "<text style=\"fill:#000000; fill-opacity:1; font-family:Arial,Helvetica Neue,Helvetica,sans-serif; font-size:82px; text-anchor:middle;\" transform=\"rotate(-90, 81.3987, 1125.95)\" x=\"81.3987\" y=\"1125.95\">Risetime-corrected Delay Error (ns)</text>\n",
       "</g>\n",
       "<polyline clip-path=\"url(#clip6802)\" style=\"stroke:#009af9; stroke-width:4; stroke-opacity:1; fill:none\" points=\"\n",
       "  303.082,1125.95 344.381,1125.95 385.681,108.303 426.98,1125.95 468.28,1125.95 509.58,1125.95 550.879,1125.95 592.179,1125.95 633.479,1125.95 674.778,108.303 \n",
       "  1087.77,1125.95 1500.77,1125.95 1913.77,1125.95 2326.76,1847.6 2739.76,1847.6 3152.76,1847.6 3565.75,1847.6 3978.75,1847.6 8108.71,1847.6 12238.7,1847.6 \n",
       "  16368.6,1847.6 20498.6,1847.6 24628.6,1847.6 28758.5,1847.6 32888.5,1847.6 37018.5,1847.6 41148.4,1847.6 82448,1847.6 123748,1847.6 165047,1847.6 \n",
       "  206347,1847.6 247647,1847.6 288946,1847.6 330246,1847.6 371545,1847.6 \n",
       "  \"/>\n",
       "<polyline clip-path=\"url(#clip6802)\" style=\"stroke:#e26f46; stroke-width:4; stroke-opacity:1; fill:none\" points=\"\n",
       "  303.082,1125.95 344.381,2143.6 385.681,2143.6 426.98,2143.6 468.28,2143.6 509.58,2143.6 550.879,1125.95 592.179,2143.6 633.479,1125.95 674.778,2143.6 \n",
       "  1087.77,2143.6 1500.77,2143.6 1913.77,2143.6 2326.76,1847.6 2739.76,1847.6 3152.76,1847.6 3565.75,1847.6 3978.75,1847.6 8108.71,1847.6 12238.7,1847.6 \n",
       "  16368.6,1847.6 20498.6,1847.6 24628.6,1847.6 28758.5,1847.6 32888.5,1847.6 37018.5,1847.6 41148.4,1847.6 82448,1847.6 123748,1847.6 165047,1847.6 \n",
       "  206347,1847.6 247647,1847.6 288946,1847.6 330246,1847.6 371545,1847.6 \n",
       "  \"/>\n",
       "<polygon clip-path=\"url(#clip6800)\" points=\"\n",
       "2315.53,390.444 3056.76,390.444 3056.76,163.644 2315.53,163.644 \n",
       "  \" fill=\"#ffffff\" fill-rule=\"evenodd\" fill-opacity=\"1\"/>\n",
       "<polyline clip-path=\"url(#clip6800)\" style=\"stroke:#000000; stroke-width:4; stroke-opacity:1; fill:none\" points=\"\n",
       "  2315.53,390.444 3056.76,390.444 3056.76,163.644 2315.53,163.644 2315.53,390.444 \n",
       "  \"/>\n",
       "<polyline clip-path=\"url(#clip6800)\" style=\"stroke:#009af9; stroke-width:4; stroke-opacity:1; fill:none\" points=\"\n",
       "  2347.53,239.244 2539.53,239.244 \n",
       "  \"/>\n",
       "<g clip-path=\"url(#clip6800)\">\n",
       "<text style=\"fill:#000000; fill-opacity:1; font-family:Arial,Helvetica Neue,Helvetica,sans-serif; font-size:59px; text-anchor:start;\" transform=\"rotate(0, 2571.53, 260.744)\" x=\"2571.53\" y=\"260.744\">Minimum delay</text>\n",
       "</g>\n",
       "<polyline clip-path=\"url(#clip6800)\" style=\"stroke:#e26f46; stroke-width:4; stroke-opacity:1; fill:none\" points=\"\n",
       "  2347.53,314.844 2539.53,314.844 \n",
       "  \"/>\n",
       "<g clip-path=\"url(#clip6800)\">\n",
       "<text style=\"fill:#000000; fill-opacity:1; font-family:Arial,Helvetica Neue,Helvetica,sans-serif; font-size:59px; text-anchor:start;\" transform=\"rotate(0, 2571.53, 336.344)\" x=\"2571.53\" y=\"336.344\">Maximum delay</text>\n",
       "</g>\n",
       "</svg>\n"
      ]
     },
     "execution_count": 5,
     "metadata": {},
     "output_type": "execute_result"
    }
   ],
   "source": [
    "dlimit=35;\n",
    "ddata = CSV.File(\"./delay_linearity.csv\"; skipto=2, limit=dlimit, header=[:min, :max, :swords, :na, :clock, :signal, :rt]);\n",
    "rtcorrection = vcat(repeat([rt], 13), zeros(dlimit-13));\n",
    "minerr = 1e-3.*ddata.min .- (ddata.swords .* 20e-6) .+ 20e-6 - rtcorrection;\n",
    "maxerr = 1e-3.*ddata.max .- (ddata.swords .* 20e-6) - rtcorrection;\n",
    "plot(ddata.swords, [minerr, maxerr] ./ 1e-9,\n",
    "    xlim=(10,80), xlabel=\"Delay Words\", ylabel=\"Risetime-corrected Delay Error (ns)\",\n",
    "    label=[\"Minimum delay\", \"Maximum delay\"])"
   ]
  },
  {
   "cell_type": "markdown",
   "metadata": {},
   "source": [
    "## Estimated Internal Propagation Delay"
   ]
  },
  {
   "cell_type": "markdown",
   "metadata": {},
   "source": [
    "Roughly estimated from risetime-corrected delay data."
   ]
  },
  {
   "cell_type": "code",
   "execution_count": 6,
   "metadata": {},
   "outputs": [
    {
     "data": {
      "text/plain": [
       "40.14411859255405"
      ]
     },
     "execution_count": 6,
     "metadata": {},
     "output_type": "execute_result"
    }
   ],
   "source": [
    "pt = mean(map(mean, [minerr[1:13], maxerr[1:13]])) ./ 1e-9 # ns"
   ]
  },
  {
   "cell_type": "markdown",
   "metadata": {},
   "source": [
    "## In-Out Difference Mean"
   ]
  },
  {
   "cell_type": "code",
   "execution_count": 7,
   "metadata": {},
   "outputs": [
    {
     "data": {
      "text/latex": [
       "$-1.023 \\pm 0.095$"
      ],
      "text/plain": [
       "-1.023 ± 0.095"
      ]
     },
     "execution_count": 7,
     "metadata": {},
     "output_type": "execute_result"
    }
   ],
   "source": [
    "meandata = CSV.File(\"./data/diffmean2.csv\"; header=false);\n",
    "meanweights = FrequencyWeights(meandata.Column2);\n",
    "diffμ = mean(meandata.Column1, meanweights);\n",
    "diffμσ = std(meandata.Column1, meanweights, corrected=true);\n",
    "(diffμ ± diffμσ) * 1e3 # mV"
   ]
  },
  {
   "cell_type": "markdown",
   "metadata": {},
   "source": [
    "## In-Out Difference ACRMS (Standard Deviation)"
   ]
  },
  {
   "cell_type": "code",
   "execution_count": 8,
   "metadata": {},
   "outputs": [
    {
     "data": {
      "text/latex": [
       "$1.035 \\pm 0.058$"
      ],
      "text/plain": [
       "1.035 ± 0.058"
      ]
     },
     "execution_count": 8,
     "metadata": {},
     "output_type": "execute_result"
    }
   ],
   "source": [
    "acrmsdata = CSV.File(\"./data/diffacrms2.csv\"; header=false);\n",
    "acrmsweights = FrequencyWeights(acrmsdata.Column2);\n",
    "diffσ = mean(acrmsdata.Column1, acrmsweights);\n",
    "diffσσ = std(acrmsdata.Column1, acrmsweights, corrected=true);\n",
    "(diffσ ± diffσσ) * 1e3 # mV (RMS)"
   ]
  },
  {
   "cell_type": "markdown",
   "metadata": {},
   "source": [
    "# Output Plots"
   ]
  },
  {
   "cell_type": "markdown",
   "metadata": {},
   "source": [
    "- Input: 50 Hz sine wave.\n",
    "- Clock: 50 kHz.\n",
    "- Delay: 1000 swords.\n",
    "- Measurement Bandwidth: 100 MHz."
   ]
  },
  {
   "cell_type": "code",
   "execution_count": 9,
   "metadata": {},
   "outputs": [
    {
     "data": {
      "text/plain": [
       "CSV.File(\"./data/500HzDiff100MHz.csv\"):\n",
       "Size: 1250000 x 2\n",
       "Tables.Schema:\n",
       " :t  Float64\n",
       " :v  Float64"
      ]
     },
     "execution_count": 9,
     "metadata": {},
     "output_type": "execute_result"
    }
   ],
   "source": [
    "diff500 = CSV.File(\"./data/500HzDiff100MHz.csv\", skipto=10, header=[:t, :v]) # Oops: is actually 50 Hz"
   ]
  },
  {
   "cell_type": "code",
   "execution_count": 10,
   "metadata": {},
   "outputs": [],
   "source": [
    "# Resample/decimate for faster plotting\n",
    "#ddiff500t = resample(diff500.t, 1 // 10);\n",
    "#ddiff500v = resample(diff500.v, 1 // 10);\n",
    "\n",
    "ddiff500t = diff500.t;\n",
    "ddiff500v = diff500.v;"
   ]
  },
  {
   "cell_type": "markdown",
   "metadata": {},
   "source": [
    "- Input: 5 kHz sine wave.\n",
    "- Clock: 5 MHz.\n",
    "- Delay: 1000 swords.\n",
    "- Measurement Bandwidth: 250 MHz."
   ]
  },
  {
   "cell_type": "code",
   "execution_count": 11,
   "metadata": {},
   "outputs": [
    {
     "data": {
      "text/plain": [
       "CSV.File(\"./data/5MHzDiff250MHz.csv\"):\n",
       "Size: 625000 x 2\n",
       "Tables.Schema:\n",
       " :t  Float64\n",
       " :v  Float64"
      ]
     },
     "execution_count": 11,
     "metadata": {},
     "output_type": "execute_result"
    }
   ],
   "source": [
    "diff5M = CSV.File(\"./data/5MHzDiff250MHz.csv\", skipto=10, header=[:t, :v]) # Oops: signal is 5 kHz"
   ]
  },
  {
   "cell_type": "code",
   "execution_count": 12,
   "metadata": {},
   "outputs": [],
   "source": [
    "# Resample/decimate for faster plotting\n",
    "#ddiff5Mt = resample(diff5M.t, 1 // 10);\n",
    "#ddiff5Mv = resample(diff5M.v, 1 // 10);\n",
    "\n",
    "ddiff5Mt = diff5M.t;\n",
    "ddiff5Mv = diff5M.v;"
   ]
  },
  {
   "cell_type": "markdown",
   "metadata": {},
   "source": [
    "Generate all of the plots."
   ]
  },
  {
   "cell_type": "code",
   "execution_count": 13,
   "metadata": {},
   "outputs": [],
   "source": [
    "p500 = plot(ddiff500t .* 50.0 * 360, ddiff500v .* 1e3, ylabel=\"Vin - Vout (mV)\",\n",
    "    xticks=-180:45:180, ylim=(-25, 25), legend=false, color=:black, linewidth=0.25);"
   ]
  },
  {
   "cell_type": "code",
   "execution_count": 14,
   "metadata": {},
   "outputs": [],
   "source": [
    "p500d = plot(ddiff500t .* 50.0 * 360, ddiff500v .* 1e3,\n",
    "    xticks=-5:1:5, xlim=(-3, 3), ylim=(-80, 20), legend=false, color=:black, linewidth=0.25);"
   ]
  },
  {
   "cell_type": "code",
   "execution_count": 15,
   "metadata": {},
   "outputs": [],
   "source": [
    "p5M = plot(ddiff5Mt .* 5e3 * 360, ddiff5Mv .* 1e3, xlabel=\"Phase (deg)\", ylabel=\"Vin - Vout (mV)\",\n",
    "    xticks=-180:45:180, ylim=(-25, 25), legend=false, color=:lightgray, linewidth=0.25);"
   ]
  },
  {
   "cell_type": "code",
   "execution_count": 16,
   "metadata": {},
   "outputs": [],
   "source": [
    "p5Md = plot(ddiff5Mt .* 5e3 * 360, ddiff5Mv .* 1e3, xlabel=\"Phase (deg)\",\n",
    "    xticks=-5:1:5, xlim=(-3, 3), ylim=(-80, 20), legend=false, color=:black, linewidth=0.25);"
   ]
  },
  {
   "cell_type": "code",
   "execution_count": 17,
   "metadata": {},
   "outputs": [],
   "source": [
    "pdiffs = plot(p500, p500d, p5M, p5Md, layout = @layout [a b; c d]);"
   ]
  },
  {
   "cell_type": "markdown",
   "metadata": {},
   "source": [
    "Save the single combined plot. This is significantly faster than if all of the plots above were individually shown and then combined."
   ]
  },
  {
   "cell_type": "code",
   "execution_count": 18,
   "metadata": {},
   "outputs": [],
   "source": [
    "savefig(pdiffs, \"pdiffs.png\")"
   ]
  },
  {
   "cell_type": "markdown",
   "metadata": {},
   "source": [
    "# Varying Output Filters"
   ]
  },
  {
   "cell_type": "markdown",
   "metadata": {},
   "source": [
    "Sallen-key topology (implementation)."
   ]
  },
  {
   "cell_type": "code",
   "execution_count": 19,
   "metadata": {},
   "outputs": [],
   "source": [
    "# Bessel\n",
    "#Q = √(3.) / 3.;\n",
    "#ω0 = √(3.);\n",
    "Q = 1. / 2; # C1 = C2, simple\n",
    "ω0 = 1.;\n",
    "sallen_key = convert(ZeroPoleGain, Biquad(0., 0., ω0^2, ω0 / Q, ω0^2));"
   ]
  },
  {
   "cell_type": "markdown",
   "metadata": {},
   "source": [
    "Bessel filter."
   ]
  },
  {
   "cell_type": "code",
   "execution_count": 20,
   "metadata": {},
   "outputs": [],
   "source": [
    "# Reverse Bessel polynomial θₙ(s)\n",
    "θ(n, s) = sum(k -> (factorial(2n - k) / (2^(n-k) * factorial(k) * factorial(n - k))) * s^k, 0:n)\n",
    "Bessel2 = convert(ZeroPoleGain, Biquad(0.0, 0.0, θ(2, 0.0), 3.0, 3.0));"
   ]
  },
  {
   "cell_type": "markdown",
   "metadata": {},
   "source": [
    "Butterworth filter."
   ]
  },
  {
   "cell_type": "code",
   "execution_count": 21,
   "metadata": {},
   "outputs": [],
   "source": [
    "Butterworth2 = Butterworth(2);"
   ]
  },
  {
   "cell_type": "markdown",
   "metadata": {},
   "source": [
    "Plot all filters on the original signal to see how they perform."
   ]
  },
  {
   "cell_type": "code",
   "execution_count": 22,
   "metadata": {
    "scrolled": false
   },
   "outputs": [],
   "source": [
    "f0 = 100e3;\n",
    "responsetype = [Lowpass(f; fs = 1. / 3.2e-10) for f in [f0]];\n",
    "designmethod = [(Butterworth2, \"Butterworth (2nd-order)\"), (sallen_key, \"Sallen Key (w0 = $ω0, Q = $Q)\"), (Bessel2, \"Bessel (second-order)\")];\n",
    "filters = [(digitalfilter(r, d[1]), d[2]) for r in responsetype for d in designmethod];\n",
    "fp5M = plot(p5M, legend=true, label=\"Unfiltered\", title=\"$(f0/1e3) kHz filters on 5 MHz clock difference data\");  \n",
    "map(f -> plot!(ddiff5Mt .* 5e3 * 360, filt(f[1], ddiff5Mv) .* 1e3, xlabel=\"Phase (deg)\", ylabel=\"Vin - Vout (mV)\",\n",
    "                xticks=-180:45:180, xlim=(-50, 50), ylim=(-15, 15), label=f[2], linewidth=0.25),\n",
    "    filters);\n",
    "savefig(fp5M, \"fp5M.pdf\")"
   ]
  },
  {
   "cell_type": "markdown",
   "metadata": {},
   "source": [
    "# Initial History Programming"
   ]
  },
  {
   "cell_type": "code",
   "execution_count": 23,
   "metadata": {},
   "outputs": [],
   "source": [
    "little_endian(x) = UInt8.([x & 0x00FF, x >> 8]);"
   ]
  },
  {
   "cell_type": "code",
   "execution_count": 24,
   "metadata": {},
   "outputs": [
    {
     "data": {
      "text/plain": [
       "0x7a569719"
      ]
     },
     "metadata": {},
     "output_type": "display_data"
    }
   ],
   "source": [
    "#prog_words = rand(UInt16, 4096) .& 0x0FFF;\n",
    "prog_words = [0x0000, 0x07FF, 0x0FFF, 0x07FF, 0x0000, 0x07FF, 0x0FFF, 0x07FF, 0x0000, 0x07FF, 0x0FFF, 0x07FF, 0x0000, 0x07FF, 0x0FFF, 0x07FF];\n",
    "#prog_words = ones(UInt16, 16) .* 0x0FFF;\n",
    "waveform_file = \"./serial_data.bin\";\n",
    "write(waveform_file, prog_words);\n",
    "#println(@. 2.5 * (-1. + 2. * Float64(prog_words) / Float64(0x0FFF)));\n",
    "crc32 = crc(CRC_32);\n",
    "prog_crc = crc32(vcat(little_endian.(prog_words)...));\n",
    "display(prog_crc);"
   ]
  },
  {
   "cell_type": "code",
   "execution_count": 25,
   "metadata": {},
   "outputs": [
    {
     "data": {
      "text/plain": [
       "16-element Array{UInt16,1}:\n",
       " 0x0000\n",
       " 0x07ff\n",
       " 0x0fff\n",
       " 0x07ff\n",
       " 0x0000\n",
       " 0x07ff\n",
       " 0x0fff\n",
       " 0x07ff\n",
       " 0x0000\n",
       " 0x07ff\n",
       " 0x0fff\n",
       " 0x07ff\n",
       " 0x0000\n",
       " 0x07ff\n",
       " 0x0fff\n",
       " 0x07ff"
      ]
     },
     "execution_count": 25,
     "metadata": {},
     "output_type": "execute_result"
    }
   ],
   "source": [
    "prog_words"
   ]
  },
  {
   "cell_type": "markdown",
   "metadata": {},
   "source": [
    "## Initial History Programming Instructions"
   ]
  },
  {
   "cell_type": "markdown",
   "metadata": {},
   "source": [
    "- Open *Realterm*.\n",
    "- On the *Display* tab, check the *newLine mode* box.\n",
    "- On the *Port* tab, set the *Baud* rate to *115200*.\n",
    "- Select the *Port* that the *Arduino Due* is plugged in to, such as `6 = \\USBSER000`.\n",
    "- Press enter in the *Port* field to open the port. You should see text from the Arduino Due.\n",
    "- On the *Send* tab, select the first text field.\n",
    "- Type `ph N`, where `N` is the number of words that you want to program.\n",
    "- Click the *Send ASCII* button. (Do not include a line feed in this command, as it will be interpreted as data).\n",
    "- In the *Dump File to Port* section, click the ellipses (`...`) box.\n",
    "- Select the history data file that you want to program.\n",
    "- Under *Delays*, set the first entry (*Character Delay*) to `1`.\n",
    "- Click *Send File*. You should see a hexdump of the data from the Arduino Due as it is transmitted.\n",
    "- At the end of the transmission, there will be a line that says `CRC: 0x...`. Check that this matches the `CRC_32` of the sent data (little-endian).\n",
    "- Send the `go` command to the Arduino Due to switch to the external input and clocks."
   ]
  },
  {
   "cell_type": "code",
   "execution_count": 26,
   "metadata": {},
   "outputs": [
    {
     "data": {
      "text/plain": [
       "106103.29539459689"
      ]
     },
     "execution_count": 26,
     "metadata": {},
     "output_type": "execute_result"
    }
   ],
   "source": [
    "1/(2π*0.1e3*15e-9)"
   ]
  },
  {
   "cell_type": "markdown",
   "metadata": {},
   "source": [
    "# Filtered Output Plots"
   ]
  },
  {
   "cell_type": "markdown",
   "metadata": {},
   "source": [
    "## Signal A"
   ]
  },
  {
   "cell_type": "markdown",
   "metadata": {},
   "source": [
    "- Input: 5 kHz sine wave.\n",
    "- Clock: 5 MHz.\n",
    "- Delay: 1000 swords.\n",
    "- Measurement Bandwidth: 250 MHz."
   ]
  },
  {
   "cell_type": "code",
   "execution_count": 27,
   "metadata": {},
   "outputs": [],
   "source": [
    "ain = CSV.File(\"./data/5-5-in.csv\", skipto=10, header=[:t, :v]); # Input signal\n",
    "aout = CSV.File(\"./data/5-5-unfiltered.csv\", skipto=10, header=[:t, :v]); # Unfiltered output\n",
    "arc = CSV.File(\"./data/5-5-106kHz-RC.csv\", skipto=10, header=[:t, :v]); # 106 kHz RC filter (single-pole)\n",
    "abessel4 = CSV.File(\"./data/5-5-bessel4.csv\", skipto=10, header=[:t, :v]); # ~121 kHz Bessel filter (four-pole)"
   ]
  },
  {
   "cell_type": "code",
   "execution_count": 28,
   "metadata": {},
   "outputs": [],
   "source": [
    "abessel4vpp = maximum(abessel4.v) - minimum(abessel4.v);"
   ]
  },
  {
   "cell_type": "code",
   "execution_count": 29,
   "metadata": {},
   "outputs": [],
   "source": [
    "pain = plot(ain.t .* 1e6, ain.v .* 1e3, label=\"Input\");"
   ]
  },
  {
   "cell_type": "code",
   "execution_count": 30,
   "metadata": {},
   "outputs": [],
   "source": [
    "paout = plot!(aout.t .* 1e6, aout.v .* 1e3, label=\"Unfiltered Output\");"
   ]
  },
  {
   "cell_type": "code",
   "execution_count": 31,
   "metadata": {},
   "outputs": [],
   "source": [
    "parc = plot!(arc.t .* 1e6, arc.v .* 1e3, label=\"106 kHz 1p LPF\");"
   ]
  },
  {
   "cell_type": "code",
   "execution_count": 80,
   "metadata": {},
   "outputs": [],
   "source": [
    "pabessel4 = plot!(abessel4.t .* 1e6, abessel4.v * 1e3 * (1.0 / abessel4vpp), label=\"~121 kHz 4p Bessel LPF (rescaled)\",\n",
    "    xlabel=\"Time (us)\", ylabel=\"Output Voltage (mV)\", xlim=(0, 200), ylim=(-750, 750), legend=:topright, linewidth=0.25);"
   ]
  },
  {
   "cell_type": "code",
   "execution_count": 33,
   "metadata": {},
   "outputs": [],
   "source": [
    "savefig(pabessel4, \"pa.pdf\")"
   ]
  },
  {
   "cell_type": "markdown",
   "metadata": {},
   "source": [
    "## Signal B"
   ]
  },
  {
   "cell_type": "markdown",
   "metadata": {},
   "source": [
    "- Input: 20 kHz symmetric triangle wave.\n",
    "- Clock: 5 MHz.\n",
    "- Delay: 1000 swords.\n",
    "- Measurement Bandwidth: 250 MHz."
   ]
  },
  {
   "cell_type": "code",
   "execution_count": 34,
   "metadata": {},
   "outputs": [],
   "source": [
    "bin = CSV.File(\"./data/5-20-in.csv\", skipto=10, header=[:t, :v]); # Input signal. ZI: 6249.5\n",
    "bout = CSV.File(\"./data/5-20-unfiltered.csv\", skipto=10, header=[:t, :v]); # Unfiltered output\n",
    "brc = CSV.File(\"./data/5-20-RC.csv\", skipto=10, header=[:t, :v]); # 106 kHz RC filter (single-pole)\n",
    "bbessel4 = CSV.File(\"./data/5-20-bessel4.csv\", skipto=10, header=[:t, :v]); # ~121 kHz Bessel filter (four-pole). ZI: -0.5"
   ]
  },
  {
   "cell_type": "code",
   "execution_count": 35,
   "metadata": {},
   "outputs": [],
   "source": [
    "bbessel4vpp = maximum(bbessel4.v) - minimum(bbessel4.v);"
   ]
  },
  {
   "cell_type": "code",
   "execution_count": 36,
   "metadata": {},
   "outputs": [],
   "source": [
    "pbout = plot(bout.t .* 1e6, bout.v .* 1e3, label=\"Unfiltered\");"
   ]
  },
  {
   "cell_type": "code",
   "execution_count": 37,
   "metadata": {},
   "outputs": [],
   "source": [
    "pbrc = plot!(brc.t .* 1e6, brc.v .* 1e3, label=\"106 kHz 1p LPF\");"
   ]
  },
  {
   "cell_type": "code",
   "execution_count": 38,
   "metadata": {},
   "outputs": [],
   "source": [
    "pbbessel4 = plot!(bbessel4.t .* 1e6, bbessel4.v * 1e3 * (1.0 / bbessel4vpp), label=\"~121 kHz 4p Bessel LPF (rescaled)\",\n",
    "    xlabel=\"Time (us)\", ylabel=\"Output Voltage (mV)\", xlim=(0, 50), ylim=(-750, 750), legend=:topright, linewidth=0.25);"
   ]
  },
  {
   "cell_type": "code",
   "execution_count": 39,
   "metadata": {},
   "outputs": [],
   "source": [
    "savefig(pbbessel4, \"pb.pdf\")"
   ]
  },
  {
   "cell_type": "markdown",
   "metadata": {},
   "source": [
    "## Nelder-Mead Optimization of Filter Output Gain and Phase"
   ]
  },
  {
   "cell_type": "code",
   "execution_count": 81,
   "metadata": {},
   "outputs": [
    {
     "data": {
      "text/plain": [
       "waveerr (generic function with 1 method)"
      ]
     },
     "execution_count": 81,
     "metadata": {},
     "output_type": "execute_result"
    }
   ],
   "source": [
    "sΔt = 3.2e-10;\n",
    "span = 0.5;\n",
    "margin = (1 - span) / 2;\n",
    "function slidesamples(x, n, m)\n",
    "    xlen = length(x);\n",
    "    a = mod(Int64(floor(n)), xlen);\n",
    "    b = mod(Int64(floor(n) + floor(m)), xlen);\n",
    "    x[a:b]\n",
    "end\n",
    "stdslide(x; m=margin) = slidesamples(x, m*length(x), span*length(x));\n",
    "function modifywave(y, n, k, off)\n",
    "    off .+ (k .* slidesamples(y, n * length(y), span*length(y)))\n",
    "end\n",
    "function waveerr(x, y, s)\n",
    "    xlen = length(x);\n",
    "    rms(stdslide(x) .- modifywave(y, s...))\n",
    "end"
   ]
  },
  {
   "cell_type": "code",
   "execution_count": 41,
   "metadata": {},
   "outputs": [
    {
     "data": {
      "text/plain": [
       " * Status: success\n",
       "\n",
       " * Candidate solution\n",
       "    Minimizer: [2.43e-01, 1.01e+00, 2.20e-03]\n",
       "    Minimum:   4.372209e-03\n",
       "\n",
       " * Found with\n",
       "    Algorithm:     Nelder-Mead\n",
       "    Initial Point: [2.50e-01, 1.00e+00, 0.00e+00]\n",
       "\n",
       " * Convergence measures\n",
       "    √(Σ(yᵢ-ȳ)²)/n ≤ 1.0e-08\n",
       "\n",
       " * Work counters\n",
       "    Iterations:    85\n",
       "    f(x) calls:    177\n"
      ]
     },
     "execution_count": 41,
     "metadata": {},
     "output_type": "execute_result"
    }
   ],
   "source": [
    "arcoptim = optimize(s -> waveerr(ain.v, arc.v, s), [margin, 1., 0.])"
   ]
  },
  {
   "cell_type": "code",
   "execution_count": 42,
   "metadata": {},
   "outputs": [
    {
     "data": {
      "text/plain": [
       " * Status: success\n",
       "\n",
       " * Candidate solution\n",
       "    Minimizer: [2.50e-01, 2.54e-01, 1.61e-02]\n",
       "    Minimum:   2.959149e-03\n",
       "\n",
       " * Found with\n",
       "    Algorithm:     Nelder-Mead\n",
       "    Initial Point: [2.50e-01, 2.54e-01, 0.00e+00]\n",
       "\n",
       " * Convergence measures\n",
       "    √(Σ(yᵢ-ȳ)²)/n ≤ 1.0e-08\n",
       "\n",
       " * Work counters\n",
       "    Iterations:    84\n",
       "    f(x) calls:    182\n"
      ]
     },
     "execution_count": 42,
     "metadata": {},
     "output_type": "execute_result"
    }
   ],
   "source": [
    "abessel4optim = optimize(s -> waveerr(ain.v, abessel4.v, s), [margin, 1.0 / abessel4vpp, 0.])"
   ]
  },
  {
   "cell_type": "code",
   "execution_count": 43,
   "metadata": {},
   "outputs": [],
   "source": [
    "arco = modifywave(arc.v, arcoptim.minimizer...);"
   ]
  },
  {
   "cell_type": "code",
   "execution_count": 44,
   "metadata": {},
   "outputs": [],
   "source": [
    "abessel4o = modifywave(abessel4.v, abessel4optim.minimizer...);"
   ]
  },
  {
   "cell_type": "code",
   "execution_count": 74,
   "metadata": {},
   "outputs": [],
   "source": [
    "plot(stdslide(aout.t) .* 1e6, stdslide(aout.v) .* 1e3, label=\"Unfiltered Output\");\n",
    "plot!(stdslide(abessel4.t) .* 1e6, stdslide(abessel4.v) .* 1e3 * abessel4optim.minimizer[2], label=\"~121 kHz 4p Bessel LPF (rescaled)\");\n",
    "paout = plot!(stdslide(arc.t) .* 1e6, stdslide(arc.v) .* 1e3, label=\"106 kHz 1p (RC) LPF\", legend=:topleft);"
   ]
  },
  {
   "cell_type": "code",
   "execution_count": 75,
   "metadata": {},
   "outputs": [],
   "source": [
    "savefig(paout, \"paout.png\")"
   ]
  },
  {
   "cell_type": "code",
   "execution_count": 63,
   "metadata": {},
   "outputs": [],
   "source": [
    "parc = plot(stdslide(arc.t) .* 1e6, arco .* 1e3, label=\"Optimized RC LPF\");\n",
    "pabessel4 = plot!(stdslide(abessel4.t) .* 1e6, abessel4o .* 1e3, label=\"Optimized Bessel LPF\",\n",
    "    xlabel=\"Time (us)\", ylabel=\"Output Voltage (mV)\", legend=:topleft, linewidth=0.25);\n",
    "pain = plot!((stdslide(ain.t) .+ 6250*sΔt .+ (abessel4.t[1] - ain.t[1])/2) .* 1e6, stdslide(ain.v) .* 1e3, label=\"Input\");"
   ]
  },
  {
   "cell_type": "code",
   "execution_count": 64,
   "metadata": {},
   "outputs": [],
   "source": [
    "savefig(pain, \"pain.png\")"
   ]
  },
  {
   "cell_type": "code",
   "execution_count": 51,
   "metadata": {},
   "outputs": [],
   "source": [
    "arcodiff = stdslide(ain.v) .- arco;\n",
    "abessel4odiff = stdslide(ain.v) .- abessel4o;"
   ]
  },
  {
   "cell_type": "code",
   "execution_count": 76,
   "metadata": {},
   "outputs": [],
   "source": [
    "difff0 = 20e6;\n",
    "difffilter = digitalfilter(Lowpass(difff0; fs = 1. / 3.2e-10), Bessel2);"
   ]
  },
  {
   "cell_type": "code",
   "execution_count": 77,
   "metadata": {},
   "outputs": [],
   "source": [
    "plot(stdslide(arc.t) .* 1e6, arcodiff .* 1e3, label=\"RC Difference\", xlim=(100,300));\n",
    "plot!(stdslide(abessel4.t) .* 1e6, abessel4odiff .* 1e3, label=\"Bessel Difference\", xlim=(100,300));"
   ]
  },
  {
   "cell_type": "code",
   "execution_count": 78,
   "metadata": {},
   "outputs": [],
   "source": [
    "plot!(stdslide(arc.t) .* 1e6, filt(difffilter, arcodiff) .* 1e3,\n",
    "    linewidth=1.5, label=\"RC at $(difff0 / 1e6) MHz BW\", xlim=(100,300));\n",
    "padiff = plot!(stdslide(abessel4.t) .* 1e6, filt(difffilter, abessel4odiff) .* 1e3,\n",
    "    linewidth=1.5, label=\"Bessel at $(difff0 / 1e6) MHz BW\", xlim=(100,300));"
   ]
  },
  {
   "cell_type": "code",
   "execution_count": 79,
   "metadata": {},
   "outputs": [],
   "source": [
    "savefig(padiff, \"padiff.png\")"
   ]
  },
  {
   "cell_type": "code",
   "execution_count": null,
   "metadata": {},
   "outputs": [],
   "source": []
  }
 ],
 "metadata": {
  "kernelspec": {
   "display_name": "Julia 1.1.1",
   "language": "julia",
   "name": "julia-1.1"
  },
  "language_info": {
   "file_extension": ".jl",
   "mimetype": "application/julia",
   "name": "julia",
   "version": "1.1.1"
  }
 },
 "nbformat": 4,
 "nbformat_minor": 2
}
