{
 "cells": [
  {
   "cell_type": "code",
   "execution_count": 1,
   "metadata": {},
   "outputs": [],
   "source": [
    "using StatsBase\n",
    "using Statistics\n",
    "using CSV\n",
    "using DSP\n",
    "using Measurements\n",
    "using CRC\n",
    "using Optim\n",
    "using Tables"
   ]
  },
  {
   "cell_type": "markdown",
   "metadata": {},
   "source": [
    "# Delayed Signal Computations"
   ]
  },
  {
   "cell_type": "markdown",
   "metadata": {},
   "source": [
    "## DAC Rise Time"
   ]
  },
  {
   "cell_type": "code",
   "execution_count": 2,
   "metadata": {},
   "outputs": [
    {
     "data": {
      "text/plain": [
       "1.1492676743389036e-9"
      ]
     },
     "execution_count": 2,
     "metadata": {},
     "output_type": "execute_result"
    }
   ],
   "source": [
    "rtdata = CSV.File(\"./data/Tek004.csv\"; header=false)\n",
    "rtweights = FrequencyWeights(rtdata.Column2)\n",
    "rt = mean(rtdata.Column1, rtweights)\n",
    "rtσ = std(rtdata.Column1, rtweights, corrected=true)"
   ]
  },
  {
   "cell_type": "code",
   "execution_count": 3,
   "metadata": {},
   "outputs": [
    {
     "data": {
      "text/plain": [
       "1.290866506382043e-7"
      ]
     },
     "execution_count": 3,
     "metadata": {},
     "output_type": "execute_result"
    }
   ],
   "source": [
    "rtσ /= 4 # For a 1 Vpp square wave edge\n",
    "rt /= 4"
   ]
  },
  {
   "cell_type": "code",
   "execution_count": 4,
   "metadata": {},
   "outputs": [
    {
     "data": {
      "text/latex": [
       "$129.09 \\pm 0.29$"
      ],
      "text/plain": [
       "129.09 ± 0.29"
      ]
     },
     "execution_count": 4,
     "metadata": {},
     "output_type": "execute_result"
    }
   ],
   "source": [
    "(rt ± rtσ) * 1e9"
   ]
  },
  {
   "cell_type": "markdown",
   "metadata": {},
   "source": [
    "## Delay Error"
   ]
  },
  {
   "cell_type": "markdown",
   "metadata": {},
   "source": [
    "The steps in the error plots are from single-digits on the scope, so the results should taken with a grain of salt."
   ]
  },
  {
   "cell_type": "code",
   "execution_count": 5,
   "metadata": {
    "scrolled": false
   },
   "outputs": [],
   "source": [
    "dlimit=35;\n",
    "ddata = CSV.File(\"./delay_linearity.csv\"; skipto=2, limit=dlimit,\n",
    "    header=[:min, :max, :swords, :na, :clock, :signal, :rt]);\n",
    "rtcorrection = vcat(repeat([rt], 13), zeros(dlimit-13));\n",
    "minerr = 1e-3.*ddata.min .- (ddata.swords .* 20e-6) .+ 20e-6 - rtcorrection;\n",
    "maxerr = 1e-3.*ddata.max .- (ddata.swords .* 20e-6) - rtcorrection;"
   ]
  },
  {
   "cell_type": "code",
   "execution_count": 6,
   "metadata": {},
   "outputs": [
    {
     "data": {
      "text/plain": [
       "9000"
      ]
     },
     "execution_count": 6,
     "metadata": {},
     "output_type": "execute_result"
    }
   ],
   "source": [
    "last(ddata.swords)"
   ]
  },
  {
   "cell_type": "markdown",
   "metadata": {},
   "source": [
    "Clock is at 50 kHz."
   ]
  },
  {
   "cell_type": "markdown",
   "metadata": {},
   "source": [
    "## Estimated Internal Propagation Delay"
   ]
  },
  {
   "cell_type": "markdown",
   "metadata": {},
   "source": [
    "Roughly estimated from risetime-corrected delay data."
   ]
  },
  {
   "cell_type": "code",
   "execution_count": 7,
   "metadata": {},
   "outputs": [
    {
     "data": {
      "text/plain": [
       "40.14411859255405"
      ]
     },
     "execution_count": 7,
     "metadata": {},
     "output_type": "execute_result"
    }
   ],
   "source": [
    "pt = mean(map(mean, [minerr[1:13], maxerr[1:13]])) ./ 1e-9 # ns"
   ]
  },
  {
   "cell_type": "markdown",
   "metadata": {},
   "source": [
    "## In-Out Difference Mean"
   ]
  },
  {
   "cell_type": "code",
   "execution_count": 8,
   "metadata": {},
   "outputs": [
    {
     "data": {
      "text/latex": [
       "$-1.023 \\pm 0.095$"
      ],
      "text/plain": [
       "-1.023 ± 0.095"
      ]
     },
     "execution_count": 8,
     "metadata": {},
     "output_type": "execute_result"
    }
   ],
   "source": [
    "meandata = CSV.File(\"./data/diffmean2.csv\"; header=false);\n",
    "meanweights = FrequencyWeights(meandata.Column2);\n",
    "diffμ = mean(meandata.Column1, meanweights);\n",
    "diffμσ = std(meandata.Column1, meanweights, corrected=true);\n",
    "(diffμ ± diffμσ) * 1e3 # mV"
   ]
  },
  {
   "cell_type": "markdown",
   "metadata": {},
   "source": [
    "## In-Out Difference ACRMS (Standard Deviation)"
   ]
  },
  {
   "cell_type": "code",
   "execution_count": 9,
   "metadata": {},
   "outputs": [
    {
     "data": {
      "text/latex": [
       "$1.035 \\pm 0.058$"
      ],
      "text/plain": [
       "1.035 ± 0.058"
      ]
     },
     "execution_count": 9,
     "metadata": {},
     "output_type": "execute_result"
    }
   ],
   "source": [
    "acrmsdata = CSV.File(\"./data/diffacrms2.csv\"; header=false);\n",
    "acrmsweights = FrequencyWeights(acrmsdata.Column2);\n",
    "diffσ = mean(acrmsdata.Column1, acrmsweights);\n",
    "diffσσ = std(acrmsdata.Column1, acrmsweights, corrected=true);\n",
    "(diffσ ± diffσσ) * 1e3 # mV (RMS)"
   ]
  },
  {
   "cell_type": "markdown",
   "metadata": {},
   "source": [
    "# Output Plots"
   ]
  },
  {
   "cell_type": "markdown",
   "metadata": {},
   "source": [
    "- Input: 50 Hz sine wave.\n",
    "- Clock: 50 kHz.\n",
    "- Delay: 1000 swords.\n",
    "- Measurement Bandwidth: 100 MHz."
   ]
  },
  {
   "cell_type": "markdown",
   "metadata": {},
   "source": [
    "Ignore the naming of the file. The signal is actually at *50 Hz*."
   ]
  },
  {
   "cell_type": "code",
   "execution_count": 10,
   "metadata": {},
   "outputs": [
    {
     "data": {
      "text/plain": [
       "CSV.File(\"./data/500HzDiff100MHz.csv\"):\n",
       "Size: 1250000 x 2\n",
       "Tables.Schema:\n",
       " :t  Float64\n",
       " :v  Float64"
      ]
     },
     "execution_count": 10,
     "metadata": {},
     "output_type": "execute_result"
    }
   ],
   "source": [
    "diff500 = CSV.File(\"./data/500HzDiff100MHz.csv\", skipto=10, header=[:t, :v])"
   ]
  },
  {
   "cell_type": "code",
   "execution_count": 11,
   "metadata": {
    "collapsed": true
   },
   "outputs": [],
   "source": [
    "# Resample/decimate for faster processing\n",
    "#ddiff500t = resample(diff500.t, 1 // 10);\n",
    "#ddiff500v = resample(diff500.v, 1 // 10);\n",
    "\n",
    "ddiff500t = diff500.t;\n",
    "ddiff500v = diff500.v;"
   ]
  },
  {
   "cell_type": "markdown",
   "metadata": {},
   "source": [
    "- Input: 5 kHz sine wave.\n",
    "- Clock: 5 MHz.\n",
    "- Delay: 1000 swords.\n",
    "- Measurement Bandwidth: 250 MHz."
   ]
  },
  {
   "cell_type": "markdown",
   "metadata": {},
   "source": [
    "Ignore the naming of the file. The signal is actually at *5 kHz*."
   ]
  },
  {
   "cell_type": "code",
   "execution_count": 12,
   "metadata": {},
   "outputs": [
    {
     "data": {
      "text/plain": [
       "CSV.File(\"./data/5MHzDiff250MHz.csv\"):\n",
       "Size: 625000 x 2\n",
       "Tables.Schema:\n",
       " :t  Float64\n",
       " :v  Float64"
      ]
     },
     "execution_count": 12,
     "metadata": {},
     "output_type": "execute_result"
    }
   ],
   "source": [
    "diff5M = CSV.File(\"./data/5MHzDiff250MHz.csv\", skipto=10, header=[:t, :v])"
   ]
  },
  {
   "cell_type": "code",
   "execution_count": 13,
   "metadata": {
    "collapsed": true
   },
   "outputs": [],
   "source": [
    "# Resample/decimate for faster processing\n",
    "#ddiff5Mt = resample(diff5M.t, 1 // 10);\n",
    "#ddiff5Mv = resample(diff5M.v, 1 // 10);\n",
    "\n",
    "ddiff5Mt = diff5M.t;\n",
    "ddiff5Mv = diff5M.v;"
   ]
  },
  {
   "cell_type": "markdown",
   "metadata": {},
   "source": [
    "# Initial History Programming"
   ]
  },
  {
   "cell_type": "code",
   "execution_count": 14,
   "metadata": {
    "collapsed": true
   },
   "outputs": [],
   "source": [
    "little_endian(x) = UInt8.([x & 0x00FF, x >> 8]);"
   ]
  },
  {
   "cell_type": "code",
   "execution_count": 15,
   "metadata": {},
   "outputs": [
    {
     "data": {
      "text/plain": [
       "0x7a569719"
      ]
     },
     "metadata": {},
     "output_type": "display_data"
    }
   ],
   "source": [
    "prog_words = [\n",
    "    0x0000, 0x07FF, 0x0FFF, 0x07FF,\n",
    "    0x0000, 0x07FF, 0x0FFF, 0x07FF,\n",
    "    0x0000, 0x07FF, 0x0FFF, 0x07FF,\n",
    "    0x0000, 0x07FF, 0x0FFF, 0x07FF\n",
    "];\n",
    "waveform_file = \"./prog_debug.bin\";\n",
    "write(waveform_file, prog_words);\n",
    "crc32 = crc(CRC_32);\n",
    "prog_crc = crc32(vcat(little_endian.(prog_words)...));\n",
    "display(prog_crc);"
   ]
  },
  {
   "cell_type": "markdown",
   "metadata": {},
   "source": [
    "## Initial History Programming Instructions"
   ]
  },
  {
   "cell_type": "markdown",
   "metadata": {},
   "source": [
    "- Open *Realterm*.\n",
    "- On the *Display* tab, check the *newLine mode* box.\n",
    "- On the *Port* tab, set the *Baud* rate to *115200*.\n",
    "- Select the *Port* that the *Arduino Due* is plugged in to, such as `6 = \\USBSER000`.\n",
    "- Press enter in the *Port* field to open the port. You should see text from the Arduino Due.\n",
    "- On the *Send* tab, select the first text field.\n",
    "- Type `ph N`, where `N` is the number of words that you want to program.\n",
    "- Click the *Send ASCII* button. (Do not include a line feed in this command, as it will be interpreted as data).\n",
    "- In the *Dump File to Port* section, click the ellipses (`...`) box.\n",
    "- Select the history data file that you want to program.\n",
    "- Under *Delays*, set the first entry (*Character Delay*) to `1`.\n",
    "- Click *Send File*. You should see a hexdump of the data from the Arduino Due as it is transmitted.\n",
    "- At the end of the transmission, there will be a line that says `CRC: 0x...`. Check that this matches the `CRC_32` of the sent data (little-endian).\n",
    "- Send the `go` command to the Arduino Due to switch to the external input and clocks."
   ]
  },
  {
   "cell_type": "markdown",
   "metadata": {},
   "source": [
    "# Filtered Output Plots"
   ]
  },
  {
   "cell_type": "markdown",
   "metadata": {},
   "source": [
    "## Signal A"
   ]
  },
  {
   "cell_type": "markdown",
   "metadata": {},
   "source": [
    "- Input: 5 kHz sine wave.\n",
    "- Clock: 5 MHz.\n",
    "- Delay: 1000 swords.\n",
    "- Measurement Bandwidth: 250 MHz."
   ]
  },
  {
   "cell_type": "code",
   "execution_count": 16,
   "metadata": {
    "collapsed": true
   },
   "outputs": [],
   "source": [
    "ain = CSV.File(\"./data/5-5-in.csv\",\n",
    "    skipto=10, header=[:t, :v]); # Input signal\n",
    "aout = CSV.File(\"./data/5-5-unfiltered.csv\",\n",
    "    skipto=10, header=[:t, :v]); # Unfiltered output\n",
    "arc = CSV.File(\"./data/5-5-106kHz-RC.csv\",\n",
    "    skipto=10, header=[:t, :v]); # 106 kHz RC filter (single-pole)\n",
    "abessel4 = CSV.File(\"./data/5-5-bessel4.csv\",\n",
    "    skipto=10, header=[:t, :v]); # ~121 kHz Bessel filter (four-pole)"
   ]
  },
  {
   "cell_type": "code",
   "execution_count": 17,
   "metadata": {
    "collapsed": true
   },
   "outputs": [],
   "source": [
    "abessel4vpp = maximum(abessel4.v) - minimum(abessel4.v);"
   ]
  },
  {
   "cell_type": "markdown",
   "metadata": {},
   "source": [
    "## Signal B"
   ]
  },
  {
   "cell_type": "markdown",
   "metadata": {},
   "source": [
    "- Input: 20 kHz symmetric triangle wave.\n",
    "- Clock: 5 MHz.\n",
    "- Delay: 1000 swords.\n",
    "- Measurement Bandwidth: 250 MHz."
   ]
  },
  {
   "cell_type": "code",
   "execution_count": 18,
   "metadata": {
    "collapsed": true
   },
   "outputs": [],
   "source": [
    "bin = CSV.File(\"./data/5-20-in.csv\",\n",
    "    skipto=10, header=[:t, :v]); # Input signal. ZI: 6249.5\n",
    "bout = CSV.File(\"./data/5-20-unfiltered.csv\",\n",
    "    skipto=10, header=[:t, :v]); # Unfiltered output\n",
    "brc = CSV.File(\"./data/5-20-RC.csv\",\n",
    "    skipto=10, header=[:t, :v]); # 106 kHz RC filter (single-pole)\n",
    "bbessel4 = CSV.File(\"./data/5-20-bessel4.csv\",\n",
    "    skipto=10, header=[:t, :v]); # ~121 kHz Bessel filter (4-pole). ZI: -0.5"
   ]
  },
  {
   "cell_type": "code",
   "execution_count": 19,
   "metadata": {
    "collapsed": true
   },
   "outputs": [],
   "source": [
    "bbessel4vpp = maximum(bbessel4.v) - minimum(bbessel4.v);"
   ]
  },
  {
   "cell_type": "markdown",
   "metadata": {},
   "source": [
    "## Nelder-Mead Optimization of Filter Output Gain and Phase"
   ]
  },
  {
   "cell_type": "code",
   "execution_count": 20,
   "metadata": {},
   "outputs": [
    {
     "data": {
      "text/plain": [
       "waveerr (generic function with 1 method)"
      ]
     },
     "execution_count": 20,
     "metadata": {},
     "output_type": "execute_result"
    }
   ],
   "source": [
    "sΔt = 3.2e-10;\n",
    "span = 0.5;\n",
    "margin = (1 - span) / 2;\n",
    "function slidesamples(x, n, m)\n",
    "    xlen = length(x);\n",
    "    a = mod(Int64(floor(n)), xlen);\n",
    "    b = mod(Int64(floor(n) + floor(m)), xlen);\n",
    "    x[a:b]\n",
    "end\n",
    "stdslide(x; m=margin) = slidesamples(x, m*length(x), span*length(x));\n",
    "function modifywave(y, n, k, off)\n",
    "    off .+ (k .* slidesamples(y, n * length(y), span*length(y)))\n",
    "end\n",
    "function waveerr(x, y, s)\n",
    "    xlen = length(x);\n",
    "    rms(stdslide(x) .- modifywave(y, s...))\n",
    "end"
   ]
  },
  {
   "cell_type": "markdown",
   "metadata": {},
   "source": [
    "The default algorithm that `optimize` will use here is Nelder-Mead."
   ]
  },
  {
   "cell_type": "code",
   "execution_count": 21,
   "metadata": {},
   "outputs": [],
   "source": [
    "arcoptim = optimize(s -> waveerr(ain.v, arc.v, s), [margin, 1., 0.]);"
   ]
  },
  {
   "cell_type": "code",
   "execution_count": 22,
   "metadata": {},
   "outputs": [],
   "source": [
    "abessel4optim = optimize(s -> waveerr(ain.v, abessel4.v, s),\n",
    "    [margin, 1.0 / abessel4vpp, 0.]);"
   ]
  },
  {
   "cell_type": "code",
   "execution_count": 23,
   "metadata": {
    "collapsed": true
   },
   "outputs": [],
   "source": [
    "arco = modifywave(arc.v, arcoptim.minimizer...);"
   ]
  },
  {
   "cell_type": "code",
   "execution_count": 24,
   "metadata": {
    "collapsed": true
   },
   "outputs": [],
   "source": [
    "abessel4o = modifywave(abessel4.v, abessel4optim.minimizer...);"
   ]
  },
  {
   "cell_type": "code",
   "execution_count": 25,
   "metadata": {},
   "outputs": [
    {
     "data": {
      "text/plain": [
       "\"paout.csv\""
      ]
     },
     "execution_count": 25,
     "metadata": {},
     "output_type": "execute_result"
    }
   ],
   "source": [
    "CSV.write(\"paout.csv\",\n",
    "    (aint=stdslide(ain.t) .* 1e6,\n",
    "        ainv=stdslide(ain.v) .* 1e3,\n",
    "        aoutt=stdslide(aout.t) .* 1e6,\n",
    "        aoutv=stdslide(aout.v) .* 1e3,\n",
    "        abessel4t=stdslide(abessel4.t) .* 1e6,\n",
    "        abessel4v=stdslide(abessel4.v) .* 1e3 * abessel4optim.minimizer[2]))"
   ]
  },
  {
   "cell_type": "code",
   "execution_count": 26,
   "metadata": {
    "collapsed": true
   },
   "outputs": [],
   "source": [
    "arcodiff = stdslide(ain.v) .- arco;\n",
    "abessel4odiff = stdslide(ain.v) .- abessel4o;"
   ]
  },
  {
   "cell_type": "code",
   "execution_count": 27,
   "metadata": {},
   "outputs": [
    {
     "data": {
      "text/plain": [
       "-7.533094976133311e-6"
      ]
     },
     "execution_count": 27,
     "metadata": {},
     "output_type": "execute_result"
    }
   ],
   "source": [
    "abessel4odiffμ = mean(abessel4odiff)"
   ]
  },
  {
   "cell_type": "code",
   "execution_count": 28,
   "metadata": {},
   "outputs": [
    {
     "data": {
      "text/plain": [
       "0.0029591421680602945"
      ]
     },
     "execution_count": 28,
     "metadata": {},
     "output_type": "execute_result"
    }
   ],
   "source": [
    "abessel4odiffσ = std(abessel4odiff)"
   ]
  }
 ],
 "metadata": {
  "kernelspec": {
   "display_name": "Julia 1.1.0",
   "language": "julia",
   "name": "julia-1.1"
  },
  "language_info": {
   "file_extension": ".jl",
   "mimetype": "application/julia",
   "name": "julia",
   "version": "1.1.0"
  }
 },
 "nbformat": 4,
 "nbformat_minor": 2
}
