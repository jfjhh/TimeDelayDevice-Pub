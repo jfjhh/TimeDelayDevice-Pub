{
 "cells": [
  {
   "cell_type": "markdown",
   "metadata": {},
   "source": [
    "# Offset and gain calculations for DAC0 to ADC opamps"
   ]
  },
  {
   "cell_type": "markdown",
   "metadata": {},
   "source": [
    "## Voltages that determine required offset and gain"
   ]
  },
  {
   "cell_type": "code",
   "execution_count": 360,
   "metadata": {},
   "outputs": [
    {
     "name": "stdout",
     "output_type": "stream",
     "text": [
      "Offset:\t-1.65 V\n",
      "Gain:\t2.2727272727272725 V\n"
     ]
    }
   ],
   "source": [
    "V_DL   = 3.3 * 1/6; # V. Due DAC0 minimum voltage\n",
    "V_DH   = 3.3 * 5/6; # V. Due DAC0 maximum voltage\n",
    "V_AL   = -2.5;      # V. ADC input minimum voltage\n",
    "V_AH   = 2.5;       # V. ADC input maximum voltage\n",
    "offset = ((V_AH + V_AL) - (V_DH + V_DL)) / 2.; # V\n",
    "gain   = (V_AH - V_AL) / (V_DH - V_DL); # V/V\n",
    "println(\"Offset:\\t\", offset, \" V\\nGain:\\t\", gain, \" V\");"
   ]
  },
  {
   "cell_type": "markdown",
   "metadata": {},
   "source": [
    "## Choice of resistor tolerance range (the E-series to use)"
   ]
  },
  {
   "cell_type": "code",
   "execution_count": 361,
   "metadata": {
    "collapsed": true,
    "scrolled": true
   },
   "outputs": [],
   "source": [
    "E3  = [1.0, 2.2, 4.7]; # Very common\n",
    "E24 = [1.0, 1.1, 1.2, 1.3, 1.5, 1.6, 1.8, 2.0, 2.2, 2.4, 2.7, 3.0, 3.3, 3.6, 3.9, 4.3, 4.7, 5.1, 5.6, 6.2, 6.8, 7.5, 8.2, 9.1]; # 5% tolerance"
   ]
  },
  {
   "cell_type": "code",
   "execution_count": 362,
   "metadata": {
    "collapsed": true
   },
   "outputs": [],
   "source": [
    "E_series = E24;"
   ]
  },
  {
   "cell_type": "markdown",
   "metadata": {},
   "source": [
    "Evaluates $f$ on all possible combinations of resistors in a given E-series."
   ]
  },
  {
   "cell_type": "code",
   "execution_count": 363,
   "metadata": {
    "collapsed": true
   },
   "outputs": [],
   "source": [
    "combinations(E, f) = [[f(E[i], E[j]), E[i], E[j]] for i in 1:length(E) for j in 1:length(E)]; # [[f(x, y), x, y]]"
   ]
  },
  {
   "cell_type": "markdown",
   "metadata": {},
   "source": [
    "Finds the nearest E-series value to the value given."
   ]
  },
  {
   "cell_type": "code",
   "execution_count": 364,
   "metadata": {},
   "outputs": [
    {
     "data": {
      "text/plain": [
       "nearest (generic function with 1 method)"
      ]
     },
     "execution_count": 364,
     "metadata": {},
     "output_type": "execute_result"
    }
   ],
   "source": [
    "function nearest(E, x)\n",
    "    p = floor(log10(x));\n",
    "    y = x / 10^p;\n",
    "    best = first(sort(E, lt = (a, b) -> abs(y - a) < abs(y - b)));\n",
    "    best * 10^p;\n",
    "end"
   ]
  },
  {
   "cell_type": "markdown",
   "metadata": {},
   "source": [
    "## Offset component selection calculations"
   ]
  },
  {
   "cell_type": "markdown",
   "metadata": {},
   "source": [
    "Improved calculation of the output voltage of the `LM4041-ADJ` where $V_\\text{ref}$ depends upon $V_O$ (`V_Onom` here)."
   ]
  },
  {
   "cell_type": "code",
   "execution_count": 365,
   "metadata": {
    "scrolled": true
   },
   "outputs": [],
   "source": [
    "V_Onom = abs(offset); # V\n",
    "V_Y = 1.240; # V\n",
    "ΔV_O = V_Onom - V_Y; # V\n",
    "ΔV_ref_ΔV_O = -1.55e-3; # V/V. Absolute worst case: -3 mV/V\n",
    "V_ref = V_Y + ΔV_O * ΔV_ref_ΔV_O; # V\n",
    "R2_to_R1 = (V_Onom / V_ref) - 1.; # Ω/Ω\n",
    "VO(ratio) = V_ref * (ratio + 1.);"
   ]
  },
  {
   "cell_type": "markdown",
   "metadata": {},
   "source": [
    "Selection parameters."
   ]
  },
  {
   "cell_type": "code",
   "execution_count": 366,
   "metadata": {},
   "outputs": [
    {
     "name": "stdout",
     "output_type": "stream",
     "text": [
      "We want a resistor ratio of 0.33132746661696366 Ω/Ω and 1.0% nominal tolerance.\n"
     ]
    }
   ],
   "source": [
    "ratio_tolerance = 1.; # %\n",
    "RV_off = 1.0e3; # Ω\n",
    "println(\"We want a resistor ratio of \", R2_to_R1, \" Ω/Ω and \", ratio_tolerance, \"% nominal tolerance.\");"
   ]
  },
  {
   "cell_type": "markdown",
   "metadata": {},
   "source": [
    "Calculate the best resistors to choose to give the best nominal ratio."
   ]
  },
  {
   "cell_type": "code",
   "execution_count": 367,
   "metadata": {},
   "outputs": [
    {
     "data": {
      "text/plain": [
       "3-element Array{Array{Float64,1},1}:\n",
       " [0.333333, 1.1, 4.3]\n",
       " [0.333333, 2.4, 8.2]\n",
       " [0.333333, 2.7, 9.1]"
      ]
     },
     "metadata": {},
     "output_type": "display_data"
    },
    {
     "name": "stdout",
     "output_type": "stream",
     "text": [
      "Best values:\n",
      "R2: 1.1 kΩ\n",
      "R1: 4.3 kΩ\n"
     ]
    }
   ],
   "source": [
    "offset_ratio(x, y, off) = (x + 0.5 * off) / (y + 0.5 * off);\n",
    "# Divide RV_off by 1e3 so that it is at the same scale as the E-series values.\n",
    "off_ratios     = combinations(E_series, (x, y) -> offset_ratio(x, y, RV_off / 1e3)); # [[Ω/Ω, Ω, Ω]]. [[ratio, R2, R1]]\n",
    "off_ratios_tol = filter(x -> ratio_tolerance / 100. > abs(1. - x[1] / R2_to_R1), off_ratios); # [[Ω/Ω, Ω, Ω]]\n",
    "off_ratios_s   = sort(off_ratios_tol, lt = (x, y) -> isless(abs(x[1] - R2_to_R1), abs(y[1] - R2_to_R1))); # [[Ω/Ω, Ω, Ω]]\n",
    "if (length(off_ratios_s) > 0)\n",
    "    R1 = off_ratios_s[1][3] * 1e3; # Ω\n",
    "    R2 = off_ratios_s[1][2] * 1e3; # Ω\n",
    "    display(off_ratios_s);\n",
    "    println(\"Best values:\\n\",\n",
    "        \"R2: \", R2 / 1e3, \" kΩ\\n\",\n",
    "        \"R1: \", R1 / 1e3, \" kΩ\");\n",
    "else\n",
    "    println(\"No combinations give a \", ratio_tolerance, \"% tolerance.\");\n",
    "end"
   ]
  },
  {
   "cell_type": "markdown",
   "metadata": {},
   "source": [
    "Calculate the margins of adjustability when a potentiometer is inserted between the two resistors."
   ]
  },
  {
   "cell_type": "code",
   "execution_count": 368,
   "metadata": {},
   "outputs": [
    {
     "name": "stdout",
     "output_type": "stream",
     "text": [
      "Offset margins **after amplification** for a 1.0 kΩ potentiometer:\n",
      "Low margin:\t-348.65660377358483 mV\t(-9.297509433962265%)\n",
      "High margin:\t442.3534883720931 mV\t(11.796093023255818%)\n",
      "Total margin:\t791.010092145678 mV\t(21.093602457218083%)\n"
     ]
    }
   ],
   "source": [
    "ratio_min = R2 / (R1 + RV_off);\n",
    "ratio_max = (R2 + RV_off) / R1;\n",
    "V_O_low   = VO(ratio_min) - V_Onom; # V. Negative margin away from V_Onom\n",
    "V_O_high  = VO(ratio_max) - V_Onom; # V. Positive margin away from V_Onom\n",
    "V_O_total = V_O_high - V_O_low;     # V. Total argin away from V_Onom\n",
    "println(\"Offset margins **after amplification** for a \", RV_off / 1e3, \" kΩ potentiometer:\\n\",\n",
    "    \"Low margin:\\t\",   V_O_low   * 1e3 * gain, \" mV\\t(\", 100. * V_O_low   / V_Onom, \"%)\\n\",\n",
    "    \"High margin:\\t\",  V_O_high  * 1e3 * gain, \" mV\\t(\", 100. * V_O_high  / V_Onom, \"%)\\n\",\n",
    "    \"Total margin:\\t\", V_O_total * 1e3 * gain, \" mV\\t(\", 100. * V_O_total / V_Onom, \"%)\");"
   ]
  },
  {
   "cell_type": "markdown",
   "metadata": {},
   "source": [
    "### `LM4041-ADJ` resistor selection"
   ]
  },
  {
   "cell_type": "code",
   "execution_count": 369,
   "metadata": {},
   "outputs": [
    {
     "name": "stdout",
     "output_type": "stream",
     "text": [
      "Best resistor for the LM4041-ADJ:\n",
      "R_ref:\t2.7 kΩ\n",
      "I_ref:\t1.240740740740741 mA\t(-1.3572578789970056%)\n",
      "Power:\t4.156481481481482 mW\n"
     ]
    }
   ],
   "source": [
    "Vcc_ref = 5.; # V\n",
    "V_R_ref = Vcc_ref - V_Onom; # V\n",
    "R_load = R1 + RV_off + R2; # Ω\n",
    "I_load = V_Onom / R_load; # A\n",
    "I_Q = 1e-3; # A\n",
    "I_t = I_Q + I_load;\n",
    "R_ref = nearest(E_series, V_R_ref / I_t); # Ω\n",
    "I_ref = V_R_ref / R_ref; # A\n",
    "println(\"Best resistor for the LM4041-ADJ:\\n\",\n",
    "    \"R_ref:\\t\", R_ref / 1e3, \" kΩ\\n\",\n",
    "    \"I_ref:\\t\", I_ref * 1e3, \" mA\\t(\", 100. * (I_ref - I_t) / I_t, \"%)\\n\",\n",
    "    \"Power:\\t\", V_R_ref * I_ref * 1e3, \" mW\");"
   ]
  },
  {
   "cell_type": "markdown",
   "metadata": {},
   "source": [
    "## Gain component selection calculations"
   ]
  },
  {
   "cell_type": "markdown",
   "metadata": {},
   "source": [
    "Selection parameters."
   ]
  },
  {
   "cell_type": "code",
   "execution_count": 370,
   "metadata": {},
   "outputs": [
    {
     "name": "stdout",
     "output_type": "stream",
     "text": [
      "We want a resistor divider with a gain of 0.44000000000000006 V/V and 1.0% nominal tolerance.\n"
     ]
    }
   ],
   "source": [
    "div_tolerance = 1.; # %\n",
    "RV_gain = 1.0e3 # Ω\n",
    "div_nom = 1. / gain;\n",
    "println(\"We want a resistor divider with a gain of \", div_nom, \" V/V and \", div_tolerance, \"% nominal tolerance.\");"
   ]
  },
  {
   "cell_type": "markdown",
   "metadata": {},
   "source": [
    "Calculate the best resistors to choose to give the best nominal resistor divider."
   ]
  },
  {
   "cell_type": "code",
   "execution_count": 371,
   "metadata": {},
   "outputs": [
    {
     "data": {
      "text/plain": [
       "11-element Array{Array{Float64,1},1}:\n",
       " [0.44, 3.9, 5.1]    \n",
       " [0.440367, 4.3, 5.6]\n",
       " [0.44086, 3.6, 4.7] \n",
       " [0.439024, 1.3, 1.8]\n",
       " [0.438596, 2.0, 2.7]\n",
       " [0.438356, 2.7, 3.6]\n",
       " [0.44186, 3.3, 4.3] \n",
       " [0.442308, 1.8, 2.4]\n",
       " [0.4375, 1.6, 2.2]  \n",
       " [0.436975, 4.7, 6.2]\n",
       " [0.443038, 3.0, 3.9]"
      ]
     },
     "metadata": {},
     "output_type": "display_data"
    },
    {
     "name": "stdout",
     "output_type": "stream",
     "text": [
      "Best values:\n",
      "Ra: 5.1 kΩ\n",
      "Rb: 3.9 kΩ\n"
     ]
    }
   ],
   "source": [
    "offset_divider(x, y, off) = (x + 0.5 * off) / (y + x + off);\n",
    "# Divide RV_gain by 1e3 so that it is at the same scale as the E-series values.\n",
    "gain_divs     = combinations(E_series, (x, y) -> offset_divider(x, y, RV_gain / 1e3)); # [[Ω/Ω, Ω, Ω]]. [[ratio, Rb, Ra]]\n",
    "gain_divs_tol = filter(x -> div_tolerance / 100. > abs(1. - x[1] / div_nom), gain_divs); # [[Ω/Ω, Ω, Ω]]\n",
    "gain_divs_s   = sort(gain_divs_tol, lt = (x, y) -> isless(abs(x[1] - div_nom), abs(y[1] - div_nom))); # [[Ω/Ω, Ω, Ω]]\n",
    "if (length(gain_divs_s) > 0)\n",
    "    Ra = gain_divs_s[1][3] * 1e3; # Ω\n",
    "    Rb = gain_divs_s[1][2] * 1e3; # Ω\n",
    "    display(gain_divs_s);\n",
    "    println(\"Best values:\\n\",\n",
    "        \"Ra: \", Ra / 1e3, \" kΩ\\n\",\n",
    "        \"Rb: \", Rb / 1e3, \" kΩ\");\n",
    "else\n",
    "    println(\"No combinations give a \", div_tolerance, \"% tolerance.\");\n",
    "end"
   ]
  },
  {
   "cell_type": "markdown",
   "metadata": {},
   "source": [
    "Calculate the margins of adjustability when a potentiometer is inserted between the two resistors."
   ]
  },
  {
   "cell_type": "code",
   "execution_count": 372,
   "metadata": {},
   "outputs": [
    {
     "name": "stdout",
     "output_type": "stream",
     "text": [
      "Gain margins for a 1.0 kΩ potentiometer:\n",
      "Low margin:\t-50.00000000000004 mV\t(-11.363636363636372%)\n",
      "High margin:\t49.999999999999936 mV\t(11.363636363636346%)\n",
      "Total margin:\t99.99999999999997 mV\t(22.72727272727272%)\n"
     ]
    }
   ],
   "source": [
    "div_min   = Rb / (Ra + Rb + RV_gain);\n",
    "div_max   = (Rb + RV_gain) / (Ra + Rb + RV_gain);\n",
    "div_low   = div_min  - div_nom; # V. Negative margin away from V_Onom\n",
    "div_high  = div_max  - div_nom; # V. Positive margin away from V_Onom\n",
    "div_total = div_high - div_low; # V. Total argin away from V_Onom\n",
    "println(\"Gain margins for a \", RV_gain / 1e3, \" kΩ potentiometer:\\n\",\n",
    "    \"Low margin:\\t\",   div_low   * 1e3, \" mV\\t(\", 100. * div_low   / div_nom, \"%)\\n\",\n",
    "    \"High margin:\\t\",  div_high  * 1e3, \" mV\\t(\", 100. * div_high  / div_nom, \"%)\\n\",\n",
    "    \"Total margin:\\t\", div_total * 1e3, \" mV\\t(\", 100. * div_total / div_nom, \"%)\");"
   ]
  }
 ],
 "metadata": {
  "kernelspec": {
   "display_name": "Julia 1.1.0",
   "language": "julia",
   "name": "julia-1.1"
  },
  "language_info": {
   "file_extension": ".jl",
   "mimetype": "application/julia",
   "name": "julia",
   "version": "1.1.0"
  }
 },
 "nbformat": 4,
 "nbformat_minor": 2
}
